{
 "cells": [
  {
   "cell_type": "markdown",
   "metadata": {},
   "source": [
    "## Data Gathering - Reddit\n",
    "\n",
    "This section of code is used to gather reddit data. PMAW is used, and can be found at [https://github.com/mattpodolak/pmaw ](https://github.com/mattpodolak/pmaw ).\n",
    "\n",
    "```python\n",
    "from pmaw import PushshiftAPI\n",
    "````\n",
    "#### Pulling Reddit posts\n",
    "\n",
    "```python\n",
    "api = PushshiftAPI()\n",
    "\n",
    "all_submissions = api.search_submissions(subreddit=\"disney\", limit=None)\n",
    "all_sub_df = pd.DataFrame(all_submissions)\n",
    "all_sub_df.to_csv('./data/disney_all_subs.csv', header=True, index=False, columns=list(all_sub_df.axes[1]))\n",
    "````\n",
    "#### Pulling Reddit comments\n",
    "\n",
    "```python\n",
    "comments = api.search_comments(subreddit=\"disney\", limit=None)\n",
    "comments_df = pd.DataFrame(comments)\n",
    "comments_df.to_csv('./data/disney_comments.csv', header=True, index=False, columns=list(comments_df.axes[1]))\n",
    "````"
   ]
  },
  {
   "cell_type": "markdown",
   "metadata": {},
   "source": [
    "## Data Gathering - Finance\n",
    "\n",
    "This section of code is used to gather stock price data. For this, yfinance is used, info for which can be found at [https://pypi.org/project/yfinance/](https://pypi.org/project/yfinance/).\n",
    "\n",
    "```python\n",
    "!pip install yfinance\n",
    "\n",
    "import yfinance as yf\n",
    "import pandas as pd\n",
    "import matplotlib.pyplot as plt\n",
    "\n",
    "def getFinanceData(stock_name, output_file, start_date, end_date):\n",
    "  # get stock prices\n",
    "  msft = yf.Ticker(stock_name)\n",
    "  hist = msft.history(period=\"max\")\n",
    "  data = yf.download(stock_name, start=start_date, end=end_date)\n",
    "  # write output csv\n",
    "  data.to_csv(output_file, header=True, index=False, columns=list(data.axes[1]))\n",
    "  return data\n",
    "\n",
    "````\n",
    "\n",
    "#### Example code\n",
    "```python\n",
    "# Test of modularized content collection\n",
    "\n",
    "stock_name = 'DIS'\n",
    "output_file = 'raw_disney_finance.csv'\n",
    "start_date = '2000-01-01'\n",
    "end_date = '2021-11-15'\n",
    "\n",
    "raw_finance_df = getFinanceData(stock_name, output_file, start_date, end_date)\n",
    "plt.plot(data.index, raw_finance_df['Close'])\n",
    "````"
   ]
  },
  {
   "cell_type": "markdown",
   "metadata": {},
   "source": [
    "## Preliminary analysis of Reddit posts\n",
    "\n",
    "The goal of our project is to predict future Disney (DIS) stock prices based on historical reddit post sentiment analysis and stock prices. Reddit data is separated into two parts: Reddit posts and their associated comments.\n",
    "\n",
    "Our sentiment analysis was performed on the comments of posts because comments better capture user reactions to a post topic.\n",
    "\n",
    "Before jumping into the sentiment analysis of comments, we performed linear regressions of DIS stock prices as a function of Reddit post scores and the number of comments associated with each post. We did this for our preliminary analysis because reddit posts are a smaller dataset than their associated comments and we wanted an initial impression of whether or not Reddit post metrics had any correlation with company stock prices."
   ]
  },
  {
   "cell_type": "code",
   "execution_count": null,
   "metadata": {},
   "outputs": [],
   "source": [
    "import pandas as pd\n",
    "import matplotlib.pyplot as plt\n",
    "import numpy as np\n",
    "from datetime import datetime\n",
    "from scipy.stats import linregress"
   ]
  },
  {
   "cell_type": "code",
   "execution_count": 2,
   "metadata": {},
   "outputs": [
    {
     "name": "stderr",
     "output_type": "stream",
     "text": [
      "D:\\anaconda3\\lib\\site-packages\\IPython\\core\\interactiveshell.py:3444: DtypeWarning: Columns (0,1,4,5,6,8,9,10,11,12,16,18,19,20,21,22,24,25,26,27,28,29,30,31,35,37,39,43,44,49,53,56,58,59,60,65,66,67,68,69,74,75,76,77,78,79,80,81,83,85,87,88,89,90,91,92,93,94,95) have mixed types.Specify dtype option on import or set low_memory=False.\n",
      "  exec(code_obj, self.user_global_ns, self.user_ns)\n",
      "D:\\anaconda3\\lib\\site-packages\\IPython\\core\\interactiveshell.py:3444: DtypeWarning: Columns (0,1,4,6,8,9,10,11,12,16,18,19,20,21,22,23,25,26,28,29,31,32,33,34,35,39,41,43,47,48,49,53,57,60,61,63,64,67,68,69,70,71,76,77,79,80,81,82,83,84,87,89,90,91,92,93,94,95,100,101) have mixed types.Specify dtype option on import or set low_memory=False.\n",
      "  exec(code_obj, self.user_global_ns, self.user_ns)\n",
      "D:\\anaconda3\\lib\\site-packages\\IPython\\core\\interactiveshell.py:3444: DtypeWarning: Columns (1,9,41,55,66,72,78,80,81,82,83,84,85,88,92,94,95,96) have mixed types.Specify dtype option on import or set low_memory=False.\n",
      "  exec(code_obj, self.user_global_ns, self.user_ns)\n",
      "D:\\anaconda3\\lib\\site-packages\\IPython\\core\\interactiveshell.py:3444: DtypeWarning: Columns (9,11,12,18,21,24,29,37,45,46,59,65,74,75,76,78,79,84,85,87,88,89,93,95,98,99,101,103,107,108) have mixed types.Specify dtype option on import or set low_memory=False.\n",
      "  exec(code_obj, self.user_global_ns, self.user_ns)\n"
     ]
    }
   ],
   "source": [
    "dis_yfinance = pd.read_csv(\"data/disney_yfinance.csv\")\n",
    "dis_submissions = pd.read_csv(\"data/disney_all_sub.csv\")\n",
    "disland_submissions = pd.read_csv(\"data/disneyland_all_subs.csv\")\n",
    "displus_submissions = pd.read_csv(\"data/disneyplus_all_subs.csv\")\n",
    "pixar_submissions = pd.read_csv(\"data/pixar_all_subs.csv\")"
   ]
  },
  {
   "cell_type": "code",
   "execution_count": 3,
   "metadata": {},
   "outputs": [],
   "source": [
    "sub_list = [disland_submissions, displus_submissions, pixar_submissions]"
   ]
  },
  {
   "cell_type": "code",
   "execution_count": 4,
   "metadata": {},
   "outputs": [
    {
     "data": {
      "text/html": [
       "<div>\n",
       "<style scoped>\n",
       "    .dataframe tbody tr th:only-of-type {\n",
       "        vertical-align: middle;\n",
       "    }\n",
       "\n",
       "    .dataframe tbody tr th {\n",
       "        vertical-align: top;\n",
       "    }\n",
       "\n",
       "    .dataframe thead th {\n",
       "        text-align: right;\n",
       "    }\n",
       "</style>\n",
       "<table border=\"1\" class=\"dataframe\">\n",
       "  <thead>\n",
       "    <tr style=\"text-align: right;\">\n",
       "      <th></th>\n",
       "      <th>Date</th>\n",
       "      <th>Open</th>\n",
       "      <th>High</th>\n",
       "      <th>Low</th>\n",
       "      <th>Close</th>\n",
       "      <th>Adj Close</th>\n",
       "      <th>Volume</th>\n",
       "    </tr>\n",
       "  </thead>\n",
       "  <tbody>\n",
       "    <tr>\n",
       "      <th>0</th>\n",
       "      <td>1/3/2000</td>\n",
       "      <td>28.855125</td>\n",
       "      <td>29.533344</td>\n",
       "      <td>28.361876</td>\n",
       "      <td>29.471687</td>\n",
       "      <td>23.115255</td>\n",
       "      <td>8402230</td>\n",
       "    </tr>\n",
       "    <tr>\n",
       "      <th>1</th>\n",
       "      <td>1/4/2000</td>\n",
       "      <td>29.594999</td>\n",
       "      <td>31.444689</td>\n",
       "      <td>29.594999</td>\n",
       "      <td>31.198063</td>\n",
       "      <td>24.469284</td>\n",
       "      <td>16051191</td>\n",
       "    </tr>\n",
       "    <tr>\n",
       "      <th>2</th>\n",
       "      <td>1/5/2000</td>\n",
       "      <td>31.198063</td>\n",
       "      <td>32.677814</td>\n",
       "      <td>31.198063</td>\n",
       "      <td>32.492844</td>\n",
       "      <td>25.484806</td>\n",
       "      <td>19823822</td>\n",
       "    </tr>\n",
       "    <tr>\n",
       "      <th>3</th>\n",
       "      <td>1/6/2000</td>\n",
       "      <td>32.492844</td>\n",
       "      <td>32.677814</td>\n",
       "      <td>31.198063</td>\n",
       "      <td>31.198063</td>\n",
       "      <td>24.469284</td>\n",
       "      <td>7903193</td>\n",
       "    </tr>\n",
       "    <tr>\n",
       "      <th>4</th>\n",
       "      <td>1/7/2000</td>\n",
       "      <td>31.198063</td>\n",
       "      <td>31.691313</td>\n",
       "      <td>30.396530</td>\n",
       "      <td>30.704813</td>\n",
       "      <td>24.082420</td>\n",
       "      <td>6773543</td>\n",
       "    </tr>\n",
       "  </tbody>\n",
       "</table>\n",
       "</div>"
      ],
      "text/plain": [
       "       Date       Open       High        Low      Close  Adj Close    Volume\n",
       "0  1/3/2000  28.855125  29.533344  28.361876  29.471687  23.115255   8402230\n",
       "1  1/4/2000  29.594999  31.444689  29.594999  31.198063  24.469284  16051191\n",
       "2  1/5/2000  31.198063  32.677814  31.198063  32.492844  25.484806  19823822\n",
       "3  1/6/2000  32.492844  32.677814  31.198063  31.198063  24.469284   7903193\n",
       "4  1/7/2000  31.198063  31.691313  30.396530  30.704813  24.082420   6773543"
      ]
     },
     "execution_count": 4,
     "metadata": {},
     "output_type": "execute_result"
    }
   ],
   "source": [
    "dis_yfinance.head()"
   ]
  },
  {
   "cell_type": "code",
   "execution_count": 5,
   "metadata": {},
   "outputs": [
    {
     "data": {
      "text/html": [
       "<div>\n",
       "<style scoped>\n",
       "    .dataframe tbody tr th:only-of-type {\n",
       "        vertical-align: middle;\n",
       "    }\n",
       "\n",
       "    .dataframe tbody tr th {\n",
       "        vertical-align: top;\n",
       "    }\n",
       "\n",
       "    .dataframe thead th {\n",
       "        text-align: right;\n",
       "    }\n",
       "</style>\n",
       "<table border=\"1\" class=\"dataframe\">\n",
       "  <thead>\n",
       "    <tr style=\"text-align: right;\">\n",
       "      <th></th>\n",
       "      <th>all_awardings</th>\n",
       "      <th>allow_live_comments</th>\n",
       "      <th>author</th>\n",
       "      <th>author_flair_css_class</th>\n",
       "      <th>author_flair_richtext</th>\n",
       "      <th>author_flair_text</th>\n",
       "      <th>author_flair_type</th>\n",
       "      <th>author_fullname</th>\n",
       "      <th>author_patreon_flair</th>\n",
       "      <th>author_premium</th>\n",
       "      <th>...</th>\n",
       "      <th>brand_safe</th>\n",
       "      <th>rte_mode</th>\n",
       "      <th>author_id</th>\n",
       "      <th>previous_visits</th>\n",
       "      <th>suggested_sort</th>\n",
       "      <th>author_created_utc</th>\n",
       "      <th>approved_at_utc</th>\n",
       "      <th>banned_at_utc</th>\n",
       "      <th>view_count</th>\n",
       "      <th>creation_date</th>\n",
       "    </tr>\n",
       "  </thead>\n",
       "  <tbody>\n",
       "    <tr>\n",
       "      <th>0</th>\n",
       "      <td>[]</td>\n",
       "      <td>False</td>\n",
       "      <td>The-Remix-God-ALT</td>\n",
       "      <td>0</td>\n",
       "      <td>[]</td>\n",
       "      <td>0</td>\n",
       "      <td>text</td>\n",
       "      <td>t2_8b0yo2pg</td>\n",
       "      <td>False</td>\n",
       "      <td>False</td>\n",
       "      <td>...</td>\n",
       "      <td>0</td>\n",
       "      <td>0</td>\n",
       "      <td>0</td>\n",
       "      <td>0</td>\n",
       "      <td>0</td>\n",
       "      <td>0.0</td>\n",
       "      <td>0</td>\n",
       "      <td>0</td>\n",
       "      <td>0</td>\n",
       "      <td>01-10-2021</td>\n",
       "    </tr>\n",
       "    <tr>\n",
       "      <th>1</th>\n",
       "      <td>[]</td>\n",
       "      <td>False</td>\n",
       "      <td>Supershlee777</td>\n",
       "      <td>0</td>\n",
       "      <td>[]</td>\n",
       "      <td>0</td>\n",
       "      <td>text</td>\n",
       "      <td>t2_7zle95u7</td>\n",
       "      <td>False</td>\n",
       "      <td>False</td>\n",
       "      <td>...</td>\n",
       "      <td>0</td>\n",
       "      <td>0</td>\n",
       "      <td>0</td>\n",
       "      <td>0</td>\n",
       "      <td>0</td>\n",
       "      <td>0.0</td>\n",
       "      <td>0</td>\n",
       "      <td>0</td>\n",
       "      <td>0</td>\n",
       "      <td>01-10-2021</td>\n",
       "    </tr>\n",
       "    <tr>\n",
       "      <th>2</th>\n",
       "      <td>[]</td>\n",
       "      <td>False</td>\n",
       "      <td>theagileartist</td>\n",
       "      <td>0</td>\n",
       "      <td>[]</td>\n",
       "      <td>0</td>\n",
       "      <td>text</td>\n",
       "      <td>t2_7ohoma2p</td>\n",
       "      <td>False</td>\n",
       "      <td>False</td>\n",
       "      <td>...</td>\n",
       "      <td>0</td>\n",
       "      <td>0</td>\n",
       "      <td>0</td>\n",
       "      <td>0</td>\n",
       "      <td>0</td>\n",
       "      <td>0.0</td>\n",
       "      <td>0</td>\n",
       "      <td>0</td>\n",
       "      <td>0</td>\n",
       "      <td>01-10-2021</td>\n",
       "    </tr>\n",
       "    <tr>\n",
       "      <th>3</th>\n",
       "      <td>[]</td>\n",
       "      <td>False</td>\n",
       "      <td>PeachyLeee</td>\n",
       "      <td>0</td>\n",
       "      <td>[]</td>\n",
       "      <td>0</td>\n",
       "      <td>text</td>\n",
       "      <td>t2_684v8y3b</td>\n",
       "      <td>False</td>\n",
       "      <td>False</td>\n",
       "      <td>...</td>\n",
       "      <td>0</td>\n",
       "      <td>0</td>\n",
       "      <td>0</td>\n",
       "      <td>0</td>\n",
       "      <td>0</td>\n",
       "      <td>0.0</td>\n",
       "      <td>0</td>\n",
       "      <td>0</td>\n",
       "      <td>0</td>\n",
       "      <td>01-10-2021</td>\n",
       "    </tr>\n",
       "    <tr>\n",
       "      <th>4</th>\n",
       "      <td>[]</td>\n",
       "      <td>False</td>\n",
       "      <td>artsychimichanga</td>\n",
       "      <td>0</td>\n",
       "      <td>[]</td>\n",
       "      <td>0</td>\n",
       "      <td>text</td>\n",
       "      <td>t2_50qxngv9</td>\n",
       "      <td>False</td>\n",
       "      <td>False</td>\n",
       "      <td>...</td>\n",
       "      <td>0</td>\n",
       "      <td>0</td>\n",
       "      <td>0</td>\n",
       "      <td>0</td>\n",
       "      <td>0</td>\n",
       "      <td>0.0</td>\n",
       "      <td>0</td>\n",
       "      <td>0</td>\n",
       "      <td>0</td>\n",
       "      <td>01-10-2021</td>\n",
       "    </tr>\n",
       "  </tbody>\n",
       "</table>\n",
       "<p>5 rows × 101 columns</p>\n",
       "</div>"
      ],
      "text/plain": [
       "  all_awardings allow_live_comments             author author_flair_css_class  \\\n",
       "0            []               False  The-Remix-God-ALT                      0   \n",
       "1            []               False      Supershlee777                      0   \n",
       "2            []               False     theagileartist                      0   \n",
       "3            []               False         PeachyLeee                      0   \n",
       "4            []               False   artsychimichanga                      0   \n",
       "\n",
       "  author_flair_richtext author_flair_text author_flair_type author_fullname  \\\n",
       "0                    []                 0              text     t2_8b0yo2pg   \n",
       "1                    []                 0              text     t2_7zle95u7   \n",
       "2                    []                 0              text     t2_7ohoma2p   \n",
       "3                    []                 0              text     t2_684v8y3b   \n",
       "4                    []                 0              text     t2_50qxngv9   \n",
       "\n",
       "  author_patreon_flair author_premium  ... brand_safe rte_mode author_id  \\\n",
       "0                False          False  ...          0        0         0   \n",
       "1                False          False  ...          0        0         0   \n",
       "2                False          False  ...          0        0         0   \n",
       "3                False          False  ...          0        0         0   \n",
       "4                False          False  ...          0        0         0   \n",
       "\n",
       "   previous_visits suggested_sort author_created_utc approved_at_utc  \\\n",
       "0                0              0                0.0               0   \n",
       "1                0              0                0.0               0   \n",
       "2                0              0                0.0               0   \n",
       "3                0              0                0.0               0   \n",
       "4                0              0                0.0               0   \n",
       "\n",
       "  banned_at_utc view_count creation_date  \n",
       "0             0          0    01-10-2021  \n",
       "1             0          0    01-10-2021  \n",
       "2             0          0    01-10-2021  \n",
       "3             0          0    01-10-2021  \n",
       "4             0          0    01-10-2021  \n",
       "\n",
       "[5 rows x 101 columns]"
      ]
     },
     "execution_count": 5,
     "metadata": {},
     "output_type": "execute_result"
    }
   ],
   "source": [
    "dis_submissions.head()"
   ]
  },
  {
   "cell_type": "markdown",
   "metadata": {},
   "source": [
    "## Append parsed date columns to subreddit and stock datasets\n",
    "\n",
    "Raw Reddit data stores post dates in utc. Here, we append a readable parsed date column to the loaded dataset and stock dataset so that they have matching date formats.\n",
    "\n",
    "### Function to append a readable creation date column to subreddit df"
   ]
  },
  {
   "cell_type": "code",
   "execution_count": null,
   "metadata": {},
   "outputs": [],
   "source": [
    "dis_submissions['created_utc']"
   ]
  },
  {
   "cell_type": "code",
   "execution_count": 7,
   "metadata": {},
   "outputs": [],
   "source": [
    "def create_date_reddit(reddit_df):\n",
    "    sub_dates = []\n",
    "\n",
    "    for _ in reddit_df['created_utc']:\n",
    "        fts = datetime.utcfromtimestamp(_).strftime('%m-%d-%Y')\n",
    "        sub_dates.append(fts)\n",
    "\n",
    "    # Appends new column to dataframe, contains readable string date-times\n",
    "    reddit_df['creation_date'] = sub_dates\n",
    "    \n",
    "    return(1)"
   ]
  },
  {
   "cell_type": "code",
   "execution_count": 8,
   "metadata": {},
   "outputs": [
    {
     "data": {
      "text/plain": [
       "1"
      ]
     },
     "execution_count": 8,
     "metadata": {},
     "output_type": "execute_result"
    }
   ],
   "source": [
    "create_date_reddit(dis_submissions)"
   ]
  },
  {
   "cell_type": "code",
   "execution_count": 9,
   "metadata": {},
   "outputs": [],
   "source": [
    "for _ in sub_list:\n",
    "    create_date_reddit(_)"
   ]
  },
  {
   "cell_type": "code",
   "execution_count": 10,
   "metadata": {},
   "outputs": [
    {
     "data": {
      "text/plain": [
       "0        01-10-2021\n",
       "1        01-10-2021\n",
       "2        01-10-2021\n",
       "3        01-10-2021\n",
       "4        01-10-2021\n",
       "            ...    \n",
       "80255    12-05-2014\n",
       "80256    12-05-2014\n",
       "80257    12-05-2014\n",
       "80258    12-05-2014\n",
       "80259    12-05-2014\n",
       "Name: creation_date, Length: 80260, dtype: object"
      ]
     },
     "execution_count": 10,
     "metadata": {},
     "output_type": "execute_result"
    }
   ],
   "source": [
    "dis_submissions['creation_date']"
   ]
  },
  {
   "cell_type": "markdown",
   "metadata": {},
   "source": [
    "### Function to append parsed dates columns for yfinance df"
   ]
  },
  {
   "cell_type": "code",
   "execution_count": 11,
   "metadata": {},
   "outputs": [],
   "source": [
    "def yfi_parsed_dates(df):\n",
    "    parsed_dates = []\n",
    "\n",
    "    for _ in df['Date']:\n",
    "        if '-' in _:\n",
    "            y_datetime_object = datetime.strptime(_, '%Y-%m-%d')\n",
    "            \n",
    "        elif '/' in _:\n",
    "            y_datetime_object = datetime.strptime(_, '%m/%d/%Y')\n",
    "    \n",
    "        parsed_dates.append(y_datetime_object)\n",
    "    \n",
    "    df['parsed_dates'] = parsed_dates"
   ]
  },
  {
   "cell_type": "code",
   "execution_count": 12,
   "metadata": {},
   "outputs": [],
   "source": [
    "yfi_parsed_dates(dis_yfinance)"
   ]
  },
  {
   "cell_type": "code",
   "execution_count": 13,
   "metadata": {},
   "outputs": [],
   "source": [
    "disland_yfinance = dis_yfinance.copy()\n",
    "displus_yfinance = dis_yfinance.copy()\n",
    "dispix_yfinance = dis_yfinance.copy()"
   ]
  },
  {
   "cell_type": "code",
   "execution_count": 14,
   "metadata": {},
   "outputs": [
    {
     "data": {
      "text/html": [
       "<div>\n",
       "<style scoped>\n",
       "    .dataframe tbody tr th:only-of-type {\n",
       "        vertical-align: middle;\n",
       "    }\n",
       "\n",
       "    .dataframe tbody tr th {\n",
       "        vertical-align: top;\n",
       "    }\n",
       "\n",
       "    .dataframe thead th {\n",
       "        text-align: right;\n",
       "    }\n",
       "</style>\n",
       "<table border=\"1\" class=\"dataframe\">\n",
       "  <thead>\n",
       "    <tr style=\"text-align: right;\">\n",
       "      <th></th>\n",
       "      <th>Date</th>\n",
       "      <th>Open</th>\n",
       "      <th>High</th>\n",
       "      <th>Low</th>\n",
       "      <th>Close</th>\n",
       "      <th>Adj Close</th>\n",
       "      <th>Volume</th>\n",
       "      <th>parsed_dates</th>\n",
       "    </tr>\n",
       "  </thead>\n",
       "  <tbody>\n",
       "    <tr>\n",
       "      <th>0</th>\n",
       "      <td>1/3/2000</td>\n",
       "      <td>28.855125</td>\n",
       "      <td>29.533344</td>\n",
       "      <td>28.361876</td>\n",
       "      <td>29.471687</td>\n",
       "      <td>23.115255</td>\n",
       "      <td>8402230</td>\n",
       "      <td>2000-01-03</td>\n",
       "    </tr>\n",
       "    <tr>\n",
       "      <th>1</th>\n",
       "      <td>1/4/2000</td>\n",
       "      <td>29.594999</td>\n",
       "      <td>31.444689</td>\n",
       "      <td>29.594999</td>\n",
       "      <td>31.198063</td>\n",
       "      <td>24.469284</td>\n",
       "      <td>16051191</td>\n",
       "      <td>2000-01-04</td>\n",
       "    </tr>\n",
       "    <tr>\n",
       "      <th>2</th>\n",
       "      <td>1/5/2000</td>\n",
       "      <td>31.198063</td>\n",
       "      <td>32.677814</td>\n",
       "      <td>31.198063</td>\n",
       "      <td>32.492844</td>\n",
       "      <td>25.484806</td>\n",
       "      <td>19823822</td>\n",
       "      <td>2000-01-05</td>\n",
       "    </tr>\n",
       "    <tr>\n",
       "      <th>3</th>\n",
       "      <td>1/6/2000</td>\n",
       "      <td>32.492844</td>\n",
       "      <td>32.677814</td>\n",
       "      <td>31.198063</td>\n",
       "      <td>31.198063</td>\n",
       "      <td>24.469284</td>\n",
       "      <td>7903193</td>\n",
       "      <td>2000-01-06</td>\n",
       "    </tr>\n",
       "    <tr>\n",
       "      <th>4</th>\n",
       "      <td>1/7/2000</td>\n",
       "      <td>31.198063</td>\n",
       "      <td>31.691313</td>\n",
       "      <td>30.396530</td>\n",
       "      <td>30.704813</td>\n",
       "      <td>24.082420</td>\n",
       "      <td>6773543</td>\n",
       "      <td>2000-01-07</td>\n",
       "    </tr>\n",
       "  </tbody>\n",
       "</table>\n",
       "</div>"
      ],
      "text/plain": [
       "       Date       Open       High        Low      Close  Adj Close    Volume  \\\n",
       "0  1/3/2000  28.855125  29.533344  28.361876  29.471687  23.115255   8402230   \n",
       "1  1/4/2000  29.594999  31.444689  29.594999  31.198063  24.469284  16051191   \n",
       "2  1/5/2000  31.198063  32.677814  31.198063  32.492844  25.484806  19823822   \n",
       "3  1/6/2000  32.492844  32.677814  31.198063  31.198063  24.469284   7903193   \n",
       "4  1/7/2000  31.198063  31.691313  30.396530  30.704813  24.082420   6773543   \n",
       "\n",
       "  parsed_dates  \n",
       "0   2000-01-03  \n",
       "1   2000-01-04  \n",
       "2   2000-01-05  \n",
       "3   2000-01-06  \n",
       "4   2000-01-07  "
      ]
     },
     "execution_count": 14,
     "metadata": {},
     "output_type": "execute_result"
    }
   ],
   "source": [
    "dis_yfinance.head()"
   ]
  },
  {
   "cell_type": "markdown",
   "metadata": {},
   "source": [
    "### Function to append parsed dates column for subreddit dfs"
   ]
  },
  {
   "cell_type": "code",
   "execution_count": 15,
   "metadata": {},
   "outputs": [],
   "source": [
    "def red_parsed_dates(df):\n",
    "    parsed_dates = []\n",
    "    for _ in df['creation_date']:\n",
    "        red_datetime_object = datetime.strptime(_, '%m-%d-%Y')\n",
    "        parsed_dates.append(red_datetime_object)\n",
    "    df['parsed_dates'] = parsed_dates\n",
    "    \n",
    "    return(1)"
   ]
  },
  {
   "cell_type": "code",
   "execution_count": 16,
   "metadata": {},
   "outputs": [
    {
     "data": {
      "text/plain": [
       "1"
      ]
     },
     "execution_count": 16,
     "metadata": {},
     "output_type": "execute_result"
    }
   ],
   "source": [
    "red_parsed_dates(dis_submissions)"
   ]
  },
  {
   "cell_type": "code",
   "execution_count": 17,
   "metadata": {},
   "outputs": [],
   "source": [
    "for _ in sub_list:\n",
    "    red_parsed_dates(_)"
   ]
  },
  {
   "cell_type": "markdown",
   "metadata": {},
   "source": [
    "## Match date ranges of yfinance and subreddit posts\n",
    "\n",
    "For our linear regression we want stock prices and Reddit post values of the same dates."
   ]
  },
  {
   "cell_type": "code",
   "execution_count": 18,
   "metadata": {},
   "outputs": [
    {
     "data": {
      "text/plain": [
       "80259   2014-12-05\n",
       "80258   2014-12-05\n",
       "80248   2014-12-05\n",
       "80250   2014-12-05\n",
       "80251   2014-12-05\n",
       "           ...    \n",
       "904     2021-12-04\n",
       "903     2021-12-04\n",
       "902     2021-12-04\n",
       "901     2021-12-04\n",
       "900     2021-12-04\n",
       "Name: parsed_dates, Length: 80260, dtype: datetime64[ns]"
      ]
     },
     "execution_count": 18,
     "metadata": {},
     "output_type": "execute_result"
    }
   ],
   "source": [
    "dis_submissions['parsed_dates'].sort_values()"
   ]
  },
  {
   "cell_type": "code",
   "execution_count": 19,
   "metadata": {},
   "outputs": [
    {
     "data": {
      "text/plain": [
       "0      2000-01-03\n",
       "1      2000-01-04\n",
       "2      2000-01-05\n",
       "3      2000-01-06\n",
       "4      2000-01-07\n",
       "          ...    \n",
       "5488   2021-10-25\n",
       "5489   2021-10-26\n",
       "5490   2021-10-27\n",
       "5491   2021-10-28\n",
       "5492   2021-10-29\n",
       "Name: parsed_dates, Length: 5493, dtype: datetime64[ns]"
      ]
     },
     "execution_count": 19,
     "metadata": {},
     "output_type": "execute_result"
    }
   ],
   "source": [
    "dis_yfinance['parsed_dates']"
   ]
  },
  {
   "cell_type": "code",
   "execution_count": 20,
   "metadata": {},
   "outputs": [],
   "source": [
    "def match_date_range(yfinance_df, reddit_df):\n",
    "\n",
    "    reddit_begin = reddit_df['parsed_dates'].iloc[-1]\n",
    "    reddit_end = reddit_df['parsed_dates'].sort_values().iloc[0]\n",
    "    yahoo_end = yfinance_df['parsed_dates'].iloc[-1]\n",
    "    \n",
    "    reddit_df = reddit_df[(reddit_df['parsed_dates'] <= yahoo_end)]\n",
    "    yfinance_df = yfinance_df[(yfinance_df['parsed_dates'] >= reddit_begin)]\n",
    "\n",
    "    \n",
    "    return(yfinance_df, reddit_df)"
   ]
  },
  {
   "cell_type": "code",
   "execution_count": 21,
   "metadata": {},
   "outputs": [],
   "source": [
    "dis_yfinance = match_date_range(dis_yfinance, dis_submissions)[0]\n",
    "dis_submissions = match_date_range(dis_yfinance, dis_submissions)[1]"
   ]
  },
  {
   "cell_type": "code",
   "execution_count": 22,
   "metadata": {},
   "outputs": [],
   "source": [
    "disland_yfinance = match_date_range(disland_yfinance, disland_submissions)[0]\n",
    "disland_submissions = match_date_range(disland_yfinance, disland_submissions)[1]\n",
    "\n",
    "displus_yfinance = match_date_range(displus_yfinance, displus_submissions)[0]\n",
    "displus_submissions = match_date_range(displus_yfinance, displus_submissions)[1]\n",
    "\n",
    "dispix_yfinance = match_date_range(dispix_yfinance, pixar_submissions)[0]\n",
    "pixar_submissions = match_date_range(dispix_yfinance, pixar_submissions)[1]"
   ]
  },
  {
   "cell_type": "code",
   "execution_count": 23,
   "metadata": {},
   "outputs": [
    {
     "data": {
      "text/plain": [
       "80259   2014-12-05\n",
       "80248   2014-12-05\n",
       "80249   2014-12-05\n",
       "80250   2014-12-05\n",
       "80251   2014-12-05\n",
       "           ...    \n",
       "813     2021-10-29\n",
       "812     2021-10-29\n",
       "811     2021-10-29\n",
       "821     2021-10-29\n",
       "800     2021-10-29\n",
       "Name: parsed_dates, Length: 78872, dtype: datetime64[ns]"
      ]
     },
     "execution_count": 23,
     "metadata": {},
     "output_type": "execute_result"
    }
   ],
   "source": [
    "dis_submissions['parsed_dates'].sort_values()"
   ]
  },
  {
   "cell_type": "code",
   "execution_count": 24,
   "metadata": {},
   "outputs": [
    {
     "data": {
      "text/plain": [
       "3755   2014-12-05\n",
       "3756   2014-12-08\n",
       "3757   2014-12-09\n",
       "3758   2014-12-10\n",
       "3759   2014-12-11\n",
       "          ...    \n",
       "5488   2021-10-25\n",
       "5489   2021-10-26\n",
       "5490   2021-10-27\n",
       "5491   2021-10-28\n",
       "5492   2021-10-29\n",
       "Name: parsed_dates, Length: 1738, dtype: datetime64[ns]"
      ]
     },
     "execution_count": 24,
     "metadata": {},
     "output_type": "execute_result"
    }
   ],
   "source": [
    "dis_yfinance['parsed_dates']"
   ]
  },
  {
   "cell_type": "markdown",
   "metadata": {},
   "source": [
    "## Group together desired values with same dates in subreddit df\n",
    "\n",
    "There is a single closing stock price every business day, but many subreddit posts are possible on any given day. Here we group together subreddit post values of the same date."
   ]
  },
  {
   "cell_type": "code",
   "execution_count": 25,
   "metadata": {},
   "outputs": [],
   "source": [
    "def group_by_date(df):\n",
    "    reddit_sub_scores = df[['num_comments', 'score', 'parsed_dates']]\n",
    "    scores_date_grouped = reddit_sub_scores.groupby(reddit_sub_scores['parsed_dates'].dt.date, as_index=True).sum()\n",
    "    scores_date_grouped['parsed_dates'] = scores_date_grouped.index\n",
    "    scores_date_grouped_df = scores_date_grouped.set_index(np.arange(len(scores_date_grouped)))\n",
    "    \n",
    "    return(scores_date_grouped_df)"
   ]
  },
  {
   "cell_type": "code",
   "execution_count": 26,
   "metadata": {},
   "outputs": [
    {
     "data": {
      "text/html": [
       "<div>\n",
       "<style scoped>\n",
       "    .dataframe tbody tr th:only-of-type {\n",
       "        vertical-align: middle;\n",
       "    }\n",
       "\n",
       "    .dataframe tbody tr th {\n",
       "        vertical-align: top;\n",
       "    }\n",
       "\n",
       "    .dataframe thead th {\n",
       "        text-align: right;\n",
       "    }\n",
       "</style>\n",
       "<table border=\"1\" class=\"dataframe\">\n",
       "  <thead>\n",
       "    <tr style=\"text-align: right;\">\n",
       "      <th></th>\n",
       "      <th>num_comments</th>\n",
       "      <th>score</th>\n",
       "      <th>parsed_dates</th>\n",
       "    </tr>\n",
       "  </thead>\n",
       "  <tbody>\n",
       "    <tr>\n",
       "      <th>0</th>\n",
       "      <td>20</td>\n",
       "      <td>300</td>\n",
       "      <td>2014-12-05</td>\n",
       "    </tr>\n",
       "    <tr>\n",
       "      <th>1</th>\n",
       "      <td>62</td>\n",
       "      <td>448</td>\n",
       "      <td>2014-12-06</td>\n",
       "    </tr>\n",
       "    <tr>\n",
       "      <th>2</th>\n",
       "      <td>36</td>\n",
       "      <td>135</td>\n",
       "      <td>2014-12-07</td>\n",
       "    </tr>\n",
       "    <tr>\n",
       "      <th>3</th>\n",
       "      <td>62</td>\n",
       "      <td>577</td>\n",
       "      <td>2014-12-08</td>\n",
       "    </tr>\n",
       "    <tr>\n",
       "      <th>4</th>\n",
       "      <td>76</td>\n",
       "      <td>768</td>\n",
       "      <td>2014-12-09</td>\n",
       "    </tr>\n",
       "    <tr>\n",
       "      <th>...</th>\n",
       "      <td>...</td>\n",
       "      <td>...</td>\n",
       "      <td>...</td>\n",
       "    </tr>\n",
       "    <tr>\n",
       "      <th>2498</th>\n",
       "      <td>44</td>\n",
       "      <td>51</td>\n",
       "      <td>2021-10-25</td>\n",
       "    </tr>\n",
       "    <tr>\n",
       "      <th>2499</th>\n",
       "      <td>15</td>\n",
       "      <td>40</td>\n",
       "      <td>2021-10-26</td>\n",
       "    </tr>\n",
       "    <tr>\n",
       "      <th>2500</th>\n",
       "      <td>145</td>\n",
       "      <td>56</td>\n",
       "      <td>2021-10-27</td>\n",
       "    </tr>\n",
       "    <tr>\n",
       "      <th>2501</th>\n",
       "      <td>32</td>\n",
       "      <td>45</td>\n",
       "      <td>2021-10-28</td>\n",
       "    </tr>\n",
       "    <tr>\n",
       "      <th>2502</th>\n",
       "      <td>79</td>\n",
       "      <td>56</td>\n",
       "      <td>2021-10-29</td>\n",
       "    </tr>\n",
       "  </tbody>\n",
       "</table>\n",
       "<p>2503 rows × 3 columns</p>\n",
       "</div>"
      ],
      "text/plain": [
       "      num_comments  score parsed_dates\n",
       "0               20    300   2014-12-05\n",
       "1               62    448   2014-12-06\n",
       "2               36    135   2014-12-07\n",
       "3               62    577   2014-12-08\n",
       "4               76    768   2014-12-09\n",
       "...            ...    ...          ...\n",
       "2498            44     51   2021-10-25\n",
       "2499            15     40   2021-10-26\n",
       "2500           145     56   2021-10-27\n",
       "2501            32     45   2021-10-28\n",
       "2502            79     56   2021-10-29\n",
       "\n",
       "[2503 rows x 3 columns]"
      ]
     },
     "execution_count": 26,
     "metadata": {},
     "output_type": "execute_result"
    }
   ],
   "source": [
    "scores_date_grouped_df = group_by_date(dis_submissions)\n",
    "scores_date_grouped_df"
   ]
  },
  {
   "cell_type": "code",
   "execution_count": 27,
   "metadata": {},
   "outputs": [],
   "source": [
    "land_scores_date_grouped_df = group_by_date(disland_submissions)\n",
    "plus_scores_date_grouped_df = group_by_date(displus_submissions)\n",
    "pixar_scores_date_grouped_df = group_by_date(pixar_submissions)"
   ]
  },
  {
   "cell_type": "markdown",
   "metadata": {},
   "source": [
    "### Function to add weekend reddit values to mondays, then drop weekend values from subreddit df\n",
    "\n",
    "The stock market is only open on business days, but there are reddit posts every day. To deal with this, take the sum of the weekend scores and # of comments and add these to Monday. The idea is that news over the weekend affects stock prices the following business day. Then remove weekend values."
   ]
  },
  {
   "cell_type": "code",
   "execution_count": 28,
   "metadata": {},
   "outputs": [],
   "source": [
    "def group_weekend_metrics(grouped_df):\n",
    "    weekends = 0\n",
    "    weekends_coms = 0\n",
    "    i = 0\n",
    "    k = 0\n",
    "    weekend_dict = {}\n",
    "    weekend_coms_dict = {}\n",
    "    weekender = []\n",
    "    weekender_coms = []\n",
    "    dict_arr = []\n",
    "\n",
    "    for _ in np.arange(len(grouped_df)):\n",
    "        if grouped_df.iloc[_]['parsed_dates'].weekday() !=  5 and grouped_df.iloc[_]['parsed_dates'].weekday() != 6:\n",
    "            weekend_dict[grouped_df.iloc[_]['parsed_dates']] = 0\n",
    "            weekend_coms_dict[grouped_df.iloc[_]['parsed_dates']] = 0\n",
    "\n",
    "\n",
    "    for _ in np.arange(len(grouped_df)):\n",
    "        \n",
    "        if grouped_df.iloc[_]['parsed_dates'].weekday() == 5:\n",
    "            weekends += grouped_df.iloc[_]['score']\n",
    "            weekends_coms += grouped_df.iloc[_]['num_comments']\n",
    "            \n",
    "        if grouped_df.iloc[_]['parsed_dates'].weekday() == 6 and grouped_df.iloc[_ + 1]['parsed_dates'].weekday() == 0:\n",
    "            weekends += grouped_df.iloc[_]['score']\n",
    "            weekends_coms += grouped_df.iloc[_]['num_comments']\n",
    "            weekender.append(weekends)\n",
    "            weekender_coms.append(weekends_coms)\n",
    "\n",
    "        if grouped_df.iloc[_]['parsed_dates'].weekday() == 0 and grouped_df.iloc[_ - 1]['parsed_dates'].weekday() == 6:\n",
    "            monday = grouped_df.iloc[_]['score'] + 1\n",
    "            monday_coms = grouped_df.iloc[_]['num_comments'] + weekender_coms[i]\n",
    "\n",
    "            grouped_df.loc[grouped_df.index[_], 'score'] = monday\n",
    "            grouped_df.loc[grouped_df.index[_], 'num_comments'] = monday_coms\n",
    "            i += 1\n",
    "\n",
    "            weekends = 0\n",
    "            weekends_coms = 0\n",
    "\n",
    "        if grouped_df.iloc[_]['parsed_dates'].weekday() !=  5 and grouped_df.iloc[_]['parsed_dates'].weekday() != 6:\n",
    "            weekend_dict[grouped_df.iloc[_]['parsed_dates']] = (grouped_df.iloc[_]['score'])\n",
    "            weekend_coms_dict[grouped_df.iloc[_]['parsed_dates']] = (grouped_df.iloc[_]['num_comments'])\n",
    "            \n",
    "            \n",
    "            dict_arr.append(weekend_dict)\n",
    "            dict_arr.append(weekend_coms_dict)\n",
    "            \n",
    "    df = pd.DataFrame(np.arange(len(weekend_dict)))\n",
    "    df['parsed_dates'] = weekend_dict.keys()\n",
    "    df['score'] = weekend_dict.values()\n",
    "    df['num_comments'] = weekend_coms_dict.values()\n",
    "    df.drop(columns=0, inplace=True)\n",
    "        \n",
    "    return df"
   ]
  },
  {
   "cell_type": "code",
   "execution_count": 29,
   "metadata": {},
   "outputs": [
    {
     "data": {
      "text/html": [
       "<div>\n",
       "<style scoped>\n",
       "    .dataframe tbody tr th:only-of-type {\n",
       "        vertical-align: middle;\n",
       "    }\n",
       "\n",
       "    .dataframe tbody tr th {\n",
       "        vertical-align: top;\n",
       "    }\n",
       "\n",
       "    .dataframe thead th {\n",
       "        text-align: right;\n",
       "    }\n",
       "</style>\n",
       "<table border=\"1\" class=\"dataframe\">\n",
       "  <thead>\n",
       "    <tr style=\"text-align: right;\">\n",
       "      <th></th>\n",
       "      <th>parsed_dates</th>\n",
       "      <th>score</th>\n",
       "      <th>num_comments</th>\n",
       "    </tr>\n",
       "  </thead>\n",
       "  <tbody>\n",
       "    <tr>\n",
       "      <th>0</th>\n",
       "      <td>2014-12-05</td>\n",
       "      <td>300</td>\n",
       "      <td>20</td>\n",
       "    </tr>\n",
       "    <tr>\n",
       "      <th>1</th>\n",
       "      <td>2014-12-08</td>\n",
       "      <td>578</td>\n",
       "      <td>160</td>\n",
       "    </tr>\n",
       "    <tr>\n",
       "      <th>2</th>\n",
       "      <td>2014-12-09</td>\n",
       "      <td>768</td>\n",
       "      <td>76</td>\n",
       "    </tr>\n",
       "    <tr>\n",
       "      <th>3</th>\n",
       "      <td>2014-12-10</td>\n",
       "      <td>1105</td>\n",
       "      <td>143</td>\n",
       "    </tr>\n",
       "    <tr>\n",
       "      <th>4</th>\n",
       "      <td>2014-12-11</td>\n",
       "      <td>392</td>\n",
       "      <td>49</td>\n",
       "    </tr>\n",
       "  </tbody>\n",
       "</table>\n",
       "</div>"
      ],
      "text/plain": [
       "  parsed_dates  score  num_comments\n",
       "0   2014-12-05    300            20\n",
       "1   2014-12-08    578           160\n",
       "2   2014-12-09    768            76\n",
       "3   2014-12-10   1105           143\n",
       "4   2014-12-11    392            49"
      ]
     },
     "execution_count": 29,
     "metadata": {},
     "output_type": "execute_result"
    }
   ],
   "source": [
    "weekday_df = group_weekend_metrics(scores_date_grouped_df)\n",
    "weekday_df.head()"
   ]
  },
  {
   "cell_type": "code",
   "execution_count": 30,
   "metadata": {},
   "outputs": [],
   "source": [
    "land_df = group_weekend_metrics(land_scores_date_grouped_df)\n",
    "plus_df = group_weekend_metrics(plus_scores_date_grouped_df)\n",
    "pixar_df = group_weekend_metrics(pixar_scores_date_grouped_df)"
   ]
  },
  {
   "cell_type": "code",
   "execution_count": 31,
   "metadata": {},
   "outputs": [
    {
     "data": {
      "text/plain": [
       "False"
      ]
     },
     "execution_count": 31,
     "metadata": {},
     "output_type": "execute_result"
    }
   ],
   "source": [
    "len(weekday_df) == len(dis_yfinance)"
   ]
  },
  {
   "cell_type": "markdown",
   "metadata": {},
   "source": [
    "## Function to remove remaining unmatched days (Holidays and other non-business days)\n",
    "\n",
    "Remaining unmatched days are likely holidays, days that the stock market unexpectedly closed, and days without subreddit posts."
   ]
  },
  {
   "cell_type": "code",
   "execution_count": 32,
   "metadata": {},
   "outputs": [],
   "source": [
    "def match_dates(yfinance_df, reddit_df):\n",
    "    yfi_dates = list(yfinance_df['parsed_dates'])\n",
    "    reddit_dates = list(reddit_df['parsed_dates'])\n",
    "\n",
    "    drop_it_red = []\n",
    "    drop_it_yfi = []\n",
    "\n",
    "    i = 0\n",
    "    k = 0\n",
    "\n",
    "    for _ in np.arange(len(reddit_df)):\n",
    "        if reddit_df.iloc[_]['parsed_dates'] not in yfi_dates:\n",
    "            drop_it_red.append(i)\n",
    "        i += 1\n",
    "\n",
    "    reddit_df.drop(reddit_df.index[drop_it_red], inplace=True)\n",
    "\n",
    "    for _ in np.arange(len(yfinance_df)):\n",
    "        if yfinance_df.iloc[_]['parsed_dates'] not in reddit_dates:\n",
    "            drop_it_yfi.append(k)\n",
    "        k += 1\n",
    "\n",
    "    yfinance_df.drop(yfinance_df.index[drop_it_yfi], inplace=True)\n",
    "    \n",
    "    return(1)"
   ]
  },
  {
   "cell_type": "code",
   "execution_count": 33,
   "metadata": {},
   "outputs": [
    {
     "name": "stderr",
     "output_type": "stream",
     "text": [
      "C:\\Users\\Humuhumu\\AppData\\Local\\Temp/ipykernel_11284/3445221097.py:12: FutureWarning: Comparison of Timestamp with datetime.date is deprecated in order to match the standard library behavior.  In a future version these will be considered non-comparable.Use 'ts == pd.Timestamp(date)' or 'ts.date() == date' instead.\n",
      "  if reddit_df.iloc[_]['parsed_dates'] not in yfi_dates:\n",
      "C:\\Users\\Humuhumu\\AppData\\Local\\Temp/ipykernel_11284/3445221097.py:19: FutureWarning: Comparison of Timestamp with datetime.date is deprecated in order to match the standard library behavior.  In a future version these will be considered non-comparable.Use 'ts == pd.Timestamp(date)' or 'ts.date() == date' instead.\n",
      "  if yfinance_df.iloc[_]['parsed_dates'] not in reddit_dates:\n"
     ]
    },
    {
     "data": {
      "text/plain": [
       "1"
      ]
     },
     "execution_count": 33,
     "metadata": {},
     "output_type": "execute_result"
    }
   ],
   "source": [
    "match_dates(dis_yfinance, weekday_df)"
   ]
  },
  {
   "cell_type": "code",
   "execution_count": 34,
   "metadata": {},
   "outputs": [
    {
     "name": "stderr",
     "output_type": "stream",
     "text": [
      "C:\\Users\\Humuhumu\\AppData\\Local\\Temp/ipykernel_11284/3445221097.py:12: FutureWarning: Comparison of Timestamp with datetime.date is deprecated in order to match the standard library behavior.  In a future version these will be considered non-comparable.Use 'ts == pd.Timestamp(date)' or 'ts.date() == date' instead.\n",
      "  if reddit_df.iloc[_]['parsed_dates'] not in yfi_dates:\n",
      "C:\\Users\\Humuhumu\\AppData\\Local\\Temp/ipykernel_11284/3445221097.py:19: FutureWarning: Comparison of Timestamp with datetime.date is deprecated in order to match the standard library behavior.  In a future version these will be considered non-comparable.Use 'ts == pd.Timestamp(date)' or 'ts.date() == date' instead.\n",
      "  if yfinance_df.iloc[_]['parsed_dates'] not in reddit_dates:\n",
      "C:\\Users\\Humuhumu\\AppData\\Local\\Temp/ipykernel_11284/3445221097.py:12: FutureWarning: Comparison of Timestamp with datetime.date is deprecated in order to match the standard library behavior.  In a future version these will be considered non-comparable.Use 'ts == pd.Timestamp(date)' or 'ts.date() == date' instead.\n",
      "  if reddit_df.iloc[_]['parsed_dates'] not in yfi_dates:\n",
      "C:\\Users\\Humuhumu\\AppData\\Local\\Temp/ipykernel_11284/3445221097.py:19: FutureWarning: Comparison of Timestamp with datetime.date is deprecated in order to match the standard library behavior.  In a future version these will be considered non-comparable.Use 'ts == pd.Timestamp(date)' or 'ts.date() == date' instead.\n",
      "  if yfinance_df.iloc[_]['parsed_dates'] not in reddit_dates:\n",
      "C:\\Users\\Humuhumu\\AppData\\Local\\Temp/ipykernel_11284/3445221097.py:12: FutureWarning: Comparison of Timestamp with datetime.date is deprecated in order to match the standard library behavior.  In a future version these will be considered non-comparable.Use 'ts == pd.Timestamp(date)' or 'ts.date() == date' instead.\n",
      "  if reddit_df.iloc[_]['parsed_dates'] not in yfi_dates:\n",
      "C:\\Users\\Humuhumu\\AppData\\Local\\Temp/ipykernel_11284/3445221097.py:19: FutureWarning: Comparison of Timestamp with datetime.date is deprecated in order to match the standard library behavior.  In a future version these will be considered non-comparable.Use 'ts == pd.Timestamp(date)' or 'ts.date() == date' instead.\n",
      "  if yfinance_df.iloc[_]['parsed_dates'] not in reddit_dates:\n"
     ]
    },
    {
     "data": {
      "text/plain": [
       "1"
      ]
     },
     "execution_count": 34,
     "metadata": {},
     "output_type": "execute_result"
    }
   ],
   "source": [
    "match_dates(disland_yfinance, land_df)\n",
    "match_dates(displus_yfinance, plus_df)\n",
    "match_dates(dispix_yfinance, pixar_df)"
   ]
  },
  {
   "cell_type": "code",
   "execution_count": 35,
   "metadata": {},
   "outputs": [
    {
     "data": {
      "text/plain": [
       "True"
      ]
     },
     "execution_count": 35,
     "metadata": {},
     "output_type": "execute_result"
    }
   ],
   "source": [
    "len(weekday_df) == len(dis_yfinance)"
   ]
  },
  {
   "cell_type": "markdown",
   "metadata": {},
   "source": [
    "## Ticker plot of Dis prices from 12/05/2014 to 12/05/2021"
   ]
  },
  {
   "cell_type": "code",
   "execution_count": 36,
   "metadata": {},
   "outputs": [
    {
     "data": {
      "text/plain": [
       "Text(0, 0.5, 'Closing Price (USD)')"
      ]
     },
     "execution_count": 36,
     "metadata": {},
     "output_type": "execute_result"
    },
    {
     "data": {
      "image/png": "[encoded data removed]",
      "text/plain": [
       "<Figure size 1008x576 with 1 Axes>"
      ]
     },
     "metadata": {
      "needs_background": "light"
     },
     "output_type": "display_data"
    }
   ],
   "source": [
    "plt.figure(figsize=(14,8))\n",
    "\n",
    "plt.plot(dis_yfinance['parsed_dates'], dis_yfinance['Close'])\n",
    "plt.title(\"DIS Ticker\")\n",
    "plt.xlabel(\"Year\")\n",
    "plt.ylabel(\"Closing Price (USD)\")"
   ]
  },
  {
   "cell_type": "markdown",
   "metadata": {},
   "source": [
    "## Plots: Disney subreddit post scores over time"
   ]
  },
  {
   "cell_type": "code",
   "execution_count": 37,
   "metadata": {},
   "outputs": [
    {
     "data": {
      "image/png": "[encoded data removed]",
      "text/plain": [
       "<Figure size 1152x864 with 4 Axes>"
      ]
     },
     "metadata": {
      "needs_background": "light"
     },
     "output_type": "display_data"
    }
   ],
   "source": [
    "fig, axes = plt.subplots(2, 2, figsize=(16, 12))\n",
    "\n",
    "score_plots = [(\"r/disney\", weekday_df['parsed_dates'], weekday_df['score']), \n",
    "               (\"r/DisneyLand\", land_df['parsed_dates'], land_df['score']),\n",
    "               (\"r/DisneyPlus\", plus_df['parsed_dates'], plus_df['score']),\n",
    "               (\"r/Pixar\", pixar_df['parsed_dates'], pixar_df['score'])\n",
    "              ]\n",
    "\n",
    "for i, ax in enumerate(fig.axes):\n",
    "    (label, X, y) = score_plots[i]\n",
    "    ax = plt.subplot(2, 2, i+1)\n",
    "    ax.scatter(X, y)\n",
    "    ax.set_title(label)\n",
    "    ax.set_xlabel(\"Year\")\n",
    "    ax.set_ylabel(\"Score\")"
   ]
  },
  {
   "cell_type": "markdown",
   "metadata": {},
   "source": [
    "## Plots: # of comments for Disney subreddit posts over time"
   ]
  },
  {
   "cell_type": "code",
   "execution_count": 38,
   "metadata": {},
   "outputs": [
    {
     "data": {
      "image/png": "[encoded data removed]",
      "text/plain": [
       "<Figure size 1152x864 with 4 Axes>"
      ]
     },
     "metadata": {
      "needs_background": "light"
     },
     "output_type": "display_data"
    }
   ],
   "source": [
    "fig, axes = plt.subplots(2, 2, figsize=(16, 12))\n",
    "\n",
    "score_plots = [(\"r/disney\", weekday_df['parsed_dates'], weekday_df['num_comments']), \n",
    "               (\"r/DisneyLand\", land_df['parsed_dates'], land_df['num_comments']),\n",
    "               (\"r/DisneyPlus\", plus_df['parsed_dates'], plus_df['num_comments']),\n",
    "               (\"r/Pixar\", pixar_df['parsed_dates'], pixar_df['num_comments'])\n",
    "              ]\n",
    "\n",
    "for i, ax in enumerate(fig.axes):\n",
    "    (label, X, y) = score_plots[i]\n",
    "    ax = plt.subplot(2, 2, i+1)\n",
    "    ax.scatter(X, y)\n",
    "    ax.set_title(label)\n",
    "    ax.set_xlabel(\"Year\")\n",
    "    ax.set_ylabel(\"num_comments\")"
   ]
  },
  {
   "cell_type": "markdown",
   "metadata": {},
   "source": [
    "## Linear Regressions: DIS stock prices v. subreddit post scores | # of comments"
   ]
  },
  {
   "cell_type": "code",
   "execution_count": 39,
   "metadata": {},
   "outputs": [],
   "source": [
    "sub_list = [weekday_df, land_df, plus_df, pixar_df]\n",
    "disc_list = [\"r/disney\", \"r/DisneyLand\", \"r/DisneyPlus\", \"r/Pixar\"]\n",
    "yfi_list = [dis_yfinance, disland_yfinance, displus_yfinance, dispix_yfinance]"
   ]
  },
  {
   "cell_type": "code",
   "execution_count": 40,
   "metadata": {},
   "outputs": [
    {
     "name": "stdout",
     "output_type": "stream",
     "text": [
      "r/disney\n",
      "--------\n",
      "Linear regression of stock prices as function of r/disney post scores\n",
      "The slope is: -0.004172330712605523\n",
      "The Interecept is: 124.25571347906586\n",
      "The p.value is: 8.777905974278548e-18\n",
      "\n",
      "Linear regression of stock prices as function of number of comments on r/disney posts\n",
      "The slope is: -0.001574212292856976\n",
      "The Interecept is: 120.54029833002436\n",
      "The p.value is: 0.7595610808895554\n",
      "---------------------------------------------------------------------------------------------\n",
      "r/DisneyLand\n",
      "------------\n",
      "Linear regression of stock prices as function of r/DisneyLand post scores\n",
      "The slope is: 0.007544595483993475\n",
      "The Interecept is: 104.47771222246878\n",
      "The p.value is: 1.588053996069696e-13\n",
      "\n",
      "Linear regression of stock prices as function of number of comments on r/DisneyLand posts\n",
      "The slope is: 0.05561342720418271\n",
      "The Interecept is: 94.30581436036616\n",
      "The p.value is: 7.926890670251497e-113\n",
      "---------------------------------------------------------------------------------------------\n",
      "r/DisneyPlus\n",
      "------------\n",
      "Linear regression of stock prices as function of r/DisneyPlus post scores\n",
      "The slope is: 0.003413922606848821\n",
      "The Interecept is: 143.88716728311638\n",
      "The p.value is: 0.39383349071111884\n",
      "\n",
      "Linear regression of stock prices as function of number of comments on r/DisneyPlus posts\n",
      "The slope is: 0.0022192444991231465\n",
      "The Interecept is: 143.59250830190902\n",
      "The p.value is: 0.18708729614650277\n",
      "---------------------------------------------------------------------------------------------\n",
      "r/Pixar\n",
      "-------\n",
      "Linear regression of stock prices as function of r/Pixar post scores\n",
      "The slope is: 0.027472932235910325\n",
      "The Interecept is: 111.86760766141802\n",
      "The p.value is: 0.000752418853317116\n",
      "\n",
      "Linear regression of stock prices as function of number of comments on r/Pixar posts\n",
      "The slope is: 0.1948293929269567\n",
      "The Interecept is: 108.5676257071577\n",
      "The p.value is: 3.261345273882637e-39\n",
      "---------------------------------------------------------------------------------------------\n"
     ]
    }
   ],
   "source": [
    "X_score_arr = []\n",
    "X_coms_arr = []\n",
    "y_arr = []\n",
    "linreg_score_arr = []\n",
    "linreg_coms_arr = []\n",
    "\n",
    "for _ in np.arange(len(sub_list)):\n",
    "    X_score = sub_list[_]['score']\n",
    "    X_coms = sub_list[_]['num_comments']\n",
    "    y = yfi_list[_]['Close']\n",
    "    \n",
    "    linreg_score = linregress(sub_list[_]['score'], yfi_list[_]['Close'])\n",
    "    linreg_coms = linregress(sub_list[_]['num_comments'], yfi_list[_]['Close'])\n",
    "    \n",
    "    X_score_arr.append(X_score)\n",
    "    X_coms_arr.append(X_coms)\n",
    "    y_arr.append(y)\n",
    "    linreg_score_arr.append(linreg_score)\n",
    "    linreg_coms_arr.append(linreg_coms)\n",
    "    \n",
    "    print(f\"{disc_list[_]}\")\n",
    "    print(\"-\" * len(disc_list[_]))\n",
    "    print(f\"Linear regression of stock prices as function of {disc_list[_]} post scores\")\n",
    "    print(f\"The slope is: {linreg_score.slope}\")\n",
    "    print(f\"The Interecept is: {linreg_score.intercept}\")\n",
    "    print(f\"The p.value is: {linreg_score.pvalue}\\n\")\n",
    "\n",
    "    print(f\"Linear regression of stock prices as function of number of comments on {disc_list[_]} posts\")\n",
    "    print(f\"The slope is: {linreg_coms.slope}\")\n",
    "    print(f\"The Interecept is: {linreg_coms.intercept}\")\n",
    "    print(f\"The p.value is: {linreg_coms.pvalue}\")\n",
    "    print(\"---------------------------------------------------------------------------------------------\")\n"
   ]
  },
  {
   "cell_type": "markdown",
   "metadata": {},
   "source": [
    "### DIS stock prices as a function subreddit post scores"
   ]
  },
  {
   "cell_type": "code",
   "execution_count": 41,
   "metadata": {},
   "outputs": [
    {
     "data": {
      "image/png": "[encoded data removed]",
      "text/plain": [
       "<Figure size 1152x864 with 4 Axes>"
      ]
     },
     "metadata": {
      "needs_background": "light"
     },
     "output_type": "display_data"
    }
   ],
   "source": [
    "fig, axes = plt.subplots(2, 2, figsize=(16, 12))\n",
    "\n",
    "linreg_plots = [(\"r/disney\", X_score_arr[0], y_arr[0], linreg_score_arr[0]), \n",
    "               (\"r/DisneyLand\", X_score_arr[1], y_arr[1], linreg_score_arr[1]),\n",
    "               (\"r/DisneyPlus\", X_score_arr[2], y_arr[2], linreg_score_arr[2]),\n",
    "               (\"r/Pixar\", X_score_arr[3], y_arr[3], linreg_score_arr[3])\n",
    "              ]\n",
    "\n",
    "for i, ax in enumerate(fig.axes):\n",
    "    (label, X_score, y, linreg_score) = linreg_plots[i]\n",
    "    x_axis = np.arange(max(X_score))\n",
    "    y_line = linreg_score.intercept + linreg_score.slope * x_axis\n",
    "    \n",
    "    ax = plt.subplot(2, 2, i+1)\n",
    "    ax.scatter(X_score, y)\n",
    "    plt.plot(x_axis, y_line, color='red', linewidth=4, alpha=0.5)\n",
    "    ax.set_title(label + \" Linear Regression: Stock Prices v Post Scores\")\n",
    "    ax.set_xlabel(\"Post Scores\")\n",
    "    ax.set_ylabel(\"Stock Prices ($)\")"
   ]
  },
  {
   "cell_type": "markdown",
   "metadata": {},
   "source": [
    "### DIS stock prices as a function subreddit post # of comments"
   ]
  },
  {
   "cell_type": "code",
   "execution_count": null,
   "metadata": {},
   "outputs": [],
   "source": [
    "fig, axes = plt.subplots(2, 2, figsize=(16, 12))\n",
    "\n",
    "linreg_plots = [(\"r/disney\", X_coms_arr[0], y_arr[0], linreg_coms_arr[0]), \n",
    "               (\"r/DisneyLand\", X_coms_arr[1], y_arr[1], linreg_coms_arr[1]),\n",
    "               (\"r/DisneyPlus\", X_coms_arr[2], y_arr[2], linreg_coms_arr[2]),\n",
    "               (\"r/Pixar\", X_coms_arr[3], y_arr[3], linreg_coms_arr[3])\n",
    "              ]\n",
    "\n",
    "for i, ax in enumerate(fig.axes):\n",
    "    (label, X_coms, y, linreg_coms) = linreg_plots[i]\n",
    "    x_axis = np.arange(max(X_coms))\n",
    "    y_line = linreg_coms.intercept + linreg_coms.slope * x_axis\n",
    "    \n",
    "    ax = plt.subplot(2, 2, i+1)\n",
    "    ax.scatter(X_coms, y)\n",
    "    plt.plot(x_axis, y_line, color='red', linewidth=4, alpha=0.5)\n",
    "    ax.set_title(label + \" Linear Regression: Stock Prices v # of Post Comments\")\n",
    "    ax.set_xlabel(\"# of Post Comments\")\n",
    "    ax.set_ylabel(\"Stock Prices ($)\")"
   ]
  }
 ],
 "metadata": {
  "kernelspec": {
   "display_name": "Python 3 (ipykernel)",
   "language": "python",
   "name": "python3"
  },
  "language_info": {
   "codemirror_mode": {
    "name": "ipython",
    "version": 3
   },
   "file_extension": ".py",
   "mimetype": "text/x-python",
   "name": "python",
   "nbconvert_exporter": "python",
   "pygments_lexer": "ipython3",
   "version": "3.9.7"
  }
 },
 "nbformat": 4,
 "nbformat_minor": 4
}
