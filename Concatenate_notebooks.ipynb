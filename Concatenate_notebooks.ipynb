{
 "cells": [
  {
   "cell_type": "code",
   "execution_count": 3,
   "id": "c9c1bd6d",
   "metadata": {},
   "outputs": [],
   "source": [
    "import json\n",
    "\n",
    "def read_ipynb(notebook_path):\n",
    "    with open(notebook_path, 'r', encoding='utf-8') as f:\n",
    "        return json.load(f)"
   ]
  },
  {
   "cell_type": "code",
   "execution_count": 4,
   "id": "5113e942",
   "metadata": {},
   "outputs": [],
   "source": [
    "first_notebook = read_ipynb('Report_Draft.ipynb')\n",
    "second_notebook = read_ipynb('Reddit_Sentiment_vs_Stock_API.ipynb')"
   ]
  },
  {
   "cell_type": "code",
   "execution_count": 5,
   "id": "c1d7613e",
   "metadata": {},
   "outputs": [],
   "source": [
    "import copy\n",
    "final_notebook = copy.deepcopy(first_notebook)"
   ]
  },
  {
   "cell_type": "code",
   "execution_count": 6,
   "id": "77a1415c",
   "metadata": {},
   "outputs": [],
   "source": [
    "final_notebook['cells'] = first_notebook['cells'] + second_notebook['cells']"
   ]
  },
  {
   "cell_type": "code",
   "execution_count": 7,
   "id": "0d6c6851",
   "metadata": {},
   "outputs": [],
   "source": [
    "def write_ipynb(notebook, notebook_path):\n",
    "    with open(notebook_path, 'w', encoding='utf-8') as f:\n",
    "        json.dump(notebook, f)\n",
    "\n",
    "# Saving the resulting notebook\n",
    "write_ipynb(final_notebook, 'final_notebook.ipynb')"
   ]
  },
  {
   "cell_type": "code",
   "execution_count": null,
   "id": "fe730963",
   "metadata": {},
   "outputs": [],
   "source": []
  }
 ],
 "metadata": {
  "kernelspec": {
   "display_name": "Python 3 (ipykernel)",
   "language": "python",
   "name": "python3"
  },
  "language_info": {
   "codemirror_mode": {
    "name": "ipython",
    "version": 3
   },
   "file_extension": ".py",
   "mimetype": "text/x-python",
   "name": "python",
   "nbconvert_exporter": "python",
   "pygments_lexer": "ipython3",
   "version": "3.9.7"
  }
 },
 "nbformat": 4,
 "nbformat_minor": 5
}
