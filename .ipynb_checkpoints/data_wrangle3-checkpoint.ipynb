{
 "cells": [
  {
   "cell_type": "markdown",
   "id": "14b65173",
   "metadata": {},
   "source": [
    "# Final Project 438\n",
    "# Data manipulation\n",
    "# Data scraped from reddit by pushshift.io\n",
    "## use ['selftext'] to get the post text"
   ]
  },
  {
   "cell_type": "code",
   "execution_count": 2,
   "id": "7425f299",
   "metadata": {},
   "outputs": [],
   "source": [
    "import json"
   ]
  },
  {
   "cell_type": "code",
   "execution_count": 10,
   "id": "a4fb0e51",
   "metadata": {},
   "outputs": [],
   "source": [
    "# Python program to read\n",
    "# json file\n",
    " \n",
    "# Opening JSON file\n",
    "f = open('./sampleData/reddit00.json', 'r')\n",
    "# f = open('./test.json')\n",
    "\n",
    "# print(type(f))\n",
    "    \n",
    "# returns JSON object as\n",
    "# a dictionary\n",
    "data = [json.loads(line) for line in f]\n",
    "# data = json.load(f)\n",
    "\n",
    "# for key in data[0]:\n",
    "#     print(key)\n",
    "\n",
    "# print(data['post'][0]['author'])\n",
    "\n",
    "# # Iterating through the json\n",
    "# # list\n",
    "# for i in data['emp_details']:\n",
    "#     print(i)\n",
    " \n",
    "# # Closing file\n",
    "# f.close()"
   ]
  },
  {
   "cell_type": "code",
   "execution_count": 12,
   "id": "3e6a8bd5",
   "metadata": {},
   "outputs": [
    {
     "name": "stdout",
     "output_type": "stream",
     "text": [
      "all_awardings\n",
      "allow_live_comments\n",
      "archived\n",
      "author\n",
      "author_created_utc\n",
      "author_flair_background_color\n",
      "author_flair_css_class\n",
      "author_flair_richtext\n",
      "author_flair_template_id\n",
      "author_flair_text\n",
      "author_flair_text_color\n",
      "author_flair_type\n",
      "author_fullname\n",
      "author_patreon_flair\n",
      "author_premium\n",
      "can_gild\n",
      "category\n",
      "content_categories\n",
      "contest_mode\n",
      "created_utc\n",
      "discussion_type\n",
      "distinguished\n",
      "domain\n",
      "edited\n",
      "event_end\n",
      "event_is_live\n",
      "event_start\n",
      "gilded\n",
      "gildings\n",
      "hidden\n",
      "hide_score\n",
      "id\n",
      "is_created_from_ads_ui\n",
      "is_crosspostable\n",
      "is_meta\n",
      "is_original_content\n",
      "is_reddit_media_domain\n",
      "is_robot_indexable\n",
      "is_self\n",
      "is_video\n",
      "link_flair_background_color\n",
      "link_flair_css_class\n",
      "link_flair_richtext\n",
      "link_flair_template_id\n",
      "link_flair_text\n",
      "link_flair_text_color\n",
      "link_flair_type\n",
      "locked\n",
      "media\n",
      "media_embed\n",
      "media_only\n",
      "name\n",
      "no_follow\n",
      "num_comments\n",
      "num_crossposts\n",
      "over_18\n",
      "parent_whitelist_status\n",
      "permalink\n",
      "pinned\n",
      "pwls\n",
      "quarantine\n",
      "removed_by_category\n",
      "retrieved_utc\n",
      "score\n",
      "secure_media\n",
      "secure_media_embed\n",
      "selftext\n",
      "send_replies\n",
      "spoiler\n",
      "stickied\n",
      "subreddit\n",
      "subreddit_id\n",
      "subreddit_subscribers\n",
      "subreddit_type\n",
      "suggested_sort\n",
      "thumbnail\n",
      "thumbnail_height\n",
      "thumbnail_width\n",
      "title\n",
      "top_awarded_type\n",
      "total_awards_received\n",
      "treatment_tags\n",
      "upvote_ratio\n",
      "url\n",
      "whitelist_status\n",
      "wls\n"
     ]
    }
   ],
   "source": [
    "for key in data[1]:\n",
    "    print(key)"
   ]
  },
  {
   "cell_type": "code",
   "execution_count": 13,
   "id": "c209263e",
   "metadata": {},
   "outputs": [
    {
     "name": "stdout",
     "output_type": "stream",
     "text": [
      "{'all_awardings': [], 'allow_live_comments': True, 'archived': False, 'author': 'Bad54', 'author_created_utc': 1533369402, 'author_flair_background_color': 'transparent', 'author_flair_css_class': None, 'author_flair_richtext': [{'e': 'text', 't': 'Big Bad Mod '}, {'a': ':trans:', 'e': 'emoji', 'u': 'https://emoji.redditmedia.com/php8vuawrwp61_t5_46a9hz/trans'}, {'a': ':bi:', 'e': 'emoji', 'u': 'https://emoji.redditmedia.com/udwyj4nyrwp61_t5_46a9hz/bi'}, {'a': ':lesbian:', 'e': 'emoji', 'u': 'https://emoji.redditmedia.com/sixqlepurwp61_t5_46a9hz/lesbian'}], 'author_flair_template_id': '301ae574-905b-11eb-9fab-0e9d91c7ab71', 'author_flair_text': 'Big Bad Mod :trans::bi::lesbian:', 'author_flair_text_color': 'dark', 'author_flair_type': 'richtext', 'author_fullname': 't2_1x0hq5ja', 'author_patreon_flair': False, 'author_premium': False, 'can_gild': True, 'category': None, 'content_categories': None, 'contest_mode': False, 'created_utc': 1622520030, 'discussion_type': 'CHAT', 'distinguished': None, 'domain': 'self.Lezbians', 'edited': False, 'event_end': 1623124740.0, 'event_is_live': False, 'event_start': 1622520000.0, 'gilded': 0, 'gildings': {}, 'hidden': False, 'hide_score': False, 'id': 'mg71bw', 'is_created_from_ads_ui': False, 'is_crosspostable': True, 'is_meta': False, 'is_original_content': False, 'is_reddit_media_domain': False, 'is_robot_indexable': True, 'is_self': True, 'is_video': False, 'link_flair_background_color': '#1ed760', 'link_flair_css_class': '', 'link_flair_richtext': [{'e': 'text', 't': 'Pride '}, {'a': ':ainbow:', 'e': 'emoji', 'u': 'https://emoji.redditmedia.com/4gb0g140swp61_t5_46a9hz/ainbow'}, {'a': ':lesbian:', 'e': 'emoji', 'u': 'https://emoji.redditmedia.com/sixqlepurwp61_t5_46a9hz/lesbian'}, {'a': ':bi:', 'e': 'emoji', 'u': 'https://emoji.redditmedia.com/udwyj4nyrwp61_t5_46a9hz/bi'}, {'a': ':trans:', 'e': 'emoji', 'u': 'https://emoji.redditmedia.com/php8vuawrwp61_t5_46a9hz/trans'}], 'link_flair_template_id': '9b23ac42-905c-11eb-932c-0eefc805863d', 'link_flair_text': 'Pride :ainbow::lesbian::bi::trans:', 'link_flair_text_color': 'light', 'link_flair_type': 'richtext', 'locked': False, 'media': None, 'media_embed': {}, 'media_only': False, 'name': 't3_mg71bw', 'no_follow': False, 'num_comments': 0, 'num_crossposts': 0, 'over_18': False, 'parent_whitelist_status': None, 'permalink': '/r/Lezbians/comments/mg71bw/lgbt_pride_month/', 'pinned': False, 'pwls': None, 'quarantine': False, 'removed_by_category': None, 'retrieved_utc': 1623445119, 'score': 5, 'secure_media': None, 'secure_media_embed': {}, 'selftext': '# Happy Pride month all', 'send_replies': True, 'spoiler': False, 'stickied': False, 'subreddit': 'Lezbians', 'subreddit_id': 't5_46a9hz', 'subreddit_subscribers': 50, 'subreddit_type': 'public', 'suggested_sort': 'new', 'thumbnail': 'self', 'thumbnail_height': None, 'thumbnail_width': None, 'title': 'LGBT pride month', 'top_awarded_type': None, 'total_awards_received': 0, 'treatment_tags': [], 'upvote_ratio': 1.0, 'url': 'https://www.reddit.com/r/Lezbians/comments/mg71bw/lgbt_pride_month/', 'whitelist_status': None, 'wls': None}\n"
     ]
    }
   ],
   "source": [
    "print(data[1])"
   ]
  },
  {
   "cell_type": "code",
   "execution_count": 19,
   "id": "ca571970",
   "metadata": {},
   "outputs": [
    {
     "name": "stdout",
     "output_type": "stream",
     "text": [
      "# Happy Pride month all\n"
     ]
    }
   ],
   "source": [
    "print(data[1]['selftext'])"
   ]
  },
  {
   "cell_type": "code",
   "execution_count": 23,
   "id": "c171c8e9",
   "metadata": {},
   "outputs": [
    {
     "name": "stdout",
     "output_type": "stream",
     "text": [
      "{'all_awardings': [], 'allow_live_comments': True, 'archived': False, 'author': 'elliewinks30', 'author_created_utc': 1544425250, 'author_flair_background_color': 'transparent', 'author_flair_css_class': None, 'author_flair_richtext': [{'a': ':Dumbo:', 'e': 'emoji', 'u': 'https://emoji.redditmedia.com/3a3bmdod9nr11_t5_3fgl5/Dumbo'}], 'author_flair_template_id': 'ef490986-cdb1-11e8-8e9d-0eeef169ce0a', 'author_flair_text': ':Dumbo:', 'author_flair_text_color': 'dark', 'author_flair_type': 'richtext', 'author_fullname': 't2_2r8jxo1i', 'author_patreon_flair': False, 'author_premium': False, 'can_gild': True, 'category': None, 'content_categories': None, 'contest_mode': False, 'created_utc': 1622577636, 'discussion_type': None, 'distinguished': None, 'domain': 'self.disneyemojiblitz', 'edited': False, 'event_end': 1623038340.0, 'event_is_live': False, 'event_start': 1622577600.0, 'gilded': 0, 'gildings': {}, 'hidden': False, 'hide_score': False, 'id': 'nghbev', 'is_created_from_ads_ui': False, 'is_crosspostable': True, 'is_meta': False, 'is_original_content': False, 'is_reddit_media_domain': False, 'is_robot_indexable': True, 'is_self': True, 'is_video': False, 'link_flair_background_color': '', 'link_flair_css_class': None, 'link_flair_richtext': [], 'link_flair_text': None, 'link_flair_text_color': 'dark', 'link_flair_type': 'text', 'locked': False, 'media': None, 'media_embed': {}, 'media_metadata': {'be9fs0906i271': {'e': 'Image', 'id': 'be9fs0906i271', 'm': 'image/jpg', 'p': [{'u': 'https://preview.redd.it/be9fs0906i271.jpg?width=108&amp;crop=smart&amp;auto=webp&amp;s=054077248f838602bb2410b0dbedb4de8a1733e4', 'x': 108, 'y': 180}, {'u': 'https://preview.redd.it/be9fs0906i271.jpg?width=216&amp;crop=smart&amp;auto=webp&amp;s=1428abfa8490401d7c6d18f984f0df870c5dd961', 'x': 216, 'y': 360}, {'u': 'https://preview.redd.it/be9fs0906i271.jpg?width=320&amp;crop=smart&amp;auto=webp&amp;s=b984ffeb725c494d8e771cfba5935736011a5f3a', 'x': 320, 'y': 534}, {'u': 'https://preview.redd.it/be9fs0906i271.jpg?width=640&amp;crop=smart&amp;auto=webp&amp;s=fd8dd4e0a11a0cfe0084f7a4dfbf81942b0c4d4c', 'x': 640, 'y': 1068}], 's': {'u': 'https://preview.redd.it/be9fs0906i271.jpg?width=926&amp;format=pjpg&amp;auto=webp&amp;s=2ced90923915b5528998a3a516f2269c00b4397e', 'x': 926, 'y': 1546}, 'status': 'valid'}, 'f2rpsocd6i271': {'e': 'Image', 'id': 'f2rpsocd6i271', 'm': 'image/jpg', 'p': [{'u': 'https://preview.redd.it/f2rpsocd6i271.jpg?width=108&amp;crop=smart&amp;auto=webp&amp;s=8ab09a82eb70e6795f77d5d9b316f2ebd9e360eb', 'x': 108, 'y': 181}, {'u': 'https://preview.redd.it/f2rpsocd6i271.jpg?width=216&amp;crop=smart&amp;auto=webp&amp;s=71a0683c4fcf758e9839c82835b26b34f668d824', 'x': 216, 'y': 362}, {'u': 'https://preview.redd.it/f2rpsocd6i271.jpg?width=320&amp;crop=smart&amp;auto=webp&amp;s=39fd9ebae476b3a75b04a2d4f02cae97eb2ebe72', 'x': 320, 'y': 536}, {'u': 'https://preview.redd.it/f2rpsocd6i271.jpg?width=640&amp;crop=smart&amp;auto=webp&amp;s=3a3f176491e2c227783b9fd2f3d7ea8c4df27c1b', 'x': 640, 'y': 1073}], 's': {'u': 'https://preview.redd.it/f2rpsocd6i271.jpg?width=925&amp;format=pjpg&amp;auto=webp&amp;s=cf82a6d68a2ef7691e89a972288a3a81fdce71ca', 'x': 925, 'y': 1551}, 'status': 'valid'}, 'gi5zp1x16i271': {'e': 'Image', 'id': 'gi5zp1x16i271', 'm': 'image/jpg', 'p': [{'u': 'https://preview.redd.it/gi5zp1x16i271.jpg?width=108&amp;crop=smart&amp;auto=webp&amp;s=ad81f04306c636090fdc2756675dfb3bed3198f8', 'x': 108, 'y': 182}, {'u': 'https://preview.redd.it/gi5zp1x16i271.jpg?width=216&amp;crop=smart&amp;auto=webp&amp;s=1d622ca5171ca9f326a84dd8a52692adab97637e', 'x': 216, 'y': 365}, {'u': 'https://preview.redd.it/gi5zp1x16i271.jpg?width=320&amp;crop=smart&amp;auto=webp&amp;s=f4eecad40468168c41b254bf0e23cfac5e650363', 'x': 320, 'y': 541}, {'u': 'https://preview.redd.it/gi5zp1x16i271.jpg?width=640&amp;crop=smart&amp;auto=webp&amp;s=f37806b34a8244ecd73f31b9157a396dde59fdda', 'x': 640, 'y': 1083}], 's': {'u': 'https://preview.redd.it/gi5zp1x16i271.jpg?width=923&amp;format=pjpg&amp;auto=webp&amp;s=c0669d03c633ffc5589a93ad172e26c26daa9afd', 'x': 923, 'y': 1562}, 'status': 'valid'}, 'h6ekwzt46i271': {'e': 'Image', 'id': 'h6ekwzt46i271', 'm': 'image/jpg', 'p': [{'u': 'https://preview.redd.it/h6ekwzt46i271.jpg?width=108&amp;crop=smart&amp;auto=webp&amp;s=bd878520dbb5b85f8b1f12e0a197f03dd673242b', 'x': 108, 'y': 183}, {'u': 'https://preview.redd.it/h6ekwzt46i271.jpg?width=216&amp;crop=smart&amp;auto=webp&amp;s=a4a52a0f9fb28c5d3387b675a31f8e6138cf762b', 'x': 216, 'y': 366}, {'u': 'https://preview.redd.it/h6ekwzt46i271.jpg?width=320&amp;crop=smart&amp;auto=webp&amp;s=17c9a53b5daf0cae6a5dce25d71ebfeb187fbc4b', 'x': 320, 'y': 542}, {'u': 'https://preview.redd.it/h6ekwzt46i271.jpg?width=640&amp;crop=smart&amp;auto=webp&amp;s=1fb6f0631dd33bc57cdbf0d097856c574073530c', 'x': 640, 'y': 1085}], 's': {'u': 'https://preview.redd.it/h6ekwzt46i271.jpg?width=920&amp;format=pjpg&amp;auto=webp&amp;s=23c9535f9fbadf9fae9fabeff5af1b1505421678', 'x': 920, 'y': 1561}, 'status': 'valid'}, 'zq9fy8xj6i271': {'e': 'Image', 'id': 'zq9fy8xj6i271', 'm': 'image/jpg', 'p': [{'u': 'https://preview.redd.it/zq9fy8xj6i271.jpg?width=108&amp;crop=smart&amp;auto=webp&amp;s=b858f75ee6ba841c8b6d9521c2b3c858faaa8755', 'x': 108, 'y': 179}, {'u': 'https://preview.redd.it/zq9fy8xj6i271.jpg?width=216&amp;crop=smart&amp;auto=webp&amp;s=79836044e74fa59b178f60ab3c9e7c0be94bd4be', 'x': 216, 'y': 359}, {'u': 'https://preview.redd.it/zq9fy8xj6i271.jpg?width=320&amp;crop=smart&amp;auto=webp&amp;s=fdf59cec6fbbedf94f3a16f8367de1acbe381cd4', 'x': 320, 'y': 532}, {'u': 'https://preview.redd.it/zq9fy8xj6i271.jpg?width=640&amp;crop=smart&amp;auto=webp&amp;s=1b78e8466de9fd66132aefd020446c82719cd648', 'x': 640, 'y': 1065}], 's': {'u': 'https://preview.redd.it/zq9fy8xj6i271.jpg?width=936&amp;format=pjpg&amp;auto=webp&amp;s=c125b77b03884f164441a5c9f3a7220d539026c9', 'x': 936, 'y': 1559}, 'status': 'valid'}}, 'media_only': False, 'name': 't3_nghbev', 'no_follow': False, 'num_comments': 14, 'num_crossposts': 0, 'over_18': False, 'parent_whitelist_status': 'all_ads', 'permalink': '/r/disneyemojiblitz/comments/nghbev/clear_event_aladdin_multimap_clear_event_wrainbow/', 'pinned': False, 'pwls': 6, 'quarantine': False, 'removed_by_category': None, 'retrieved_utc': 1623514146, 'score': 14, 'secure_media': None, 'secure_media_embed': {}, 'selftext': 'Aladdin Multi-Map Clear Event -- **DOUBLERS REQUIRED FOR MAPS** **3, 4 &amp; 5**  \\nDates: 6-02 to 6-06  \\nEvent Emojis: Aladdin, Jasmine, Abu, Iago, Genie, Magic Carpet, Disguised Jasmine, Vacation Genie, Snake Jafar, Jafar  \\nMap Stages: 5\\n\\n&amp;#x200B;\\n\\nMap 1 - **USE ANY EMOJI YOU WANT**  \\nNumber of Missions: 6  \\nLucky Emojis: Iago, Jafar  \\nTotal number of Sand to clear: 75  \\nMission 2: 2000 Tokens  \\nMission 5: 2000 Tokens  \\nMission 6: Gold Chest\\n\\nhttps://preview.redd.it/be9fs0906i271.jpg?width=926&amp;format=pjpg&amp;auto=webp&amp;s=2ced90923915b5528998a3a516f2269c00b4397e\\n\\nMap 2 - **USE ANY EMOJI YOU WANT**  \\nNumber of Missions: 8  \\nLucky Emojis: Aladdin, Abu, Rajah, Disguised Jasmine  \\nTotal number of Sand to clear: 120  \\nMission 3: 2000 Tokens  \\nMission 4: Item Cards Chest (contains coins (1000 - 1650) + Full Power Boosts (1-2) + 4 Common Current Collection Items + 1 Rare Current Collection Item)   \\nMission 6: 3000 Tokens  \\nMission 8: Gold Box\\n\\nhttps://preview.redd.it/gi5zp1x16i271.jpg?width=923&amp;format=pjpg&amp;auto=webp&amp;s=c0669d03c633ffc5589a93ad172e26c26daa9afd\\n\\nMap 3 - **Magic Carpet Level1 or higher / Genie, Aladdin, Abu Level 3 or higher**  \\nNumber of Missions: 9  \\n**Required Level 1 or higher: Magic Carpet / Level 3 or higher: Genie, Aladdin, Abu**  \\nTotal number of Sand to clear: 180  \\nMission 3: Rare Item Cards Box (contains 1 Rare Current Collection Item + 1 Rare Current Collection Item + 1 Rare Current Collection Item + 4 Common Current Collection Items)   \\nMission 5: 3000 Tokens  \\nMission 8: 4000 Tokens  \\nMission 9: Emoji Charge\\n\\nhttps://preview.redd.it/h6ekwzt46i271.jpg?width=920&amp;format=pjpg&amp;auto=webp&amp;s=23c9535f9fbadf9fae9fabeff5af1b1505421678\\n\\nMap 4 - **Disguised Jasmine Level 1 or higher / Magic Carpet, Snake Jafar Level 2 or higher**  \\nNumber of Missions: 9  \\n**Required Level 1 or higher: Disguised Jasmine / Level 2: Magic Carpet, Snake Jafar**  \\nTotal number of Sand to clear: 240  \\nMission 5: 3000 Tokens  \\nMission 8: 4000 Tokens  \\nMission 9: One of Aladdin (20%), Jasmine (15%), Abu (15%), Iago (15%), Genie (15%), Disguised Jasmine (5%), Vacation Genie (5%), Magic Carpet (5%), Jafar (5%)\\n\\nhttps://preview.redd.it/f2rpsocd6i271.jpg?width=925&amp;format=pjpg&amp;auto=webp&amp;s=cf82a6d68a2ef7691e89a972288a3a81fdce71ca\\n\\nMap 5 - **Rajah, Vacation Genie Level 1 or higher / Aladdin, Jasmine, Abu Level 4 or higher**  \\nNumber of Missions: 11  \\n**Required Level 1 or higher: Rajah, Vacation Genie / Level 4 or higher: Aladdin, Jasmine, Abu**  \\nTotal number of Sand to clear: 335  \\nMission 3: 4000 Tokens  \\nMission 7: 4000 Tokens  \\nMission 11: One of Aladdin (20%), Jasmine (15%), Abu (15%), Iago (15%), Genie (15%), Disguised Jasmine (5%), Vacation Genie (5%), Magic Carpet (5%), Jafar (5%)\\n\\nhttps://preview.redd.it/zq9fy8xj6i271.jpg?width=936&amp;format=pjpg&amp;auto=webp&amp;s=c125b77b03884f164441a5c9f3a7220d539026c9\\n\\n&amp;#x200B;\\n\\n*Rainbow Falls*  \\nStages: 5  \\nStage 1: Silver Chest   \\nStage 2: 7000 Tokens  \\nStage 3: Gold Chest   \\nStage 4: 8000 Tokens  \\nStage 5: Vacation Genie (Story)\\n\\n&amp;#x200B;\\n\\n&amp;#x200B;\\n\\n***Related Emoji Box:***  \\n**Special box:** Aladdin Clear Event:  \\nDates: 6-02 to 6-06  \\nContains: Aladdin (20%), Jasmine (15%), Abu (15%), Iago (10%), Genie (10%), Magic Carpet (10%), Disguised Jasmine (5%), Vacation Genie (5%), Jafar (10%)  \\nPrice: 200 Gems', 'send_replies': True, 'spoiler': False, 'stickied': False, 'subreddit': 'disneyemojiblitz', 'subreddit_id': 't5_3fgl5', 'subreddit_subscribers': 17739, 'subreddit_type': 'public', 'suggested_sort': None, 'thumbnail': 'https://a.thumbs.redditmedia.com/trX15NMaNnR3stdkhJ5AU8WBCgBr6lQ-AZvnqjJWSY8.jpg', 'thumbnail_height': 140, 'thumbnail_width': 140, 'title': 'CLEAR EVENT: Aladdin Multi-Map Clear Event (w/Rainbow Falls) Discussion Thread -- June 2 - 6, 2021', 'top_awarded_type': None, 'total_awards_received': 0, 'treatment_tags': [], 'upvote_ratio': 0.9, 'url': 'https://www.reddit.com/r/disneyemojiblitz/comments/nghbev/clear_event_aladdin_multimap_clear_event_wrainbow/', 'whitelist_status': 'all_ads', 'wls': 6}\n"
     ]
    }
   ],
   "source": [
    "print(data[3])"
   ]
  },
  {
   "cell_type": "code",
   "execution_count": 26,
   "id": "043b8911",
   "metadata": {},
   "outputs": [
    {
     "name": "stdout",
     "output_type": "stream",
     "text": [
      "Aladdin Multi-Map Clear Event -- **DOUBLERS REQUIRED FOR MAPS** **3, 4 &amp; 5**  \n",
      "Dates: 6-02 to 6-06  \n",
      "Event Emojis: Aladdin, Jasmine, Abu, Iago, Genie, Magic Carpet, Disguised Jasmine, Vacation Genie, Snake Jafar, Jafar  \n",
      "Map Stages: 5\n",
      "\n",
      "&amp;#x200B;\n",
      "\n",
      "Map 1 - **USE ANY EMOJI YOU WANT**  \n",
      "Number of Missions: 6  \n",
      "Lucky Emojis: Iago, Jafar  \n",
      "Total number of Sand to clear: 75  \n",
      "Mission 2: 2000 Tokens  \n",
      "Mission 5: 2000 Tokens  \n",
      "Mission 6: Gold Chest\n",
      "\n",
      "https://preview.redd.it/be9fs0906i271.jpg?width=926&amp;format=pjpg&amp;auto=webp&amp;s=2ced90923915b5528998a3a516f2269c00b4397e\n",
      "\n",
      "Map 2 - **USE ANY EMOJI YOU WANT**  \n",
      "Number of Missions: 8  \n",
      "Lucky Emojis: Aladdin, Abu, Rajah, Disguised Jasmine  \n",
      "Total number of Sand to clear: 120  \n",
      "Mission 3: 2000 Tokens  \n",
      "Mission 4: Item Cards Chest (contains coins (1000 - 1650) + Full Power Boosts (1-2) + 4 Common Current Collection Items + 1 Rare Current Collection Item)   \n",
      "Mission 6: 3000 Tokens  \n",
      "Mission 8: Gold Box\n",
      "\n",
      "https://preview.redd.it/gi5zp1x16i271.jpg?width=923&amp;format=pjpg&amp;auto=webp&amp;s=c0669d03c633ffc5589a93ad172e26c26daa9afd\n",
      "\n",
      "Map 3 - **Magic Carpet Level1 or higher / Genie, Aladdin, Abu Level 3 or higher**  \n",
      "Number of Missions: 9  \n",
      "**Required Level 1 or higher: Magic Carpet / Level 3 or higher: Genie, Aladdin, Abu**  \n",
      "Total number of Sand to clear: 180  \n",
      "Mission 3: Rare Item Cards Box (contains 1 Rare Current Collection Item + 1 Rare Current Collection Item + 1 Rare Current Collection Item + 4 Common Current Collection Items)   \n",
      "Mission 5: 3000 Tokens  \n",
      "Mission 8: 4000 Tokens  \n",
      "Mission 9: Emoji Charge\n",
      "\n",
      "https://preview.redd.it/h6ekwzt46i271.jpg?width=920&amp;format=pjpg&amp;auto=webp&amp;s=23c9535f9fbadf9fae9fabeff5af1b1505421678\n",
      "\n",
      "Map 4 - **Disguised Jasmine Level 1 or higher / Magic Carpet, Snake Jafar Level 2 or higher**  \n",
      "Number of Missions: 9  \n",
      "**Required Level 1 or higher: Disguised Jasmine / Level 2: Magic Carpet, Snake Jafar**  \n",
      "Total number of Sand to clear: 240  \n",
      "Mission 5: 3000 Tokens  \n",
      "Mission 8: 4000 Tokens  \n",
      "Mission 9: One of Aladdin (20%), Jasmine (15%), Abu (15%), Iago (15%), Genie (15%), Disguised Jasmine (5%), Vacation Genie (5%), Magic Carpet (5%), Jafar (5%)\n",
      "\n",
      "https://preview.redd.it/f2rpsocd6i271.jpg?width=925&amp;format=pjpg&amp;auto=webp&amp;s=cf82a6d68a2ef7691e89a972288a3a81fdce71ca\n",
      "\n",
      "Map 5 - **Rajah, Vacation Genie Level 1 or higher / Aladdin, Jasmine, Abu Level 4 or higher**  \n",
      "Number of Missions: 11  \n",
      "**Required Level 1 or higher: Rajah, Vacation Genie / Level 4 or higher: Aladdin, Jasmine, Abu**  \n",
      "Total number of Sand to clear: 335  \n",
      "Mission 3: 4000 Tokens  \n",
      "Mission 7: 4000 Tokens  \n",
      "Mission 11: One of Aladdin (20%), Jasmine (15%), Abu (15%), Iago (15%), Genie (15%), Disguised Jasmine (5%), Vacation Genie (5%), Magic Carpet (5%), Jafar (5%)\n",
      "\n",
      "https://preview.redd.it/zq9fy8xj6i271.jpg?width=936&amp;format=pjpg&amp;auto=webp&amp;s=c125b77b03884f164441a5c9f3a7220d539026c9\n",
      "\n",
      "&amp;#x200B;\n",
      "\n",
      "*Rainbow Falls*  \n",
      "Stages: 5  \n",
      "Stage 1: Silver Chest   \n",
      "Stage 2: 7000 Tokens  \n",
      "Stage 3: Gold Chest   \n",
      "Stage 4: 8000 Tokens  \n",
      "Stage 5: Vacation Genie (Story)\n",
      "\n",
      "&amp;#x200B;\n",
      "\n",
      "&amp;#x200B;\n",
      "\n",
      "***Related Emoji Box:***  \n",
      "**Special box:** Aladdin Clear Event:  \n",
      "Dates: 6-02 to 6-06  \n",
      "Contains: Aladdin (20%), Jasmine (15%), Abu (15%), Iago (10%), Genie (10%), Magic Carpet (10%), Disguised Jasmine (5%), Vacation Genie (5%), Jafar (10%)  \n",
      "Price: 200 Gems\n"
     ]
    }
   ],
   "source": [
    "print(data[3]['selftext'])"
   ]
  }
 ],
 "metadata": {
  "kernelspec": {
   "display_name": "Python 3",
   "language": "python",
   "name": "python3"
  },
  "language_info": {
   "codemirror_mode": {
    "name": "ipython",
    "version": 3
   },
   "file_extension": ".py",
   "mimetype": "text/x-python",
   "name": "python",
   "nbconvert_exporter": "python",
   "pygments_lexer": "ipython3",
   "version": "3.8.8"
  }
 },
 "nbformat": 4,
 "nbformat_minor": 5
}
