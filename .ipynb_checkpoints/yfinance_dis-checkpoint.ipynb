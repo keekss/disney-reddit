{
 "cells": [
  {
   "cell_type": "markdown",
   "metadata": {},
   "source": [
    "### Only cells with comment instructions require change to pull yfinance stock data from different companies"
   ]
  },
  {
   "cell_type": "code",
   "execution_count": 17,
   "metadata": {},
   "outputs": [],
   "source": [
    "import yfinance as yf\n",
    "import pandas as pd\n",
    "import matplotlib.pyplot as plt"
   ]
  },
  {
   "cell_type": "code",
   "execution_count": 5,
   "metadata": {},
   "outputs": [],
   "source": [
    "# To pull ticker data, google company ticker and replace \"DIS\"\n",
    "\n",
    "msft = yf.Ticker(\"DIS\")"
   ]
  },
  {
   "cell_type": "code",
   "execution_count": 6,
   "metadata": {},
   "outputs": [],
   "source": [
    "hist = msft.history(period=\"max\")"
   ]
  },
  {
   "cell_type": "code",
   "execution_count": 7,
   "metadata": {},
   "outputs": [
    {
     "name": "stdout",
     "output_type": "stream",
     "text": [
      "[*********************100%***********************]  1 of 1 completed\n"
     ]
    }
   ],
   "source": [
    "# Replace \"DIS\" with desired company ticker and adjust start and end dates\n",
    "# Depending on company and subreddit, save space by pulling starting from creation date of subreddit \n",
    "\n",
    "data = yf.download(\"DIS\", start=\"2000-01-01\", end=\"2021-11-01\")"
   ]
  },
  {
   "cell_type": "code",
   "execution_count": 8,
   "metadata": {},
   "outputs": [
    {
     "data": {
      "text/html": [
       "<div>\n",
       "<style scoped>\n",
       "    .dataframe tbody tr th:only-of-type {\n",
       "        vertical-align: middle;\n",
       "    }\n",
       "\n",
       "    .dataframe tbody tr th {\n",
       "        vertical-align: top;\n",
       "    }\n",
       "\n",
       "    .dataframe thead th {\n",
       "        text-align: right;\n",
       "    }\n",
       "</style>\n",
       "<table border=\"1\" class=\"dataframe\">\n",
       "  <thead>\n",
       "    <tr style=\"text-align: right;\">\n",
       "      <th></th>\n",
       "      <th>Open</th>\n",
       "      <th>High</th>\n",
       "      <th>Low</th>\n",
       "      <th>Close</th>\n",
       "      <th>Adj Close</th>\n",
       "      <th>Volume</th>\n",
       "    </tr>\n",
       "    <tr>\n",
       "      <th>Date</th>\n",
       "      <th></th>\n",
       "      <th></th>\n",
       "      <th></th>\n",
       "      <th></th>\n",
       "      <th></th>\n",
       "      <th></th>\n",
       "    </tr>\n",
       "  </thead>\n",
       "  <tbody>\n",
       "    <tr>\n",
       "      <th>2000-01-03</th>\n",
       "      <td>28.855125</td>\n",
       "      <td>29.533344</td>\n",
       "      <td>28.361876</td>\n",
       "      <td>29.471687</td>\n",
       "      <td>23.115255</td>\n",
       "      <td>8402230</td>\n",
       "    </tr>\n",
       "    <tr>\n",
       "      <th>2000-01-04</th>\n",
       "      <td>29.594999</td>\n",
       "      <td>31.444689</td>\n",
       "      <td>29.594999</td>\n",
       "      <td>31.198063</td>\n",
       "      <td>24.469284</td>\n",
       "      <td>16051191</td>\n",
       "    </tr>\n",
       "    <tr>\n",
       "      <th>2000-01-05</th>\n",
       "      <td>31.198063</td>\n",
       "      <td>32.677814</td>\n",
       "      <td>31.198063</td>\n",
       "      <td>32.492844</td>\n",
       "      <td>25.484806</td>\n",
       "      <td>19823822</td>\n",
       "    </tr>\n",
       "    <tr>\n",
       "      <th>2000-01-06</th>\n",
       "      <td>32.492844</td>\n",
       "      <td>32.677814</td>\n",
       "      <td>31.198063</td>\n",
       "      <td>31.198063</td>\n",
       "      <td>24.469284</td>\n",
       "      <td>7903193</td>\n",
       "    </tr>\n",
       "    <tr>\n",
       "      <th>2000-01-07</th>\n",
       "      <td>31.198063</td>\n",
       "      <td>31.691313</td>\n",
       "      <td>30.396530</td>\n",
       "      <td>30.704813</td>\n",
       "      <td>24.082420</td>\n",
       "      <td>6773543</td>\n",
       "    </tr>\n",
       "  </tbody>\n",
       "</table>\n",
       "</div>"
      ],
      "text/plain": [
       "                 Open       High        Low      Close  Adj Close    Volume\n",
       "Date                                                                       \n",
       "2000-01-03  28.855125  29.533344  28.361876  29.471687  23.115255   8402230\n",
       "2000-01-04  29.594999  31.444689  29.594999  31.198063  24.469284  16051191\n",
       "2000-01-05  31.198063  32.677814  31.198063  32.492844  25.484806  19823822\n",
       "2000-01-06  32.492844  32.677814  31.198063  31.198063  24.469284   7903193\n",
       "2000-01-07  31.198063  31.691313  30.396530  30.704813  24.082420   6773543"
      ]
     },
     "execution_count": 8,
     "metadata": {},
     "output_type": "execute_result"
    }
   ],
   "source": [
    "data.head()"
   ]
  },
  {
   "cell_type": "code",
   "execution_count": 23,
   "metadata": {},
   "outputs": [
    {
     "data": {
      "text/plain": [
       "DatetimeIndex(['2000-01-03', '2000-01-04', '2000-01-05', '2000-01-06',\n",
       "               '2000-01-07', '2000-01-10', '2000-01-11', '2000-01-12',\n",
       "               '2000-01-13', '2000-01-14',\n",
       "               ...\n",
       "               '2021-10-18', '2021-10-19', '2021-10-20', '2021-10-21',\n",
       "               '2021-10-22', '2021-10-25', '2021-10-26', '2021-10-27',\n",
       "               '2021-10-28', '2021-10-29'],\n",
       "              dtype='datetime64[ns]', name='Date', length=5493, freq=None)"
      ]
     },
     "execution_count": 23,
     "metadata": {},
     "output_type": "execute_result"
    }
   ],
   "source": [
    "data.index"
   ]
  },
  {
   "cell_type": "code",
   "execution_count": 9,
   "metadata": {},
   "outputs": [
    {
     "data": {
      "text/plain": [
       "pandas.core.frame.DataFrame"
      ]
     },
     "execution_count": 9,
     "metadata": {},
     "output_type": "execute_result"
    }
   ],
   "source": [
    "type(data)"
   ]
  },
  {
   "cell_type": "code",
   "execution_count": 13,
   "metadata": {},
   "outputs": [],
   "source": [
    "# Rename path\n",
    "\n",
    "data.to_csv('./data/disney_yfinance2.csv', header=True)"
   ]
  },
  {
   "cell_type": "code",
   "execution_count": 24,
   "metadata": {},
   "outputs": [
    {
     "data": {
      "text/plain": [
       "Date\n",
       "2000-01-03     29.471687\n",
       "2000-01-04     31.198063\n",
       "2000-01-05     32.492844\n",
       "2000-01-06     31.198063\n",
       "2000-01-07     30.704813\n",
       "                 ...    \n",
       "2021-10-25    172.009995\n",
       "2021-10-26    172.039993\n",
       "2021-10-27    169.550003\n",
       "2021-10-28    169.679993\n",
       "2021-10-29    169.070007\n",
       "Name: Close, Length: 5493, dtype: float64"
      ]
     },
     "execution_count": 24,
     "metadata": {},
     "output_type": "execute_result"
    }
   ],
   "source": [
    "# For consistency, work with closing prices (as of 11/15/21)\n",
    "\n",
    "data['Close']"
   ]
  },
  {
   "cell_type": "code",
   "execution_count": 27,
   "metadata": {},
   "outputs": [
    {
     "data": {
      "text/plain": [
       "<matplotlib.collections.PathCollection at 0x12606880>"
      ]
     },
     "execution_count": 27,
     "metadata": {},
     "output_type": "execute_result"
    },
    {
     "data": {
      "image/png": "[encoded data removed]",
      "text/plain": [
       "<Figure size 1008x576 with 1 Axes>"
      ]
     },
     "metadata": {
      "needs_background": "light"
     },
     "output_type": "display_data"
    }
   ],
   "source": [
    "plt.figure(figsize=(14,8))\n",
    "\n",
    "plt.scatter(data.index, data['Close'])"
   ]
  },
  {
   "cell_type": "code",
   "execution_count": null,
   "metadata": {},
   "outputs": [],
   "source": []
  }
 ],
 "metadata": {
  "kernelspec": {
   "display_name": "Python 3",
   "language": "python",
   "name": "python3"
  },
  "language_info": {
   "codemirror_mode": {
    "name": "ipython",
    "version": 3
   },
   "file_extension": ".py",
   "mimetype": "text/x-python",
   "name": "python",
   "nbconvert_exporter": "python",
   "pygments_lexer": "ipython3",
   "version": "3.8.3"
  }
 },
 "nbformat": 4,
 "nbformat_minor": 4
}
