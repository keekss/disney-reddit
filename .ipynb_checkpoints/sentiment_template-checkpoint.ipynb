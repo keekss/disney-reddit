{
 "cells": [
  {
   "cell_type": "markdown",
   "metadata": {},
   "source": [
    "# 1. Install and Import Dependencies"
   ]
  },
  {
   "cell_type": "code",
   "execution_count": 1,
   "metadata": {},
   "outputs": [
    {
     "name": "stdout",
     "output_type": "stream",
     "text": [
      "Looking in links: https://download.pytorch.org/whl/torch_stable.html\r\n",
      "Requirement already satisfied: torch==1.8.1+cu111 in /home/clark/anaconda3/lib/python3.8/site-packages (1.8.1+cu111)\r\n",
      "Requirement already satisfied: torchvision==0.9.1+cu111 in /home/clark/anaconda3/lib/python3.8/site-packages (0.9.1+cu111)\r\n",
      "Requirement already satisfied: torchaudio===0.8.1 in /home/clark/anaconda3/lib/python3.8/site-packages (0.8.1)\r\n",
      "Requirement already satisfied: numpy in /home/clark/anaconda3/lib/python3.8/site-packages (from torch==1.8.1+cu111) (1.20.1)\r\n",
      "Requirement already satisfied: typing-extensions in /home/clark/anaconda3/lib/python3.8/site-packages (from torch==1.8.1+cu111) (3.7.4.3)\r\n",
      "Requirement already satisfied: pillow>=4.1.1 in /home/clark/anaconda3/lib/python3.8/site-packages (from torchvision==0.9.1+cu111) (8.2.0)\r\n"
     ]
    }
   ],
   "source": [
    "!pip install torch==1.8.1+cu111 torchvision==0.9.1+cu111 torchaudio===0.8.1 -f https://download.pytorch.org/whl/torch_stable.html"
   ]
  },
  {
   "cell_type": "code",
   "execution_count": 2,
   "metadata": {},
   "outputs": [
    {
     "name": "stdout",
     "output_type": "stream",
     "text": [
      "Requirement already satisfied: transformers in /home/clark/anaconda3/lib/python3.8/site-packages (4.12.3)\n",
      "Requirement already satisfied: requests in /home/clark/anaconda3/lib/python3.8/site-packages (2.25.1)\n",
      "Requirement already satisfied: beautifulsoup4 in /home/clark/anaconda3/lib/python3.8/site-packages (4.9.3)\n",
      "Requirement already satisfied: pandas in /home/clark/anaconda3/lib/python3.8/site-packages (1.2.4)\n",
      "Requirement already satisfied: numpy in /home/clark/anaconda3/lib/python3.8/site-packages (1.20.1)\n",
      "Requirement already satisfied: soupsieve>1.2 in /home/clark/anaconda3/lib/python3.8/site-packages (from beautifulsoup4) (2.2.1)\n",
      "Requirement already satisfied: python-dateutil>=2.7.3 in /home/clark/anaconda3/lib/python3.8/site-packages (from pandas) (2.8.1)\n",
      "Requirement already satisfied: pytz>=2017.3 in /home/clark/anaconda3/lib/python3.8/site-packages (from pandas) (2021.1)\n",
      "Requirement already satisfied: six>=1.5 in /home/clark/anaconda3/lib/python3.8/site-packages (from python-dateutil>=2.7.3->pandas) (1.15.0)\n",
      "Requirement already satisfied: idna<3,>=2.5 in /home/clark/anaconda3/lib/python3.8/site-packages (from requests) (2.10)\n",
      "Requirement already satisfied: chardet<5,>=3.0.2 in /home/clark/anaconda3/lib/python3.8/site-packages (from requests) (4.0.0)\n",
      "Requirement already satisfied: urllib3<1.27,>=1.21.1 in /home/clark/anaconda3/lib/python3.8/site-packages (from requests) (1.26.4)\n",
      "Requirement already satisfied: certifi>=2017.4.17 in /home/clark/anaconda3/lib/python3.8/site-packages (from requests) (2020.12.5)\n",
      "Requirement already satisfied: filelock in /home/clark/anaconda3/lib/python3.8/site-packages (from transformers) (3.0.12)\n",
      "Requirement already satisfied: sacremoses in /home/clark/anaconda3/lib/python3.8/site-packages (from transformers) (0.0.46)\n",
      "Requirement already satisfied: regex!=2019.12.17 in /home/clark/anaconda3/lib/python3.8/site-packages (from transformers) (2021.4.4)\n",
      "Requirement already satisfied: huggingface-hub<1.0,>=0.1.0 in /home/clark/anaconda3/lib/python3.8/site-packages (from transformers) (0.1.2)\n",
      "Requirement already satisfied: packaging>=20.0 in /home/clark/anaconda3/lib/python3.8/site-packages (from transformers) (20.9)\n",
      "Requirement already satisfied: pyyaml>=5.1 in /home/clark/anaconda3/lib/python3.8/site-packages (from transformers) (5.4.1)\n",
      "Requirement already satisfied: tqdm>=4.27 in /home/clark/anaconda3/lib/python3.8/site-packages (from transformers) (4.59.0)\n",
      "Requirement already satisfied: tokenizers<0.11,>=0.10.1 in /home/clark/anaconda3/lib/python3.8/site-packages (from transformers) (0.10.3)\n",
      "Requirement already satisfied: typing-extensions>=3.7.4.3 in /home/clark/anaconda3/lib/python3.8/site-packages (from huggingface-hub<1.0,>=0.1.0->transformers) (3.7.4.3)\n",
      "Requirement already satisfied: pyparsing>=2.0.2 in /home/clark/anaconda3/lib/python3.8/site-packages (from packaging>=20.0->transformers) (2.4.7)\n",
      "Requirement already satisfied: click in /home/clark/anaconda3/lib/python3.8/site-packages (from sacremoses->transformers) (7.1.2)\n",
      "Requirement already satisfied: joblib in /home/clark/anaconda3/lib/python3.8/site-packages (from sacremoses->transformers) (1.0.1)\n"
     ]
    }
   ],
   "source": [
    "!pip install transformers requests beautifulsoup4 pandas numpy"
   ]
  },
  {
   "cell_type": "code",
   "execution_count": 3,
   "metadata": {},
   "outputs": [],
   "source": [
    "from transformers import AutoTokenizer, AutoModelForSequenceClassification\n",
    "import torch\n",
    "import requests\n",
    "from bs4 import BeautifulSoup\n",
    "import re"
   ]
  },
  {
   "cell_type": "markdown",
   "metadata": {},
   "source": [
    "# 2. Instantiate Model"
   ]
  },
  {
   "cell_type": "code",
   "execution_count": 4,
   "metadata": {},
   "outputs": [],
   "source": [
    "tokenizer = AutoTokenizer.from_pretrained('nlptown/bert-base-multilingual-uncased-sentiment')\n",
    "\n",
    "model = AutoModelForSequenceClassification.from_pretrained('nlptown/bert-base-multilingual-uncased-sentiment')"
   ]
  },
  {
   "cell_type": "markdown",
   "metadata": {},
   "source": [
    "# 3. Encode and Calculate Sentiment"
   ]
  },
  {
   "cell_type": "code",
   "execution_count": 13,
   "metadata": {},
   "outputs": [
    {
     "data": {
      "text/plain": [
       "3"
      ]
     },
     "execution_count": 13,
     "metadata": {},
     "output_type": "execute_result"
    }
   ],
   "source": [
    "sentence = \"It was ok\"\n",
    "tokens = tokenizer.encode(sentence, return_tensors='pt')\n",
    "result = model(tokens)\n",
    "result.logits\n",
    "int(torch.argmax(result.logits))+1"
   ]
  },
  {
   "cell_type": "markdown",
   "metadata": {},
   "source": [
    "# 3.5 Import Data"
   ]
  },
  {
   "cell_type": "code",
   "execution_count": 16,
   "metadata": {},
   "outputs": [],
   "source": [
    "import os\n",
    "import pandas as pd"
   ]
  },
  {
   "cell_type": "code",
   "execution_count": 15,
   "metadata": {},
   "outputs": [
    {
     "data": {
      "text/plain": [
       "['RS_2021-06.json',\n",
       " 'RS_2021-06.zst',\n",
       " 'disney_all_subs_w_dates.csv',\n",
       " 'reddit.csv',\n",
       " 'twitter.csv']"
      ]
     },
     "execution_count": 15,
     "metadata": {},
     "output_type": "execute_result"
    }
   ],
   "source": [
    "os.listdir(\"./data/\")"
   ]
  },
  {
   "cell_type": "code",
   "execution_count": 17,
   "metadata": {},
   "outputs": [
    {
     "name": "stderr",
     "output_type": "stream",
     "text": [
      "/home/clark/anaconda3/lib/python3.8/site-packages/IPython/core/interactiveshell.py:3165: DtypeWarning: Columns (0,1,4,5,6,8,9,10,11,12,16,18,19,20,21,22,24,25,26,27,28,29,30,31,35,37,39,43,44,45,49,53,56,58,59,60,61,62,65,66,67,68,71,73,74,75,77,78,79,80) have mixed types.Specify dtype option on import or set low_memory=False.\n",
      "  has_raised = await self.run_ast_nodes(code_ast.body, cell_name,\n"
     ]
    }
   ],
   "source": [
    "df = pd.read_csv(\"./data/disney_all_subs_w_dates.csv\")"
   ]
  },
  {
   "cell_type": "code",
   "execution_count": 18,
   "metadata": {},
   "outputs": [
    {
     "data": {
      "text/plain": [
       "99274"
      ]
     },
     "execution_count": 18,
     "metadata": {},
     "output_type": "execute_result"
    }
   ],
   "source": [
    "len(df)"
   ]
  },
  {
   "cell_type": "code",
   "execution_count": 19,
   "metadata": {},
   "outputs": [
    {
     "data": {
      "text/plain": [
       "0                                             [deleted]\n",
       "1                                             [deleted]\n",
       "2                                                   NaN\n",
       "3                                             [deleted]\n",
       "4                                                   NaN\n",
       "                            ...                        \n",
       "95                                                  NaN\n",
       "96                                            [deleted]\n",
       "97                                                  NaN\n",
       "98                                                  NaN\n",
       "99    Maybe it’d be better than to be scooped up by ...\n",
       "Name: selftext, Length: 100, dtype: object"
      ]
     },
     "execution_count": 19,
     "metadata": {},
     "output_type": "execute_result"
    }
   ],
   "source": [
    "df.selftext[:100]"
   ]
  },
  {
   "cell_type": "code",
   "execution_count": 60,
   "metadata": {},
   "outputs": [],
   "source": [
    "df2 = df.selftext.isnull()"
   ]
  },
  {
   "cell_type": "code",
   "execution_count": 63,
   "metadata": {},
   "outputs": [
    {
     "data": {
      "text/plain": [
       "pandas.core.series.Series"
      ]
     },
     "execution_count": 63,
     "metadata": {},
     "output_type": "execute_result"
    }
   ],
   "source": [
    "type(df2)"
   ]
  },
  {
   "cell_type": "code",
   "execution_count": 64,
   "metadata": {},
   "outputs": [
    {
     "data": {
      "text/plain": [
       "0    False\n",
       "1    False\n",
       "2     True\n",
       "3    False\n",
       "4     True\n",
       "5     True\n",
       "6     True\n",
       "7     True\n",
       "8     True\n",
       "9     True\n",
       "Name: selftext, dtype: bool"
      ]
     },
     "execution_count": 64,
     "metadata": {},
     "output_type": "execute_result"
    }
   ],
   "source": [
    "df2[:10]"
   ]
  },
  {
   "cell_type": "code",
   "execution_count": 65,
   "metadata": {},
   "outputs": [],
   "source": [
    "df3 = df[df2 == False]"
   ]
  },
  {
   "cell_type": "code",
   "execution_count": 67,
   "metadata": {},
   "outputs": [
    {
     "data": {
      "text/plain": [
       "0     [deleted]\n",
       "1     [deleted]\n",
       "3     [deleted]\n",
       "10    [removed]\n",
       "12    [removed]\n",
       "13    [removed]\n",
       "14    [removed]\n",
       "18    [deleted]\n",
       "22    [removed]\n",
       "25    [deleted]\n",
       "Name: selftext, dtype: object"
      ]
     },
     "execution_count": 67,
     "metadata": {},
     "output_type": "execute_result"
    }
   ],
   "source": [
    "df3.selftext[:10]"
   ]
  },
  {
   "cell_type": "code",
   "execution_count": 71,
   "metadata": {},
   "outputs": [],
   "source": [
    "df4 = df3[df3.selftext != \"[deleted]\"]"
   ]
  },
  {
   "cell_type": "code",
   "execution_count": 73,
   "metadata": {},
   "outputs": [],
   "source": [
    "df5 = df4[df4.selftext != \"[removed]\"]"
   ]
  },
  {
   "cell_type": "code",
   "execution_count": 74,
   "metadata": {},
   "outputs": [
    {
     "data": {
      "text/plain": [
       "38      As you probably are aware, Magic Bands have a ...\n",
       "62      hello, my mother, me and her best friend and s...\n",
       "99      Maybe it’d be better than to be scooped up by ...\n",
       "298     Like the title says, I was hoping to find some...\n",
       "970     The concept art may look promising that Disney...\n",
       "1406    First of all, I'm not from the US so I don't k...\n",
       "1442    So a few weeks ago, I came home to my wife wat...\n",
       "1472    So I'm planning to binge-watch \"The Lion Guard...\n",
       "1478                      Anyone have any they just love?\n",
       "1510    I have been SCOURING the internet for weeks fo...\n",
       "Name: selftext, dtype: object"
      ]
     },
     "execution_count": 74,
     "metadata": {},
     "output_type": "execute_result"
    }
   ],
   "source": [
    "df5.selftext[:10]"
   ]
  },
  {
   "cell_type": "code",
   "execution_count": 107,
   "metadata": {},
   "outputs": [
    {
     "data": {
      "text/plain": [
       "11527"
      ]
     },
     "execution_count": 107,
     "metadata": {},
     "output_type": "execute_result"
    }
   ],
   "source": [
    "len(df5)"
   ]
  },
  {
   "cell_type": "code",
   "execution_count": 112,
   "metadata": {},
   "outputs": [],
   "source": [
    "df6 = df5[df5.selftext.apply(lambda x: len(str(x)) < 512)]"
   ]
  },
  {
   "cell_type": "code",
   "execution_count": 113,
   "metadata": {},
   "outputs": [
    {
     "data": {
      "text/plain": [
       "8093"
      ]
     },
     "execution_count": 113,
     "metadata": {},
     "output_type": "execute_result"
    }
   ],
   "source": [
    "len(df6)"
   ]
  },
  {
   "cell_type": "code",
   "execution_count": 114,
   "metadata": {},
   "outputs": [],
   "source": [
    "sentence = df5.iloc[0].selftext"
   ]
  },
  {
   "cell_type": "code",
   "execution_count": 119,
   "metadata": {},
   "outputs": [],
   "source": [
    "list1 = []"
   ]
  },
  {
   "cell_type": "code",
   "execution_count": 116,
   "metadata": {},
   "outputs": [
    {
     "data": {
      "text/plain": [
       "'hello, my mother, me and her best friend and son are going to disney in a few months and i was wondering if disney allows autistic persons to buddy up with underage kids (i want to buddy up with my moms friends son who is 21 and has autism) not trying to be rude but some theme parks don’t allow that'"
      ]
     },
     "execution_count": 116,
     "metadata": {},
     "output_type": "execute_result"
    }
   ],
   "source": [
    "df6.iloc[0].selftext"
   ]
  },
  {
   "cell_type": "code",
   "execution_count": 121,
   "metadata": {},
   "outputs": [],
   "source": [
    "from tqdm.notebook import tqdm"
   ]
  },
  {
   "cell_type": "code",
   "execution_count": 122,
   "metadata": {},
   "outputs": [
    {
     "data": {
      "application/vnd.jupyter.widget-view+json": {
       "model_id": "c2cb13634a224d91bb5762e2dfd9ba90",
       "version_major": 2,
       "version_minor": 0
      },
      "text/plain": [
       "  0%|          | 0/8093 [00:00<?, ?it/s]"
      ]
     },
     "metadata": {},
     "output_type": "display_data"
    }
   ],
   "source": [
    "with tqdm(total=len(df6)) as pbar:\n",
    "    for i in range(len(df6)):\n",
    "        tokens = tokenizer.encode(df6.iloc[i].selftext, return_tensors='pt')\n",
    "        result = model(tokens)\n",
    "        result.logits\n",
    "        list1.append(int(torch.argmax(result.logits))+1)\n",
    "        pbar.update(1)"
   ]
  },
  {
   "cell_type": "code",
   "execution_count": 141,
   "metadata": {},
   "outputs": [
    {
     "data": {
      "text/plain": [
       "list"
      ]
     },
     "execution_count": 141,
     "metadata": {},
     "output_type": "execute_result"
    }
   ],
   "source": [
    "type(list1)"
   ]
  },
  {
   "cell_type": "code",
   "execution_count": 142,
   "metadata": {},
   "outputs": [
    {
     "data": {
      "text/plain": [
       "[4, 2, 4, 2, 2, 3, 5, 5, 3, 3]"
      ]
     },
     "execution_count": 142,
     "metadata": {},
     "output_type": "execute_result"
    }
   ],
   "source": [
    "list1[:10]"
   ]
  },
  {
   "cell_type": "code",
   "execution_count": 143,
   "metadata": {},
   "outputs": [],
   "source": [
    "list2 = pd.Series(list1)"
   ]
  },
  {
   "cell_type": "code",
   "execution_count": 144,
   "metadata": {},
   "outputs": [
    {
     "data": {
      "text/plain": [
       "8093"
      ]
     },
     "execution_count": 144,
     "metadata": {},
     "output_type": "execute_result"
    }
   ],
   "source": [
    "len(list2)"
   ]
  },
  {
   "cell_type": "code",
   "execution_count": 152,
   "metadata": {},
   "outputs": [],
   "source": [
    "list3 = list2.rename(\"sentiment\")"
   ]
  },
  {
   "cell_type": "code",
   "execution_count": 153,
   "metadata": {},
   "outputs": [
    {
     "data": {
      "text/plain": [
       "0    4\n",
       "1    2\n",
       "2    4\n",
       "3    2\n",
       "4    2\n",
       "5    3\n",
       "6    5\n",
       "7    5\n",
       "8    3\n",
       "9    3\n",
       "Name: sentiment, dtype: int64"
      ]
     },
     "execution_count": 153,
     "metadata": {},
     "output_type": "execute_result"
    }
   ],
   "source": [
    "list3.head(10)"
   ]
  },
  {
   "cell_type": "code",
   "execution_count": 154,
   "metadata": {},
   "outputs": [],
   "source": [
    "result = pd.concat([df6, list3], axis=1)"
   ]
  },
  {
   "cell_type": "code",
   "execution_count": 155,
   "metadata": {},
   "outputs": [
    {
     "data": {
      "text/html": [
       "<div>\n",
       "<style scoped>\n",
       "    .dataframe tbody tr th:only-of-type {\n",
       "        vertical-align: middle;\n",
       "    }\n",
       "\n",
       "    .dataframe tbody tr th {\n",
       "        vertical-align: top;\n",
       "    }\n",
       "\n",
       "    .dataframe thead th {\n",
       "        text-align: right;\n",
       "    }\n",
       "</style>\n",
       "<table border=\"1\" class=\"dataframe\">\n",
       "  <thead>\n",
       "    <tr style=\"text-align: right;\">\n",
       "      <th></th>\n",
       "      <th>all_awardings</th>\n",
       "      <th>allow_live_comments</th>\n",
       "      <th>author</th>\n",
       "      <th>author_flair_css_class</th>\n",
       "      <th>author_flair_richtext</th>\n",
       "      <th>author_flair_text</th>\n",
       "      <th>author_flair_type</th>\n",
       "      <th>author_fullname</th>\n",
       "      <th>author_patreon_flair</th>\n",
       "      <th>author_premium</th>\n",
       "      <th>...</th>\n",
       "      <th>is_gallery</th>\n",
       "      <th>gallery_data</th>\n",
       "      <th>media_metadata</th>\n",
       "      <th>edited</th>\n",
       "      <th>banned_by</th>\n",
       "      <th>author_cakeday</th>\n",
       "      <th>author_is_blocked</th>\n",
       "      <th>is_created_from_ads_ui</th>\n",
       "      <th>creation_date</th>\n",
       "      <th>sentiment</th>\n",
       "    </tr>\n",
       "  </thead>\n",
       "  <tbody>\n",
       "    <tr>\n",
       "      <th>0</th>\n",
       "      <td>NaN</td>\n",
       "      <td>NaN</td>\n",
       "      <td>NaN</td>\n",
       "      <td>NaN</td>\n",
       "      <td>NaN</td>\n",
       "      <td>NaN</td>\n",
       "      <td>NaN</td>\n",
       "      <td>NaN</td>\n",
       "      <td>NaN</td>\n",
       "      <td>NaN</td>\n",
       "      <td>...</td>\n",
       "      <td>NaN</td>\n",
       "      <td>NaN</td>\n",
       "      <td>NaN</td>\n",
       "      <td>NaN</td>\n",
       "      <td>NaN</td>\n",
       "      <td>NaN</td>\n",
       "      <td>NaN</td>\n",
       "      <td>NaN</td>\n",
       "      <td>NaN</td>\n",
       "      <td>4.0</td>\n",
       "    </tr>\n",
       "    <tr>\n",
       "      <th>1</th>\n",
       "      <td>NaN</td>\n",
       "      <td>NaN</td>\n",
       "      <td>NaN</td>\n",
       "      <td>NaN</td>\n",
       "      <td>NaN</td>\n",
       "      <td>NaN</td>\n",
       "      <td>NaN</td>\n",
       "      <td>NaN</td>\n",
       "      <td>NaN</td>\n",
       "      <td>NaN</td>\n",
       "      <td>...</td>\n",
       "      <td>NaN</td>\n",
       "      <td>NaN</td>\n",
       "      <td>NaN</td>\n",
       "      <td>NaN</td>\n",
       "      <td>NaN</td>\n",
       "      <td>NaN</td>\n",
       "      <td>NaN</td>\n",
       "      <td>NaN</td>\n",
       "      <td>NaN</td>\n",
       "      <td>2.0</td>\n",
       "    </tr>\n",
       "    <tr>\n",
       "      <th>2</th>\n",
       "      <td>NaN</td>\n",
       "      <td>NaN</td>\n",
       "      <td>NaN</td>\n",
       "      <td>NaN</td>\n",
       "      <td>NaN</td>\n",
       "      <td>NaN</td>\n",
       "      <td>NaN</td>\n",
       "      <td>NaN</td>\n",
       "      <td>NaN</td>\n",
       "      <td>NaN</td>\n",
       "      <td>...</td>\n",
       "      <td>NaN</td>\n",
       "      <td>NaN</td>\n",
       "      <td>NaN</td>\n",
       "      <td>NaN</td>\n",
       "      <td>NaN</td>\n",
       "      <td>NaN</td>\n",
       "      <td>NaN</td>\n",
       "      <td>NaN</td>\n",
       "      <td>NaN</td>\n",
       "      <td>4.0</td>\n",
       "    </tr>\n",
       "    <tr>\n",
       "      <th>3</th>\n",
       "      <td>NaN</td>\n",
       "      <td>NaN</td>\n",
       "      <td>NaN</td>\n",
       "      <td>NaN</td>\n",
       "      <td>NaN</td>\n",
       "      <td>NaN</td>\n",
       "      <td>NaN</td>\n",
       "      <td>NaN</td>\n",
       "      <td>NaN</td>\n",
       "      <td>NaN</td>\n",
       "      <td>...</td>\n",
       "      <td>NaN</td>\n",
       "      <td>NaN</td>\n",
       "      <td>NaN</td>\n",
       "      <td>NaN</td>\n",
       "      <td>NaN</td>\n",
       "      <td>NaN</td>\n",
       "      <td>NaN</td>\n",
       "      <td>NaN</td>\n",
       "      <td>NaN</td>\n",
       "      <td>2.0</td>\n",
       "    </tr>\n",
       "    <tr>\n",
       "      <th>4</th>\n",
       "      <td>NaN</td>\n",
       "      <td>NaN</td>\n",
       "      <td>NaN</td>\n",
       "      <td>NaN</td>\n",
       "      <td>NaN</td>\n",
       "      <td>NaN</td>\n",
       "      <td>NaN</td>\n",
       "      <td>NaN</td>\n",
       "      <td>NaN</td>\n",
       "      <td>NaN</td>\n",
       "      <td>...</td>\n",
       "      <td>NaN</td>\n",
       "      <td>NaN</td>\n",
       "      <td>NaN</td>\n",
       "      <td>NaN</td>\n",
       "      <td>NaN</td>\n",
       "      <td>NaN</td>\n",
       "      <td>NaN</td>\n",
       "      <td>NaN</td>\n",
       "      <td>NaN</td>\n",
       "      <td>2.0</td>\n",
       "    </tr>\n",
       "  </tbody>\n",
       "</table>\n",
       "<p>5 rows × 83 columns</p>\n",
       "</div>"
      ],
      "text/plain": [
       "  all_awardings allow_live_comments author author_flair_css_class  \\\n",
       "0           NaN                 NaN    NaN                    NaN   \n",
       "1           NaN                 NaN    NaN                    NaN   \n",
       "2           NaN                 NaN    NaN                    NaN   \n",
       "3           NaN                 NaN    NaN                    NaN   \n",
       "4           NaN                 NaN    NaN                    NaN   \n",
       "\n",
       "  author_flair_richtext author_flair_text author_flair_type author_fullname  \\\n",
       "0                   NaN               NaN               NaN             NaN   \n",
       "1                   NaN               NaN               NaN             NaN   \n",
       "2                   NaN               NaN               NaN             NaN   \n",
       "3                   NaN               NaN               NaN             NaN   \n",
       "4                   NaN               NaN               NaN             NaN   \n",
       "\n",
       "  author_patreon_flair author_premium  ... is_gallery gallery_data  \\\n",
       "0                  NaN            NaN  ...        NaN          NaN   \n",
       "1                  NaN            NaN  ...        NaN          NaN   \n",
       "2                  NaN            NaN  ...        NaN          NaN   \n",
       "3                  NaN            NaN  ...        NaN          NaN   \n",
       "4                  NaN            NaN  ...        NaN          NaN   \n",
       "\n",
       "  media_metadata  edited banned_by author_cakeday author_is_blocked  \\\n",
       "0            NaN     NaN       NaN            NaN               NaN   \n",
       "1            NaN     NaN       NaN            NaN               NaN   \n",
       "2            NaN     NaN       NaN            NaN               NaN   \n",
       "3            NaN     NaN       NaN            NaN               NaN   \n",
       "4            NaN     NaN       NaN            NaN               NaN   \n",
       "\n",
       "  is_created_from_ads_ui creation_date sentiment  \n",
       "0                    NaN           NaN       4.0  \n",
       "1                    NaN           NaN       2.0  \n",
       "2                    NaN           NaN       4.0  \n",
       "3                    NaN           NaN       2.0  \n",
       "4                    NaN           NaN       2.0  \n",
       "\n",
       "[5 rows x 83 columns]"
      ]
     },
     "execution_count": 155,
     "metadata": {},
     "output_type": "execute_result"
    }
   ],
   "source": [
    "result.head()"
   ]
  },
  {
   "cell_type": "code",
   "execution_count": 156,
   "metadata": {},
   "outputs": [
    {
     "name": "stdout",
     "output_type": "stream",
     "text": [
      "<class 'pandas.core.frame.DataFrame'>\n",
      "Int64Index: 16143 entries, 0 to 99273\n",
      "Data columns (total 83 columns):\n",
      " #   Column                         Non-Null Count  Dtype  \n",
      "---  ------                         --------------  -----  \n",
      " 0   all_awardings                  776 non-null    object \n",
      " 1   allow_live_comments            453 non-null    object \n",
      " 2   author                         8093 non-null   object \n",
      " 3   author_flair_css_class         993 non-null    object \n",
      " 4   author_flair_richtext          2804 non-null   object \n",
      " 5   author_flair_text              103 non-null    object \n",
      " 6   author_flair_type              2804 non-null   object \n",
      " 7   author_fullname                6187 non-null   object \n",
      " 8   author_patreon_flair           1856 non-null   object \n",
      " 9   author_premium                 230 non-null    object \n",
      " 10  awarders                       287 non-null    object \n",
      " 11  can_mod_post                   3416 non-null   object \n",
      " 12  contest_mode                   4277 non-null   object \n",
      " 13  created_utc                    8093 non-null   float64\n",
      " 14  domain                         8093 non-null   object \n",
      " 15  full_link                      8093 non-null   object \n",
      " 16  gildings                       1952 non-null   object \n",
      " 17  id                             8093 non-null   object \n",
      " 18  is_crosspostable               3165 non-null   object \n",
      " 19  is_meta                        2220 non-null   object \n",
      " 20  is_original_content            2623 non-null   object \n",
      " 21  is_reddit_media_domain         3084 non-null   object \n",
      " 22  is_robot_indexable             1919 non-null   object \n",
      " 23  is_self                        8093 non-null   object \n",
      " 24  is_video                       3498 non-null   object \n",
      " 25  link_flair_background_color    786 non-null    object \n",
      " 26  link_flair_richtext            2809 non-null   object \n",
      " 27  link_flair_text_color          2809 non-null   object \n",
      " 28  link_flair_type                2809 non-null   object \n",
      " 29  locked                         5331 non-null   object \n",
      " 30  media_only                     2480 non-null   object \n",
      " 31  no_follow                      2698 non-null   object \n",
      " 32  num_comments                   8093 non-null   float64\n",
      " 33  num_crossposts                 3165 non-null   float64\n",
      " 34  over_18                        8093 non-null   object \n",
      " 35  parent_whitelist_status        3207 non-null   object \n",
      " 36  permalink                      8093 non-null   object \n",
      " 37  pinned                         3116 non-null   object \n",
      " 38  pwls                           2554 non-null   float64\n",
      " 39  removed_by_category            2 non-null      object \n",
      " 40  retrieved_on                   7476 non-null   float64\n",
      " 41  score                          8093 non-null   float64\n",
      " 42  selftext                       8093 non-null   object \n",
      " 43  send_replies                   2700 non-null   object \n",
      " 44  spoiler                        4197 non-null   object \n",
      " 45  stickied                       7476 non-null   object \n",
      " 46  subreddit                      8093 non-null   object \n",
      " 47  subreddit_id                   8093 non-null   object \n",
      " 48  subreddit_subscribers          2677 non-null   float64\n",
      " 49  subreddit_type                 2954 non-null   object \n",
      " 50  thumbnail                      8093 non-null   object \n",
      " 51  title                          8093 non-null   object \n",
      " 52  total_awards_received          776 non-null    float64\n",
      " 53  treatment_tags                 207 non-null    object \n",
      " 54  upvote_ratio                   182 non-null    float64\n",
      " 55  url                            8093 non-null   object \n",
      " 56  whitelist_status               3208 non-null   object \n",
      " 57  wls                            2555 non-null   float64\n",
      " 58  link_flair_css_class           942 non-null    object \n",
      " 59  link_flair_template_id         932 non-null    object \n",
      " 60  link_flair_text                1127 non-null   object \n",
      " 61  post_hint                      509 non-null    object \n",
      " 62  preview                        509 non-null    object \n",
      " 63  thumbnail_height               54 non-null     float64\n",
      " 64  thumbnail_width                54 non-null     float64\n",
      " 65  url_overridden_by_dest         0 non-null      object \n",
      " 66  author_flair_background_color  99 non-null     object \n",
      " 67  author_flair_template_id       106 non-null    object \n",
      " 68  author_flair_text_color        165 non-null    object \n",
      " 69  media                          2 non-null      object \n",
      " 70  media_embed                    4867 non-null   object \n",
      " 71  secure_media                   2 non-null      object \n",
      " 72  secure_media_embed             4250 non-null   object \n",
      " 73  is_gallery                     0 non-null      object \n",
      " 74  gallery_data                   0 non-null      object \n",
      " 75  media_metadata                 58 non-null     object \n",
      " 76  edited                         263 non-null    float64\n",
      " 77  banned_by                      0 non-null      object \n",
      " 78  author_cakeday                 9 non-null      object \n",
      " 79  author_is_blocked              5 non-null      object \n",
      " 80  is_created_from_ads_ui         13 non-null     object \n",
      " 81  creation_date                  8093 non-null   object \n",
      " 82  sentiment                      8093 non-null   float64\n",
      "dtypes: float64(14), object(69)\n",
      "memory usage: 10.3+ MB\n"
     ]
    }
   ],
   "source": [
    "result.info()"
   ]
  }
 ],
 "metadata": {
  "kernelspec": {
   "display_name": "Python 3",
   "language": "python",
   "name": "python3"
  },
  "language_info": {
   "codemirror_mode": {
    "name": "ipython",
    "version": 3
   },
   "file_extension": ".py",
   "mimetype": "text/x-python",
   "name": "python",
   "nbconvert_exporter": "python",
   "pygments_lexer": "ipython3",
   "version": "3.8.8"
  }
 },
 "nbformat": 4,
 "nbformat_minor": 2
}
