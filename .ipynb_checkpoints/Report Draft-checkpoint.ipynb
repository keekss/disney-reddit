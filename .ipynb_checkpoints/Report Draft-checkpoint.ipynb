{
 "cells": [
  {
   "cell_type": "code",
   "execution_count": 1,
   "metadata": {},
   "outputs": [],
   "source": [
    "import pandas as pd\n",
    "import matplotlib.pyplot as plt\n",
    "import numpy as np\n",
    "from datetime import datetime\n",
    "from scipy.stats import linregress"
   ]
  },
  {
   "cell_type": "code",
   "execution_count": 2,
   "metadata": {},
   "outputs": [
    {
     "name": "stderr",
     "output_type": "stream",
     "text": [
      "D:\\anaconda3\\lib\\site-packages\\IPython\\core\\interactiveshell.py:3444: DtypeWarning: Columns (0,1,4,6,8,9,10,11,12,16,18,19,20,21,22,24,25,26,27,29,30,31,32,33,37,39,46,47,48,52,58,61,62,64,65,66,67,72,73,74,76,77,79,80,81,82,83,87,89,91,92,93,97,99,100,101,102,103,104,105,106,107,111,112) have mixed types.Specify dtype option on import or set low_memory=False.\n",
      "  exec(code_obj, self.user_global_ns, self.user_ns)\n"
     ]
    }
   ],
   "source": [
    "dis_yfinance = pd.read_csv(\"data/tesla_yfinance.csv\")\n",
    "dis_submissions = pd.read_csv(\"data/tesla_all_sub.csv\")"
   ]
  },
  {
   "cell_type": "code",
   "execution_count": 3,
   "metadata": {},
   "outputs": [
    {
     "data": {
      "text/html": [
       "<div>\n",
       "<style scoped>\n",
       "    .dataframe tbody tr th:only-of-type {\n",
       "        vertical-align: middle;\n",
       "    }\n",
       "\n",
       "    .dataframe tbody tr th {\n",
       "        vertical-align: top;\n",
       "    }\n",
       "\n",
       "    .dataframe thead th {\n",
       "        text-align: right;\n",
       "    }\n",
       "</style>\n",
       "<table border=\"1\" class=\"dataframe\">\n",
       "  <thead>\n",
       "    <tr style=\"text-align: right;\">\n",
       "      <th></th>\n",
       "      <th>Date</th>\n",
       "      <th>Open</th>\n",
       "      <th>High</th>\n",
       "      <th>Low</th>\n",
       "      <th>Close</th>\n",
       "      <th>Adj Close</th>\n",
       "      <th>Volume</th>\n",
       "    </tr>\n",
       "  </thead>\n",
       "  <tbody>\n",
       "    <tr>\n",
       "      <th>0</th>\n",
       "      <td>2010-06-29</td>\n",
       "      <td>3.800</td>\n",
       "      <td>5.000</td>\n",
       "      <td>3.508</td>\n",
       "      <td>4.778</td>\n",
       "      <td>4.778</td>\n",
       "      <td>93831500</td>\n",
       "    </tr>\n",
       "    <tr>\n",
       "      <th>1</th>\n",
       "      <td>2010-06-30</td>\n",
       "      <td>5.158</td>\n",
       "      <td>6.084</td>\n",
       "      <td>4.660</td>\n",
       "      <td>4.766</td>\n",
       "      <td>4.766</td>\n",
       "      <td>85935500</td>\n",
       "    </tr>\n",
       "    <tr>\n",
       "      <th>2</th>\n",
       "      <td>2010-07-01</td>\n",
       "      <td>5.000</td>\n",
       "      <td>5.184</td>\n",
       "      <td>4.054</td>\n",
       "      <td>4.392</td>\n",
       "      <td>4.392</td>\n",
       "      <td>41094000</td>\n",
       "    </tr>\n",
       "    <tr>\n",
       "      <th>3</th>\n",
       "      <td>2010-07-02</td>\n",
       "      <td>4.600</td>\n",
       "      <td>4.620</td>\n",
       "      <td>3.742</td>\n",
       "      <td>3.840</td>\n",
       "      <td>3.840</td>\n",
       "      <td>25699000</td>\n",
       "    </tr>\n",
       "    <tr>\n",
       "      <th>4</th>\n",
       "      <td>2010-07-06</td>\n",
       "      <td>4.000</td>\n",
       "      <td>4.000</td>\n",
       "      <td>3.166</td>\n",
       "      <td>3.222</td>\n",
       "      <td>3.222</td>\n",
       "      <td>34334500</td>\n",
       "    </tr>\n",
       "  </tbody>\n",
       "</table>\n",
       "</div>"
      ],
      "text/plain": [
       "         Date   Open   High    Low  Close  Adj Close    Volume\n",
       "0  2010-06-29  3.800  5.000  3.508  4.778      4.778  93831500\n",
       "1  2010-06-30  5.158  6.084  4.660  4.766      4.766  85935500\n",
       "2  2010-07-01  5.000  5.184  4.054  4.392      4.392  41094000\n",
       "3  2010-07-02  4.600  4.620  3.742  3.840      3.840  25699000\n",
       "4  2010-07-06  4.000  4.000  3.166  3.222      3.222  34334500"
      ]
     },
     "execution_count": 3,
     "metadata": {},
     "output_type": "execute_result"
    }
   ],
   "source": [
    "dis_yfinance.head()"
   ]
  },
  {
   "cell_type": "code",
   "execution_count": 4,
   "metadata": {},
   "outputs": [
    {
     "data": {
      "text/html": [
       "<div>\n",
       "<style scoped>\n",
       "    .dataframe tbody tr th:only-of-type {\n",
       "        vertical-align: middle;\n",
       "    }\n",
       "\n",
       "    .dataframe tbody tr th {\n",
       "        vertical-align: top;\n",
       "    }\n",
       "\n",
       "    .dataframe thead th {\n",
       "        text-align: right;\n",
       "    }\n",
       "</style>\n",
       "<table border=\"1\" class=\"dataframe\">\n",
       "  <thead>\n",
       "    <tr style=\"text-align: right;\">\n",
       "      <th></th>\n",
       "      <th>all_awardings</th>\n",
       "      <th>allow_live_comments</th>\n",
       "      <th>author</th>\n",
       "      <th>author_flair_css_class</th>\n",
       "      <th>author_flair_richtext</th>\n",
       "      <th>author_flair_text</th>\n",
       "      <th>author_flair_type</th>\n",
       "      <th>author_fullname</th>\n",
       "      <th>author_patreon_flair</th>\n",
       "      <th>author_premium</th>\n",
       "      <th>...</th>\n",
       "      <th>archived</th>\n",
       "      <th>can_gild</th>\n",
       "      <th>hidden</th>\n",
       "      <th>quarantine</th>\n",
       "      <th>subreddit_name_prefixed</th>\n",
       "      <th>approved_at_utc</th>\n",
       "      <th>banned_at_utc</th>\n",
       "      <th>view_count</th>\n",
       "      <th>mod_reports</th>\n",
       "      <th>user_reports</th>\n",
       "    </tr>\n",
       "  </thead>\n",
       "  <tbody>\n",
       "    <tr>\n",
       "      <th>0</th>\n",
       "      <td>[]</td>\n",
       "      <td>False</td>\n",
       "      <td>_OrangeEe_</td>\n",
       "      <td>0</td>\n",
       "      <td>[]</td>\n",
       "      <td>0</td>\n",
       "      <td>text</td>\n",
       "      <td>t2_a4rcr3k9</td>\n",
       "      <td>False</td>\n",
       "      <td>False</td>\n",
       "      <td>...</td>\n",
       "      <td>0</td>\n",
       "      <td>0</td>\n",
       "      <td>0</td>\n",
       "      <td>0</td>\n",
       "      <td>0</td>\n",
       "      <td>0</td>\n",
       "      <td>0</td>\n",
       "      <td>0</td>\n",
       "      <td>0</td>\n",
       "      <td>0</td>\n",
       "    </tr>\n",
       "    <tr>\n",
       "      <th>1</th>\n",
       "      <td>[]</td>\n",
       "      <td>False</td>\n",
       "      <td>cutmanxxx</td>\n",
       "      <td>0</td>\n",
       "      <td>[]</td>\n",
       "      <td>0</td>\n",
       "      <td>text</td>\n",
       "      <td>t2_178eyd</td>\n",
       "      <td>False</td>\n",
       "      <td>False</td>\n",
       "      <td>...</td>\n",
       "      <td>0</td>\n",
       "      <td>0</td>\n",
       "      <td>0</td>\n",
       "      <td>0</td>\n",
       "      <td>0</td>\n",
       "      <td>0</td>\n",
       "      <td>0</td>\n",
       "      <td>0</td>\n",
       "      <td>0</td>\n",
       "      <td>0</td>\n",
       "    </tr>\n",
       "    <tr>\n",
       "      <th>2</th>\n",
       "      <td>[]</td>\n",
       "      <td>False</td>\n",
       "      <td>techiewriter</td>\n",
       "      <td>0</td>\n",
       "      <td>[{'e': 'text', 't': 'P3D-'}]</td>\n",
       "      <td>P3D-</td>\n",
       "      <td>richtext</td>\n",
       "      <td>t2_bw2kd</td>\n",
       "      <td>False</td>\n",
       "      <td>False</td>\n",
       "      <td>...</td>\n",
       "      <td>0</td>\n",
       "      <td>0</td>\n",
       "      <td>0</td>\n",
       "      <td>0</td>\n",
       "      <td>0</td>\n",
       "      <td>0</td>\n",
       "      <td>0</td>\n",
       "      <td>0</td>\n",
       "      <td>0</td>\n",
       "      <td>0</td>\n",
       "    </tr>\n",
       "    <tr>\n",
       "      <th>3</th>\n",
       "      <td>[]</td>\n",
       "      <td>False</td>\n",
       "      <td>Ok-Set7329</td>\n",
       "      <td>0</td>\n",
       "      <td>[]</td>\n",
       "      <td>0</td>\n",
       "      <td>text</td>\n",
       "      <td>t2_9nemoh92</td>\n",
       "      <td>False</td>\n",
       "      <td>False</td>\n",
       "      <td>...</td>\n",
       "      <td>0</td>\n",
       "      <td>0</td>\n",
       "      <td>0</td>\n",
       "      <td>0</td>\n",
       "      <td>0</td>\n",
       "      <td>0</td>\n",
       "      <td>0</td>\n",
       "      <td>0</td>\n",
       "      <td>0</td>\n",
       "      <td>0</td>\n",
       "    </tr>\n",
       "    <tr>\n",
       "      <th>4</th>\n",
       "      <td>[]</td>\n",
       "      <td>False</td>\n",
       "      <td>codyyymc</td>\n",
       "      <td>0</td>\n",
       "      <td>[]</td>\n",
       "      <td>0</td>\n",
       "      <td>text</td>\n",
       "      <td>t2_9e21t</td>\n",
       "      <td>False</td>\n",
       "      <td>False</td>\n",
       "      <td>...</td>\n",
       "      <td>0</td>\n",
       "      <td>0</td>\n",
       "      <td>0</td>\n",
       "      <td>0</td>\n",
       "      <td>0</td>\n",
       "      <td>0</td>\n",
       "      <td>0</td>\n",
       "      <td>0</td>\n",
       "      <td>0</td>\n",
       "      <td>0</td>\n",
       "    </tr>\n",
       "  </tbody>\n",
       "</table>\n",
       "<p>5 rows × 113 columns</p>\n",
       "</div>"
      ],
      "text/plain": [
       "  all_awardings allow_live_comments        author author_flair_css_class  \\\n",
       "0            []               False    _OrangeEe_                      0   \n",
       "1            []               False     cutmanxxx                      0   \n",
       "2            []               False  techiewriter                      0   \n",
       "3            []               False    Ok-Set7329                      0   \n",
       "4            []               False      codyyymc                      0   \n",
       "\n",
       "          author_flair_richtext author_flair_text author_flair_type  \\\n",
       "0                            []                 0              text   \n",
       "1                            []                 0              text   \n",
       "2  [{'e': 'text', 't': 'P3D-'}]              P3D-          richtext   \n",
       "3                            []                 0              text   \n",
       "4                            []                 0              text   \n",
       "\n",
       "  author_fullname author_patreon_flair author_premium  ... archived can_gild  \\\n",
       "0     t2_a4rcr3k9                False          False  ...        0        0   \n",
       "1       t2_178eyd                False          False  ...        0        0   \n",
       "2        t2_bw2kd                False          False  ...        0        0   \n",
       "3     t2_9nemoh92                False          False  ...        0        0   \n",
       "4        t2_9e21t                False          False  ...        0        0   \n",
       "\n",
       "  hidden  quarantine subreddit_name_prefixed approved_at_utc banned_at_utc  \\\n",
       "0      0           0                       0               0             0   \n",
       "1      0           0                       0               0             0   \n",
       "2      0           0                       0               0             0   \n",
       "3      0           0                       0               0             0   \n",
       "4      0           0                       0               0             0   \n",
       "\n",
       "  view_count mod_reports user_reports  \n",
       "0          0           0            0  \n",
       "1          0           0            0  \n",
       "2          0           0            0  \n",
       "3          0           0            0  \n",
       "4          0           0            0  \n",
       "\n",
       "[5 rows x 113 columns]"
      ]
     },
     "execution_count": 4,
     "metadata": {},
     "output_type": "execute_result"
    }
   ],
   "source": [
    "dis_submissions.head()"
   ]
  },
  {
   "cell_type": "code",
   "execution_count": 5,
   "metadata": {},
   "outputs": [
    {
     "data": {
      "text/plain": [
       "0         1613452057\n",
       "1         1613451932\n",
       "2         1613451585\n",
       "3         1613451206\n",
       "4         1613450741\n",
       "             ...    \n",
       "152420    1347650814\n",
       "152421    1347278649\n",
       "152422    1347225929\n",
       "152423    1347035816\n",
       "152424    1305829526\n",
       "Name: created_utc, Length: 152425, dtype: int64"
      ]
     },
     "execution_count": 5,
     "metadata": {},
     "output_type": "execute_result"
    }
   ],
   "source": [
    "dis_submissions['created_utc']"
   ]
  },
  {
   "cell_type": "markdown",
   "metadata": {},
   "source": [
    "## Function to append a readable creation date column to subreddit df"
   ]
  },
  {
   "cell_type": "code",
   "execution_count": 6,
   "metadata": {},
   "outputs": [],
   "source": [
    "def create_date_reddit(reddit_df):\n",
    "    sub_dates = []\n",
    "\n",
    "    for _ in reddit_df['created_utc']:\n",
    "        fts = datetime.utcfromtimestamp(_).strftime('%m-%d-%Y')\n",
    "        sub_dates.append(fts)\n",
    "\n",
    "    # Appends new column to dataframe, contains readable string date-times\n",
    "    reddit_df['creation_date'] = sub_dates\n",
    "    \n",
    "    return(1)"
   ]
  },
  {
   "cell_type": "code",
   "execution_count": 7,
   "metadata": {},
   "outputs": [
    {
     "data": {
      "text/plain": [
       "1"
      ]
     },
     "execution_count": 7,
     "metadata": {},
     "output_type": "execute_result"
    }
   ],
   "source": [
    "create_date_reddit(dis_submissions)"
   ]
  },
  {
   "cell_type": "code",
   "execution_count": 8,
   "metadata": {},
   "outputs": [
    {
     "data": {
      "text/plain": [
       "0         02-16-2021\n",
       "1         02-16-2021\n",
       "2         02-16-2021\n",
       "3         02-16-2021\n",
       "4         02-16-2021\n",
       "             ...    \n",
       "152420    09-14-2012\n",
       "152421    09-10-2012\n",
       "152422    09-09-2012\n",
       "152423    09-07-2012\n",
       "152424    05-19-2011\n",
       "Name: creation_date, Length: 152425, dtype: object"
      ]
     },
     "execution_count": 8,
     "metadata": {},
     "output_type": "execute_result"
    }
   ],
   "source": [
    "dis_submissions['creation_date']"
   ]
  },
  {
   "cell_type": "markdown",
   "metadata": {},
   "source": [
    "## Function to Created parsed dates columns for yfinance dfs"
   ]
  },
  {
   "cell_type": "code",
   "execution_count": 9,
   "metadata": {},
   "outputs": [],
   "source": [
    "def yfi_parsed_dates(df):\n",
    "    parsed_dates = []\n",
    "\n",
    "    for _ in df['Date']:\n",
    "        if '-' in _:\n",
    "            y_datetime_object = datetime.strptime(_, '%Y-%m-%d')\n",
    "            \n",
    "        elif '/' in _:\n",
    "            y_datetime_object = datetime.strptime(_, '%m/%d/%Y')\n",
    "    \n",
    "        parsed_dates.append(y_datetime_object)\n",
    "    \n",
    "    df['parsed_dates'] = parsed_dates"
   ]
  },
  {
   "cell_type": "code",
   "execution_count": 10,
   "metadata": {},
   "outputs": [],
   "source": [
    "yfi_parsed_dates(dis_yfinance)"
   ]
  },
  {
   "cell_type": "code",
   "execution_count": 11,
   "metadata": {},
   "outputs": [
    {
     "data": {
      "text/html": [
       "<div>\n",
       "<style scoped>\n",
       "    .dataframe tbody tr th:only-of-type {\n",
       "        vertical-align: middle;\n",
       "    }\n",
       "\n",
       "    .dataframe tbody tr th {\n",
       "        vertical-align: top;\n",
       "    }\n",
       "\n",
       "    .dataframe thead th {\n",
       "        text-align: right;\n",
       "    }\n",
       "</style>\n",
       "<table border=\"1\" class=\"dataframe\">\n",
       "  <thead>\n",
       "    <tr style=\"text-align: right;\">\n",
       "      <th></th>\n",
       "      <th>Date</th>\n",
       "      <th>Open</th>\n",
       "      <th>High</th>\n",
       "      <th>Low</th>\n",
       "      <th>Close</th>\n",
       "      <th>Adj Close</th>\n",
       "      <th>Volume</th>\n",
       "      <th>parsed_dates</th>\n",
       "    </tr>\n",
       "  </thead>\n",
       "  <tbody>\n",
       "    <tr>\n",
       "      <th>0</th>\n",
       "      <td>2010-06-29</td>\n",
       "      <td>3.800000</td>\n",
       "      <td>5.000000</td>\n",
       "      <td>3.508000</td>\n",
       "      <td>4.778000</td>\n",
       "      <td>4.778000</td>\n",
       "      <td>93831500</td>\n",
       "      <td>2010-06-29</td>\n",
       "    </tr>\n",
       "    <tr>\n",
       "      <th>1</th>\n",
       "      <td>2010-06-30</td>\n",
       "      <td>5.158000</td>\n",
       "      <td>6.084000</td>\n",
       "      <td>4.660000</td>\n",
       "      <td>4.766000</td>\n",
       "      <td>4.766000</td>\n",
       "      <td>85935500</td>\n",
       "      <td>2010-06-30</td>\n",
       "    </tr>\n",
       "    <tr>\n",
       "      <th>2</th>\n",
       "      <td>2010-07-01</td>\n",
       "      <td>5.000000</td>\n",
       "      <td>5.184000</td>\n",
       "      <td>4.054000</td>\n",
       "      <td>4.392000</td>\n",
       "      <td>4.392000</td>\n",
       "      <td>41094000</td>\n",
       "      <td>2010-07-01</td>\n",
       "    </tr>\n",
       "    <tr>\n",
       "      <th>3</th>\n",
       "      <td>2010-07-02</td>\n",
       "      <td>4.600000</td>\n",
       "      <td>4.620000</td>\n",
       "      <td>3.742000</td>\n",
       "      <td>3.840000</td>\n",
       "      <td>3.840000</td>\n",
       "      <td>25699000</td>\n",
       "      <td>2010-07-02</td>\n",
       "    </tr>\n",
       "    <tr>\n",
       "      <th>4</th>\n",
       "      <td>2010-07-06</td>\n",
       "      <td>4.000000</td>\n",
       "      <td>4.000000</td>\n",
       "      <td>3.166000</td>\n",
       "      <td>3.222000</td>\n",
       "      <td>3.222000</td>\n",
       "      <td>34334500</td>\n",
       "      <td>2010-07-06</td>\n",
       "    </tr>\n",
       "    <tr>\n",
       "      <th>...</th>\n",
       "      <td>...</td>\n",
       "      <td>...</td>\n",
       "      <td>...</td>\n",
       "      <td>...</td>\n",
       "      <td>...</td>\n",
       "      <td>...</td>\n",
       "      <td>...</td>\n",
       "      <td>...</td>\n",
       "    </tr>\n",
       "    <tr>\n",
       "      <th>2876</th>\n",
       "      <td>2021-11-30</td>\n",
       "      <td>1144.369995</td>\n",
       "      <td>1168.000000</td>\n",
       "      <td>1118.000000</td>\n",
       "      <td>1144.760010</td>\n",
       "      <td>1144.760010</td>\n",
       "      <td>27092000</td>\n",
       "      <td>2021-11-30</td>\n",
       "    </tr>\n",
       "    <tr>\n",
       "      <th>2877</th>\n",
       "      <td>2021-12-01</td>\n",
       "      <td>1160.699951</td>\n",
       "      <td>1172.839966</td>\n",
       "      <td>1090.760010</td>\n",
       "      <td>1095.000000</td>\n",
       "      <td>1095.000000</td>\n",
       "      <td>22816800</td>\n",
       "      <td>2021-12-01</td>\n",
       "    </tr>\n",
       "    <tr>\n",
       "      <th>2878</th>\n",
       "      <td>2021-12-02</td>\n",
       "      <td>1099.060059</td>\n",
       "      <td>1113.000000</td>\n",
       "      <td>1056.650024</td>\n",
       "      <td>1084.599976</td>\n",
       "      <td>1084.599976</td>\n",
       "      <td>24258700</td>\n",
       "      <td>2021-12-02</td>\n",
       "    </tr>\n",
       "    <tr>\n",
       "      <th>2879</th>\n",
       "      <td>2021-12-03</td>\n",
       "      <td>1084.790039</td>\n",
       "      <td>1090.579956</td>\n",
       "      <td>1000.210022</td>\n",
       "      <td>1014.969971</td>\n",
       "      <td>1014.969971</td>\n",
       "      <td>30696300</td>\n",
       "      <td>2021-12-03</td>\n",
       "    </tr>\n",
       "    <tr>\n",
       "      <th>2880</th>\n",
       "      <td>2021-12-06</td>\n",
       "      <td>1001.510010</td>\n",
       "      <td>1021.640015</td>\n",
       "      <td>950.500000</td>\n",
       "      <td>1009.010010</td>\n",
       "      <td>1009.010010</td>\n",
       "      <td>27145300</td>\n",
       "      <td>2021-12-06</td>\n",
       "    </tr>\n",
       "  </tbody>\n",
       "</table>\n",
       "<p>2881 rows × 8 columns</p>\n",
       "</div>"
      ],
      "text/plain": [
       "            Date         Open         High          Low        Close  \\\n",
       "0     2010-06-29     3.800000     5.000000     3.508000     4.778000   \n",
       "1     2010-06-30     5.158000     6.084000     4.660000     4.766000   \n",
       "2     2010-07-01     5.000000     5.184000     4.054000     4.392000   \n",
       "3     2010-07-02     4.600000     4.620000     3.742000     3.840000   \n",
       "4     2010-07-06     4.000000     4.000000     3.166000     3.222000   \n",
       "...          ...          ...          ...          ...          ...   \n",
       "2876  2021-11-30  1144.369995  1168.000000  1118.000000  1144.760010   \n",
       "2877  2021-12-01  1160.699951  1172.839966  1090.760010  1095.000000   \n",
       "2878  2021-12-02  1099.060059  1113.000000  1056.650024  1084.599976   \n",
       "2879  2021-12-03  1084.790039  1090.579956  1000.210022  1014.969971   \n",
       "2880  2021-12-06  1001.510010  1021.640015   950.500000  1009.010010   \n",
       "\n",
       "        Adj Close    Volume parsed_dates  \n",
       "0        4.778000  93831500   2010-06-29  \n",
       "1        4.766000  85935500   2010-06-30  \n",
       "2        4.392000  41094000   2010-07-01  \n",
       "3        3.840000  25699000   2010-07-02  \n",
       "4        3.222000  34334500   2010-07-06  \n",
       "...           ...       ...          ...  \n",
       "2876  1144.760010  27092000   2021-11-30  \n",
       "2877  1095.000000  22816800   2021-12-01  \n",
       "2878  1084.599976  24258700   2021-12-02  \n",
       "2879  1014.969971  30696300   2021-12-03  \n",
       "2880  1009.010010  27145300   2021-12-06  \n",
       "\n",
       "[2881 rows x 8 columns]"
      ]
     },
     "execution_count": 11,
     "metadata": {},
     "output_type": "execute_result"
    }
   ],
   "source": [
    "dis_yfinance"
   ]
  },
  {
   "cell_type": "markdown",
   "metadata": {},
   "source": [
    "## Function to Created parsed dates columns for subreddit dfs"
   ]
  },
  {
   "cell_type": "code",
   "execution_count": 12,
   "metadata": {},
   "outputs": [],
   "source": [
    "def red_parsed_dates(df):\n",
    "    parsed_dates = []\n",
    "    for _ in df['creation_date']:\n",
    "        red_datetime_object = datetime.strptime(_, '%m-%d-%Y')\n",
    "        parsed_dates.append(red_datetime_object)\n",
    "    df['parsed_dates'] = parsed_dates"
   ]
  },
  {
   "cell_type": "code",
   "execution_count": 13,
   "metadata": {},
   "outputs": [],
   "source": [
    "red_parsed_dates(dis_submissions)"
   ]
  },
  {
   "cell_type": "markdown",
   "metadata": {},
   "source": [
    "## Function to match date ranges of yfinance and reddit submissions"
   ]
  },
  {
   "cell_type": "code",
   "execution_count": 14,
   "metadata": {},
   "outputs": [
    {
     "data": {
      "text/plain": [
       "152424   2011-05-19\n",
       "152367   2012-02-09\n",
       "152366   2012-02-10\n",
       "152365   2012-02-11\n",
       "152364   2012-02-12\n",
       "            ...    \n",
       "920      2021-12-04\n",
       "921      2021-12-04\n",
       "923      2021-12-04\n",
       "910      2021-12-04\n",
       "922      2021-12-04\n",
       "Name: parsed_dates, Length: 152425, dtype: datetime64[ns]"
      ]
     },
     "execution_count": 14,
     "metadata": {},
     "output_type": "execute_result"
    }
   ],
   "source": [
    "dis_submissions['parsed_dates'].sort_values()"
   ]
  },
  {
   "cell_type": "code",
   "execution_count": 15,
   "metadata": {},
   "outputs": [
    {
     "data": {
      "text/plain": [
       "0      2010-06-29\n",
       "1      2010-06-30\n",
       "2      2010-07-01\n",
       "3      2010-07-02\n",
       "4      2010-07-06\n",
       "          ...    \n",
       "2876   2021-11-30\n",
       "2877   2021-12-01\n",
       "2878   2021-12-02\n",
       "2879   2021-12-03\n",
       "2880   2021-12-06\n",
       "Name: parsed_dates, Length: 2881, dtype: datetime64[ns]"
      ]
     },
     "execution_count": 15,
     "metadata": {},
     "output_type": "execute_result"
    }
   ],
   "source": [
    "dis_yfinance['parsed_dates']"
   ]
  },
  {
   "cell_type": "code",
   "execution_count": 16,
   "metadata": {},
   "outputs": [],
   "source": [
    "def match_date_range(yfinance_df, reddit_df):\n",
    "    i = 0\n",
    "    k = 0\n",
    "\n",
    "    reddit_begin = reddit_df['parsed_dates'].iloc[-1]\n",
    "    yahoo_end = yfinance_df['parsed_dates'].iloc[-1]\n",
    "\n",
    "    reddit_df = reddit_df[(reddit_df['parsed_dates'] <= yahoo_end)]\n",
    "    yfinance_df = yfinance_df[(yfinance_df['parsed_dates'] >= reddit_begin)]\n",
    "    \n",
    "    return(1)"
   ]
  },
  {
   "cell_type": "code",
   "execution_count": 17,
   "metadata": {},
   "outputs": [
    {
     "data": {
      "text/plain": [
       "1"
      ]
     },
     "execution_count": 17,
     "metadata": {},
     "output_type": "execute_result"
    }
   ],
   "source": [
    "match_date_range(dis_yfinance, dis_submissions)"
   ]
  },
  {
   "cell_type": "code",
   "execution_count": 18,
   "metadata": {},
   "outputs": [
    {
     "data": {
      "text/plain": [
       "152424   2011-05-19\n",
       "152367   2012-02-09\n",
       "152366   2012-02-10\n",
       "152365   2012-02-11\n",
       "152364   2012-02-12\n",
       "            ...    \n",
       "920      2021-12-04\n",
       "921      2021-12-04\n",
       "923      2021-12-04\n",
       "910      2021-12-04\n",
       "922      2021-12-04\n",
       "Name: parsed_dates, Length: 152425, dtype: datetime64[ns]"
      ]
     },
     "execution_count": 18,
     "metadata": {},
     "output_type": "execute_result"
    }
   ],
   "source": [
    "dis_submissions['parsed_dates'].sort_values()"
   ]
  },
  {
   "cell_type": "code",
   "execution_count": 19,
   "metadata": {},
   "outputs": [
    {
     "data": {
      "text/plain": [
       "0      2010-06-29\n",
       "1      2010-06-30\n",
       "2      2010-07-01\n",
       "3      2010-07-02\n",
       "4      2010-07-06\n",
       "          ...    \n",
       "2876   2021-11-30\n",
       "2877   2021-12-01\n",
       "2878   2021-12-02\n",
       "2879   2021-12-03\n",
       "2880   2021-12-06\n",
       "Name: parsed_dates, Length: 2881, dtype: datetime64[ns]"
      ]
     },
     "execution_count": 19,
     "metadata": {},
     "output_type": "execute_result"
    }
   ],
   "source": [
    "dis_yfinance['parsed_dates']"
   ]
  },
  {
   "cell_type": "markdown",
   "metadata": {},
   "source": [
    "## Group together desired values with same dates in subreddit df"
   ]
  },
  {
   "cell_type": "code",
   "execution_count": 43,
   "metadata": {},
   "outputs": [
    {
     "data": {
      "text/html": [
       "<div>\n",
       "<style scoped>\n",
       "    .dataframe tbody tr th:only-of-type {\n",
       "        vertical-align: middle;\n",
       "    }\n",
       "\n",
       "    .dataframe tbody tr th {\n",
       "        vertical-align: top;\n",
       "    }\n",
       "\n",
       "    .dataframe thead th {\n",
       "        text-align: right;\n",
       "    }\n",
       "</style>\n",
       "<table border=\"1\" class=\"dataframe\">\n",
       "  <thead>\n",
       "    <tr style=\"text-align: right;\">\n",
       "      <th></th>\n",
       "      <th>num_comments</th>\n",
       "      <th>score</th>\n",
       "      <th>parsed_dates</th>\n",
       "    </tr>\n",
       "  </thead>\n",
       "  <tbody>\n",
       "    <tr>\n",
       "      <th>0</th>\n",
       "      <td>0</td>\n",
       "      <td>1</td>\n",
       "      <td>2021-02-16</td>\n",
       "    </tr>\n",
       "    <tr>\n",
       "      <th>1</th>\n",
       "      <td>0</td>\n",
       "      <td>1</td>\n",
       "      <td>2021-02-16</td>\n",
       "    </tr>\n",
       "    <tr>\n",
       "      <th>2</th>\n",
       "      <td>9</td>\n",
       "      <td>1</td>\n",
       "      <td>2021-02-16</td>\n",
       "    </tr>\n",
       "    <tr>\n",
       "      <th>3</th>\n",
       "      <td>14</td>\n",
       "      <td>1</td>\n",
       "      <td>2021-02-16</td>\n",
       "    </tr>\n",
       "    <tr>\n",
       "      <th>4</th>\n",
       "      <td>0</td>\n",
       "      <td>1</td>\n",
       "      <td>2021-02-16</td>\n",
       "    </tr>\n",
       "  </tbody>\n",
       "</table>\n",
       "</div>"
      ],
      "text/plain": [
       "   num_comments  score parsed_dates\n",
       "0             0      1   2021-02-16\n",
       "1             0      1   2021-02-16\n",
       "2             9      1   2021-02-16\n",
       "3            14      1   2021-02-16\n",
       "4             0      1   2021-02-16"
      ]
     },
     "execution_count": 43,
     "metadata": {},
     "output_type": "execute_result"
    }
   ],
   "source": [
    "reddit_sub_scores = dis_submissions[['num_comments', 'score', 'parsed_dates']]\n",
    "reddit_sub_scores.head()"
   ]
  },
  {
   "cell_type": "code",
   "execution_count": 21,
   "metadata": {},
   "outputs": [],
   "source": [
    "def group_by_date(df):\n",
    "    reddit_sub_scores = df[['num_comments', 'score', 'parsed_dates']]\n",
    "    scores_date_grouped = reddit_sub_scores.groupby(reddit_sub_scores['parsed_dates'].dt.date, as_index=True).sum()\n",
    "    scores_date_grouped['parsed_dates'] = scores_date_grouped.index\n",
    "    scores_date_grouped_df = scores_date_grouped.set_index(np.arange(len(scores_date_grouped)))\n",
    "    \n",
    "    return(scores_date_grouped_df)"
   ]
  },
  {
   "cell_type": "code",
   "execution_count": 22,
   "metadata": {},
   "outputs": [],
   "source": [
    "scores_date_grouped_df = group_by_date(dis_submissions)"
   ]
  },
  {
   "cell_type": "code",
   "execution_count": 23,
   "metadata": {},
   "outputs": [
    {
     "data": {
      "text/html": [
       "<div>\n",
       "<style scoped>\n",
       "    .dataframe tbody tr th:only-of-type {\n",
       "        vertical-align: middle;\n",
       "    }\n",
       "\n",
       "    .dataframe tbody tr th {\n",
       "        vertical-align: top;\n",
       "    }\n",
       "\n",
       "    .dataframe thead th {\n",
       "        text-align: right;\n",
       "    }\n",
       "</style>\n",
       "<table border=\"1\" class=\"dataframe\">\n",
       "  <thead>\n",
       "    <tr style=\"text-align: right;\">\n",
       "      <th></th>\n",
       "      <th>num_comments</th>\n",
       "      <th>score</th>\n",
       "      <th>parsed_dates</th>\n",
       "    </tr>\n",
       "  </thead>\n",
       "  <tbody>\n",
       "    <tr>\n",
       "      <th>0</th>\n",
       "      <td>0</td>\n",
       "      <td>5</td>\n",
       "      <td>2011-05-19</td>\n",
       "    </tr>\n",
       "    <tr>\n",
       "      <th>1</th>\n",
       "      <td>8</td>\n",
       "      <td>25</td>\n",
       "      <td>2012-02-09</td>\n",
       "    </tr>\n",
       "    <tr>\n",
       "      <th>2</th>\n",
       "      <td>1</td>\n",
       "      <td>5</td>\n",
       "      <td>2012-02-10</td>\n",
       "    </tr>\n",
       "    <tr>\n",
       "      <th>3</th>\n",
       "      <td>0</td>\n",
       "      <td>7</td>\n",
       "      <td>2012-02-11</td>\n",
       "    </tr>\n",
       "    <tr>\n",
       "      <th>4</th>\n",
       "      <td>1</td>\n",
       "      <td>1</td>\n",
       "      <td>2012-02-12</td>\n",
       "    </tr>\n",
       "  </tbody>\n",
       "</table>\n",
       "</div>"
      ],
      "text/plain": [
       "   num_comments  score parsed_dates\n",
       "0             0      5   2011-05-19\n",
       "1             8     25   2012-02-09\n",
       "2             1      5   2012-02-10\n",
       "3             0      7   2012-02-11\n",
       "4             1      1   2012-02-12"
      ]
     },
     "execution_count": 23,
     "metadata": {},
     "output_type": "execute_result"
    }
   ],
   "source": [
    "scores_date_grouped_df.head()"
   ]
  },
  {
   "cell_type": "markdown",
   "metadata": {},
   "source": [
    "### Function to add weekend reddit values to mondays, then drop weekend values from subreddit df\n",
    "\n",
    "#### The stock market is only open on business days, but there are reddit posts every day. To deal with this, take the sum of the weekend scores and # of comments and add these to Monday. The idea is that news over the weekend affects stock prices the following business day. Then remove weekend values."
   ]
  },
  {
   "cell_type": "code",
   "execution_count": 24,
   "metadata": {},
   "outputs": [],
   "source": [
    "def group_weekend_metrics(scores_date_grouped_df):\n",
    "    weekends = 0\n",
    "    weekends_coms = 0\n",
    "    i = 0\n",
    "    k = 0\n",
    "    weekend_dict = {}\n",
    "    weekend_coms_dict = {}\n",
    "    weekender = []\n",
    "    weekender_coms = []\n",
    "    dict_arr = []\n",
    "\n",
    "    for _ in np.arange(len(scores_date_grouped_df)):\n",
    "        if scores_date_grouped_df.iloc[_]['parsed_dates'].weekday() !=  5 and scores_date_grouped_df.iloc[_]['parsed_dates'].weekday() != 6:\n",
    "            weekend_dict[scores_date_grouped_df.iloc[_]['parsed_dates']] = 0\n",
    "            weekend_coms_dict[scores_date_grouped_df.iloc[_]['parsed_dates']] = 0\n",
    "\n",
    "\n",
    "    for _ in np.arange(len(scores_date_grouped_df)):\n",
    "\n",
    "        if scores_date_grouped_df.iloc[_]['parsed_dates'].weekday() == 5:\n",
    "            weekends += scores_date_grouped_df.iloc[_]['score']\n",
    "            weekends_coms += scores_date_grouped_df.iloc[_]['num_comments']\n",
    "            \n",
    "        if scores_date_grouped_df.iloc[_]['parsed_dates'].weekday() == 6:\n",
    "            weekends += scores_date_grouped_df.iloc[_]['score']\n",
    "            weekends_coms += scores_date_grouped_df.iloc[_]['num_comments']\n",
    "            weekender.append(weekends)\n",
    "            weekender_coms.append(weekends_coms)\n",
    "\n",
    "        if scores_date_grouped_df.iloc[_]['parsed_dates'].weekday() == 0:\n",
    "            monday = scores_date_grouped_df.iloc[_]['score'] + weekender[i]\n",
    "            monday_coms = scores_date_grouped_df.iloc[_]['num_comments'] + weekender_coms[i]\n",
    "\n",
    "            scores_date_grouped_df.loc[scores_date_grouped_df.index[_], 'score'] = monday\n",
    "            scores_date_grouped_df.loc[scores_date_grouped_df.index[_], 'num_comments'] = monday_coms\n",
    "            i += 1\n",
    "\n",
    "            weekends = 0\n",
    "            weekends_coms = 0\n",
    "\n",
    "        if scores_date_grouped_df.iloc[_]['parsed_dates'].weekday() !=  5 and scores_date_grouped_df.iloc[_]['parsed_dates'].weekday() != 6:\n",
    "            weekend_dict[scores_date_grouped_df.iloc[_]['parsed_dates']] = (scores_date_grouped_df.iloc[_]['score'])\n",
    "            weekend_coms_dict[scores_date_grouped_df.iloc[_]['parsed_dates']] = (scores_date_grouped_df.iloc[_]['num_comments'])\n",
    "            \n",
    "            \n",
    "            dict_arr.append(weekend_dict)\n",
    "            dict_arr.append(weekend_coms_dict)\n",
    "            \n",
    "    df = pd.DataFrame(np.arange(len(weekend_dict)))\n",
    "    df['parsed_dates'] = weekend_dict.keys()\n",
    "    df['score'] = weekend_dict.values()\n",
    "    df['num_comments'] = weekend_coms_dict.values()\n",
    "    df.drop(columns=0, inplace=True)\n",
    "        \n",
    "    return df"
   ]
  },
  {
   "cell_type": "code",
   "execution_count": 25,
   "metadata": {},
   "outputs": [],
   "source": [
    "weekday_df = group_weekend_metrics(scores_date_grouped_df)"
   ]
  },
  {
   "cell_type": "code",
   "execution_count": 26,
   "metadata": {},
   "outputs": [
    {
     "data": {
      "text/html": [
       "<div>\n",
       "<style scoped>\n",
       "    .dataframe tbody tr th:only-of-type {\n",
       "        vertical-align: middle;\n",
       "    }\n",
       "\n",
       "    .dataframe tbody tr th {\n",
       "        vertical-align: top;\n",
       "    }\n",
       "\n",
       "    .dataframe thead th {\n",
       "        text-align: right;\n",
       "    }\n",
       "</style>\n",
       "<table border=\"1\" class=\"dataframe\">\n",
       "  <thead>\n",
       "    <tr style=\"text-align: right;\">\n",
       "      <th></th>\n",
       "      <th>parsed_dates</th>\n",
       "      <th>score</th>\n",
       "      <th>num_comments</th>\n",
       "    </tr>\n",
       "  </thead>\n",
       "  <tbody>\n",
       "    <tr>\n",
       "      <th>0</th>\n",
       "      <td>2011-05-19</td>\n",
       "      <td>5</td>\n",
       "      <td>0</td>\n",
       "    </tr>\n",
       "    <tr>\n",
       "      <th>1</th>\n",
       "      <td>2012-02-09</td>\n",
       "      <td>25</td>\n",
       "      <td>8</td>\n",
       "    </tr>\n",
       "    <tr>\n",
       "      <th>2</th>\n",
       "      <td>2012-02-10</td>\n",
       "      <td>5</td>\n",
       "      <td>1</td>\n",
       "    </tr>\n",
       "    <tr>\n",
       "      <th>3</th>\n",
       "      <td>2012-02-15</td>\n",
       "      <td>9</td>\n",
       "      <td>0</td>\n",
       "    </tr>\n",
       "    <tr>\n",
       "      <th>4</th>\n",
       "      <td>2012-02-24</td>\n",
       "      <td>6</td>\n",
       "      <td>2</td>\n",
       "    </tr>\n",
       "  </tbody>\n",
       "</table>\n",
       "</div>"
      ],
      "text/plain": [
       "  parsed_dates  score  num_comments\n",
       "0   2011-05-19      5             0\n",
       "1   2012-02-09     25             8\n",
       "2   2012-02-10      5             1\n",
       "3   2012-02-15      9             0\n",
       "4   2012-02-24      6             2"
      ]
     },
     "execution_count": 26,
     "metadata": {},
     "output_type": "execute_result"
    }
   ],
   "source": [
    "weekday_df.head()"
   ]
  },
  {
   "cell_type": "code",
   "execution_count": 27,
   "metadata": {},
   "outputs": [
    {
     "data": {
      "text/plain": [
       "False"
      ]
     },
     "execution_count": 27,
     "metadata": {},
     "output_type": "execute_result"
    }
   ],
   "source": [
    "len(weekday_df) == len(dis_yfinance)"
   ]
  },
  {
   "cell_type": "markdown",
   "metadata": {},
   "source": [
    "## Function to remove remaining unmatched days (Holidays and other non-business days)"
   ]
  },
  {
   "cell_type": "code",
   "execution_count": 28,
   "metadata": {},
   "outputs": [],
   "source": [
    "def match_dates(yfinance_df, reddit_df):\n",
    "    yfi_dates = list(yfinance_df['parsed_dates'])\n",
    "    reddit_dates = list(reddit_df['parsed_dates'])\n",
    "\n",
    "    drop_it_red = []\n",
    "    drop_it_yfi = []\n",
    "\n",
    "    i = 0\n",
    "    k = 0\n",
    "\n",
    "    for _ in np.arange(len(reddit_df)):\n",
    "        if reddit_df.iloc[_]['parsed_dates'] not in yfi_dates:\n",
    "            drop_it_red.append(i)\n",
    "        i += 1\n",
    "\n",
    "    reddit_df.drop(reddit_df.index[drop_it_red], inplace=True)\n",
    "\n",
    "    for _ in np.arange(len(yfinance_df)):\n",
    "        if yfinance_df.iloc[_]['parsed_dates'] not in reddit_dates:\n",
    "            drop_it_yfi.append(k)\n",
    "        k += 1\n",
    "\n",
    "    yfinance_df.drop(yfinance_df.index[drop_it_yfi], inplace=True)\n",
    "    \n",
    "    return(1)"
   ]
  },
  {
   "cell_type": "code",
   "execution_count": 29,
   "metadata": {},
   "outputs": [
    {
     "name": "stderr",
     "output_type": "stream",
     "text": [
      "C:\\Users\\Humuhumu\\AppData\\Local\\Temp/ipykernel_1732/3445221097.py:12: FutureWarning: Comparison of Timestamp with datetime.date is deprecated in order to match the standard library behavior.  In a future version these will be considered non-comparable.Use 'ts == pd.Timestamp(date)' or 'ts.date() == date' instead.\n",
      "  if reddit_df.iloc[_]['parsed_dates'] not in yfi_dates:\n",
      "C:\\Users\\Humuhumu\\AppData\\Local\\Temp/ipykernel_1732/3445221097.py:19: FutureWarning: Comparison of Timestamp with datetime.date is deprecated in order to match the standard library behavior.  In a future version these will be considered non-comparable.Use 'ts == pd.Timestamp(date)' or 'ts.date() == date' instead.\n",
      "  if yfinance_df.iloc[_]['parsed_dates'] not in reddit_dates:\n"
     ]
    },
    {
     "data": {
      "text/plain": [
       "1"
      ]
     },
     "execution_count": 29,
     "metadata": {},
     "output_type": "execute_result"
    }
   ],
   "source": [
    "match_dates(dis_yfinance, weekday_df)"
   ]
  },
  {
   "cell_type": "code",
   "execution_count": 30,
   "metadata": {},
   "outputs": [
    {
     "data": {
      "text/plain": [
       "True"
      ]
     },
     "execution_count": 30,
     "metadata": {},
     "output_type": "execute_result"
    }
   ],
   "source": [
    "len(weekday_df) == len(dis_yfinance)"
   ]
  },
  {
   "cell_type": "markdown",
   "metadata": {},
   "source": [
    "### Ticker plot of Dis prices from 12/05/2014 to 12/05/2021"
   ]
  },
  {
   "cell_type": "code",
   "execution_count": 31,
   "metadata": {},
   "outputs": [
    {
     "data": {
      "text/plain": [
       "Text(0, 0.5, 'Closing Price (USD)')"
      ]
     },
     "execution_count": 31,
     "metadata": {},
     "output_type": "execute_result"
    },
    {
     "data": {
      "image/png": "[encoded data removed]",
      "text/plain": [
       "<Figure size 1008x576 with 1 Axes>"
      ]
     },
     "metadata": {
      "needs_background": "light"
     },
     "output_type": "display_data"
    }
   ],
   "source": [
    "plt.figure(figsize=(14,8))\n",
    "\n",
    "plt.plot(dis_yfinance['parsed_dates'], dis_yfinance['Close'])\n",
    "plt.title(\"DIS Ticker\")\n",
    "plt.xlabel(\"Year\")\n",
    "plt.ylabel(\"Closing Price (USD)\")"
   ]
  },
  {
   "cell_type": "markdown",
   "metadata": {},
   "source": [
    "## Plots of subreddit submission metrics"
   ]
  },
  {
   "cell_type": "code",
   "execution_count": 32,
   "metadata": {},
   "outputs": [
    {
     "data": {
      "text/plain": [
       "Text(0, 0.5, 'Score')"
      ]
     },
     "execution_count": 32,
     "metadata": {},
     "output_type": "execute_result"
    },
    {
     "data": {
      "image/png": "[encoded data removed]",
      "text/plain": [
       "<Figure size 1152x576 with 1 Axes>"
      ]
     },
     "metadata": {
      "needs_background": "light"
     },
     "output_type": "display_data"
    }
   ],
   "source": [
    "plt.figure(figsize=(16,8))\n",
    "\n",
    "plt.scatter(weekday_df['parsed_dates'], weekday_df['score'])\n",
    "plt.xticks(rotation=270)\n",
    "plt.title(\"Reddit Submission Scores\")\n",
    "plt.xlabel(\"Year\")\n",
    "plt.ylabel(\"Score\")"
   ]
  },
  {
   "cell_type": "code",
   "execution_count": 33,
   "metadata": {},
   "outputs": [
    {
     "data": {
      "text/plain": [
       "Text(0, 0.5, '# of Comments')"
      ]
     },
     "execution_count": 33,
     "metadata": {},
     "output_type": "execute_result"
    },
    {
     "data": {
      "image/png": "[encoded data removed]",
      "text/plain": [
       "<Figure size 1152x576 with 1 Axes>"
      ]
     },
     "metadata": {
      "needs_background": "light"
     },
     "output_type": "display_data"
    }
   ],
   "source": [
    "plt.figure(figsize=(16,8))\n",
    "\n",
    "plt.scatter(weekday_df['parsed_dates'], weekday_df['num_comments'])\n",
    "plt.xticks(rotation=270)\n",
    "plt.title(\"Reddit Post # of Comments\")\n",
    "plt.xlabel(\"Year\")\n",
    "plt.ylabel(\"# of Comments\")"
   ]
  },
  {
   "cell_type": "markdown",
   "metadata": {},
   "source": [
    "## Linear Regressions of stock prices as a function of subreddit submission metrics"
   ]
  },
  {
   "cell_type": "code",
   "execution_count": 34,
   "metadata": {},
   "outputs": [],
   "source": [
    "X_score = weekday_df['score']\n",
    "X_coms = weekday_df['num_comments']\n",
    "y = dis_yfinance['Close']"
   ]
  },
  {
   "cell_type": "code",
   "execution_count": 35,
   "metadata": {},
   "outputs": [
    {
     "name": "stdout",
     "output_type": "stream",
     "text": [
      "Linear regression of stock prices as function of subreddit post scores: \n",
      "LinregressResult(slope=-0.006218338693423074, intercept=184.29438537935422, rvalue=-0.19089032377731321, pvalue=5.36867640166045e-18, stderr=0.0007125253269212731, intercept_stderr=5.957948727152415)\n",
      "\n",
      "Linear regression of stock prices as function of number of comments on subreddit posts: \n",
      "LinregressResult(slope=0.02380231832547057, intercept=117.40175468424945, rvalue=0.19093358886499293, pvalue=5.275619138811706e-18, stderr=0.0027267357236758125, intercept_stderr=7.155775576281899)\n"
     ]
    }
   ],
   "source": [
    "linreg_score = linregress(weekday_df['score'], dis_yfinance['Close'])\n",
    "print(f\"Linear regression of stock prices as function of subreddit post scores: \\n{linreg_score}\\n\")\n",
    "\n",
    "linreg_coms = linregress(weekday_df['num_comments'], dis_yfinance['Close'])\n",
    "print(f\"Linear regression of stock prices as function of number of comments on subreddit posts: \\n{linreg_coms}\")"
   ]
  },
  {
   "cell_type": "code",
   "execution_count": 36,
   "metadata": {},
   "outputs": [
    {
     "name": "stdout",
     "output_type": "stream",
     "text": [
      "Linear regression of stock prices as function of subreddit post scores\n",
      "The slope is: -0.006218338693423074\n",
      "The Interecept is: 184.29438537935422\n",
      "The p.value is: 5.36867640166045e-18\n",
      "\n",
      "Linear regression of stock prices as function of number of comments on subreddit posts\n",
      "The slope is: 0.02380231832547057\n",
      "The Interecept is: 117.40175468424945\n",
      "The p.value is: 5.275619138811706e-18\n"
     ]
    }
   ],
   "source": [
    "print(\"Linear regression of stock prices as function of subreddit post scores\")\n",
    "print(f\"The slope is: {linreg_score.slope}\")\n",
    "print(f\"The Interecept is: {linreg_score.intercept}\")\n",
    "print(f\"The p.value is: {linreg_score.pvalue}\\n\")\n",
    "\n",
    "print(\"Linear regression of stock prices as function of number of comments on subreddit posts\")\n",
    "print(f\"The slope is: {linreg_coms.slope}\")\n",
    "print(f\"The Interecept is: {linreg_coms.intercept}\")\n",
    "print(f\"The p.value is: {linreg_coms.pvalue}\")"
   ]
  },
  {
   "cell_type": "code",
   "execution_count": 37,
   "metadata": {},
   "outputs": [
    {
     "data": {
      "text/plain": [
       "Text(0, 0.5, 'Stock Prices ($)')"
      ]
     },
     "execution_count": 37,
     "metadata": {},
     "output_type": "execute_result"
    },
    {
     "data": {
      "image/png": "[encoded data removed]",
      "text/plain": [
       "<Figure size 1008x576 with 1 Axes>"
      ]
     },
     "metadata": {
      "needs_background": "light"
     },
     "output_type": "display_data"
    }
   ],
   "source": [
    "plt.figure(figsize=(14,8))\n",
    "\n",
    "x_axis = np.arange(max(X_score))\n",
    "y_line = linreg_score.intercept + linreg_score.slope * x_axis\n",
    "\n",
    "plt.scatter(X_score, y)\n",
    "\n",
    "plt.plot(x_axis, y_line, color='red', linewidth=4, alpha=0.5)\n",
    "plt.title(\"Scores and DIS\")\n",
    "plt.xlabel(\"Reddit Post Scores\")\n",
    "plt.ylabel(\"Stock Prices ($)\")"
   ]
  },
  {
   "cell_type": "code",
   "execution_count": 38,
   "metadata": {},
   "outputs": [
    {
     "data": {
      "text/plain": [
       "Text(0, 0.5, 'Stock Prices ($)')"
      ]
     },
     "execution_count": 38,
     "metadata": {},
     "output_type": "execute_result"
    },
    {
     "data": {
      "image/png": "[encoded data removed]",
      "text/plain": [
       "<Figure size 1008x576 with 1 Axes>"
      ]
     },
     "metadata": {
      "needs_background": "light"
     },
     "output_type": "display_data"
    }
   ],
   "source": [
    "plt.figure(figsize=(14,8))\n",
    "\n",
    "x_axis = np.arange(max(X_coms))\n",
    "y_line = linreg_coms.intercept + linreg_coms.slope * x_axis\n",
    "\n",
    "plt.scatter(X_coms, y)\n",
    "\n",
    "plt.plot(x_axis, y_line, color='red', linewidth=4, alpha=0.5)\n",
    "plt.title(\"# of Comments and DIS\")\n",
    "plt.xlabel(\"Reddit Post # of Comments\")\n",
    "plt.ylabel(\"Stock Prices ($)\")"
   ]
  },
  {
   "cell_type": "code",
   "execution_count": null,
   "metadata": {},
   "outputs": [],
   "source": []
  }
 ],
 "metadata": {
  "kernelspec": {
   "display_name": "Python 3 (ipykernel)",
   "language": "python",
   "name": "python3"
  },
  "language_info": {
   "codemirror_mode": {
    "name": "ipython",
    "version": 3
   },
   "file_extension": ".py",
   "mimetype": "text/x-python",
   "name": "python",
   "nbconvert_exporter": "python",
   "pygments_lexer": "ipython3",
   "version": "3.9.7"
  }
 },
 "nbformat": 4,
 "nbformat_minor": 4
}
