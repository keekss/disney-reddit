{
 "cells": [
  {
   "cell_type": "code",
   "execution_count": null,
   "metadata": {},
   "outputs": [],
   "source": [
    "import pandas as pd\n",
    "from pmaw import PushshiftAPI\n",
    "import matplotlib.pyplot as plt"
   ]
  },
  {
   "cell_type": "markdown",
   "metadata": {},
   "source": [
    "## Download dataset\n",
    "\n",
    "### Running will make pull request, unneccessary and takes forever so only uncomment if need to make a new dataset. Work from csv instead."
   ]
  },
  {
   "cell_type": "markdown",
   "metadata": {},
   "source": [
    "### Example of pulling a specified number of posts (aka submissions) from a subreddit"
   ]
  },
  {
   "cell_type": "code",
   "execution_count": null,
   "metadata": {},
   "outputs": [],
   "source": [
    "api = PushshiftAPI()\n",
    "\n",
    "# Replace value for subreddit with desired subreddit name, case-sensitive\n",
    "# Replace value for limit to set desired number of submissions(posts) to pull\n",
    "# limit=None will pull all submissions(posts) from the subreddit\n",
    "# Beware, pulling all posts will take time, mem, cpu\n",
    "submissions = api.search_submissions(subreddit=\"disney\", limit=500)\n",
    "\n",
    "sub_df = pd.DataFrame(submissions)\n",
    "\n",
    "# Rename path, leaving the rest of the parameters should be fine\n",
    "sub_df.to_csv('./data/disney_500_subs.csv', header=True, index=False, columns=list(sub_df.axes[1]))"
   ]
  },
  {
   "cell_type": "markdown",
   "metadata": {},
   "source": [
    "### Example of pulling all posts (aka submissions) from a subreddit\n",
    "##### Beware, pulling all posts will take time, mem, cpu"
   ]
  },
  {
   "cell_type": "code",
   "execution_count": null,
   "metadata": {},
   "outputs": [],
   "source": [
    "all_submissions = api.search_submissions(subreddit=\"disney\", limit=None)\n",
    "\n",
    "all_sub_df = pd.DataFrame(all_submissions)\n",
    "\n",
    "# Rename path, leave the rest of the parameters\n",
    "sub_df.to_csv('./data/disney_all_subs.csv', header=True, index=False, columns=list(sub_df.axes[1]))"
   ]
  },
  {
   "cell_type": "markdown",
   "metadata": {},
   "source": [
    "## Comments\n",
    "\n",
    "### Download comments based on submissions pulled in above query. \n",
    "#### This code block will only the comments of the submissions queried above and saves to a csv. It takes much longer than simply pulling submissions\n",
    "\n",
    "###### Running will make pull request, unneccessary and takes forever so only uncomment if need to make a new dataset. Work from csv instead."
   ]
  },
  {
   "cell_type": "code",
   "execution_count": null,
   "metadata": {},
   "outputs": [],
   "source": [
    "# Replace path\n",
    "subs_df = pd.read_csv('./data/disney_500_subs.csv',header=0) \n",
    "\n",
    "sub_ids = list(subs_df.loc[:, 'id']) \n",
    "\n",
    "# retrieve comment ids for submissions\n",
    "comment_ids = api.search_submission_comment_ids(ids=sub_ids)\n",
    "comment_ids = list(comment_ids)\n",
    "\n",
    "# retrieve comments by id\n",
    "comments = api.search_comments(ids=comment_ids)\n",
    "\n",
    "comments_df = pd.DataFrame(comments)\n",
    "\n",
    "# Replace path\n",
    "comments_df.to_csv('./data/disney_500_comments.csv', header=True, index=False, columns=list(comments_df.axes[1]))"
   ]
  },
  {
   "cell_type": "code",
   "execution_count": null,
   "metadata": {},
   "outputs": [],
   "source": [
    "# View columns of dataset df\n",
    "sub_df.columns"
   ]
  },
  {
   "cell_type": "code",
   "execution_count": 1,
   "metadata": {},
   "outputs": [
    {
     "ename": "NameError",
     "evalue": "name 'sub_df' is not defined",
     "output_type": "error",
     "traceback": [
      "\u001b[1;31m---------------------------------------------------------------------------\u001b[0m",
      "\u001b[1;31mNameError\u001b[0m                                 Traceback (most recent call last)",
      "\u001b[1;32m<ipython-input-1-66bca1fb78df>\u001b[0m in \u001b[0;36m<module>\u001b[1;34m\u001b[0m\n\u001b[0;32m      1\u001b[0m \u001b[1;31m# Returns column of dates when submissions were created\u001b[0m\u001b[1;33m\u001b[0m\u001b[1;33m\u001b[0m\u001b[1;33m\u001b[0m\u001b[0m\n\u001b[1;32m----> 2\u001b[1;33m \u001b[0msub_df\u001b[0m\u001b[1;33m.\u001b[0m\u001b[0mcreated_utc\u001b[0m\u001b[1;33m\u001b[0m\u001b[1;33m\u001b[0m\u001b[0m\n\u001b[0m",
      "\u001b[1;31mNameError\u001b[0m: name 'sub_df' is not defined"
     ]
    }
   ],
   "source": [
    "# Returns column of dates when submissions were created\n",
    "# Times are UTC timezone and Unix in format\n",
    "sub_df.created_utc"
   ]
  },
  {
   "cell_type": "code",
   "execution_count": null,
   "metadata": {},
   "outputs": [],
   "source": [
    "# Single example of converting from Unix date-time to readable string date-time format\n",
    "\n",
    "from datetime import datetime\n",
    "\n",
    "ts = sub_df.created_utc[0]\n",
    "print(ts)\n",
    "print(datetime.utcfromtimestamp(ts).strftime('%m-%d-%Y'))"
   ]
  },
  {
   "cell_type": "code",
   "execution_count": null,
   "metadata": {},
   "outputs": [],
   "source": [
    "# Create a new list of all Unix times in readable string date-time format\n",
    "\n",
    "sub_dates = []\n",
    "\n",
    "for _ in sub_df['created_utc']:\n",
    "    fts = datetime.utcfromtimestamp(_).strftime('%m-%d-%Y')\n",
    "    sub_dates.append(fts)"
   ]
  },
  {
   "cell_type": "code",
   "execution_count": null,
   "metadata": {},
   "outputs": [],
   "source": [
    "all_sub_dates = []\n",
    "\n",
    "for _ in all_sub_df['created_utc']:\n",
    "    fts = datetime.utcfromtimestamp(_).strftime('%m-%d-%Y')\n",
    "    all_sub_dates.append(fts)\n",
    "    \n",
    "all_sub_df['creation_date'] = all_sub_dates"
   ]
  },
  {
   "cell_type": "code",
   "execution_count": null,
   "metadata": {},
   "outputs": [],
   "source": [
    "all_sub_df.to_csv('./data/disney_all_subs_w_dates.csv', header=True, index=False, columns=list(sub_df.axes[1]))"
   ]
  },
  {
   "cell_type": "code",
   "execution_count": null,
   "metadata": {},
   "outputs": [],
   "source": [
    "comments_df.columns"
   ]
  },
  {
   "cell_type": "code",
   "execution_count": null,
   "metadata": {},
   "outputs": [],
   "source": [
    "com_dates = []\n",
    "\n",
    "for _ in comments_df['created_utc']:\n",
    "    fts = datetime.utcfromtimestamp(_).strftime('%m-%d-%Y')\n",
    "    com_dates.append(fts)"
   ]
  },
  {
   "cell_type": "code",
   "execution_count": null,
   "metadata": {},
   "outputs": [],
   "source": [
    "comments_df['creation_date'] = com_dates"
   ]
  },
  {
   "cell_type": "code",
   "execution_count": null,
   "metadata": {},
   "outputs": [],
   "source": [
    "comments_df"
   ]
  },
  {
   "cell_type": "code",
   "execution_count": null,
   "metadata": {},
   "outputs": [],
   "source": [
    "sub_df.columns"
   ]
  },
  {
   "cell_type": "code",
   "execution_count": null,
   "metadata": {},
   "outputs": [],
   "source": [
    "sub_df['score']"
   ]
  },
  {
   "cell_type": "code",
   "execution_count": null,
   "metadata": {},
   "outputs": [],
   "source": [
    "sub_df['total_awards_received']"
   ]
  },
  {
   "cell_type": "code",
   "execution_count": null,
   "metadata": {},
   "outputs": [],
   "source": [
    "plt.figure(figsize=(16,8))\n",
    "\n",
    "plt.scatter(sub_df['creation_date'], sub_df['score'])\n",
    "plt.xticks(rotation=300)"
   ]
  },
  {
   "cell_type": "code",
   "execution_count": null,
   "metadata": {},
   "outputs": [],
   "source": [
    "plt.scatter(all_sub_df['creation_date'], all_sub_df['score'])\n",
    "plt.xticks(rotation=300)"
   ]
  },
  {
   "cell_type": "code",
   "execution_count": null,
   "metadata": {},
   "outputs": [],
   "source": [
    "all_sub_df['score'].max()"
   ]
  },
  {
   "cell_type": "code",
   "execution_count": null,
   "metadata": {},
   "outputs": [],
   "source": [
    "for _ in all_sub_df:\n",
    "    if _['score'] == 28095:\n",
    "        print(_)"
   ]
  },
  {
   "cell_type": "code",
   "execution_count": null,
   "metadata": {},
   "outputs": [],
   "source": []
  }
 ],
 "metadata": {
  "kernelspec": {
   "display_name": "Python 3 (ipykernel)",
   "language": "python",
   "name": "python3"
  },
  "language_info": {
   "codemirror_mode": {
    "name": "ipython",
    "version": 3
   },
   "file_extension": ".py",
   "mimetype": "text/x-python",
   "name": "python",
   "nbconvert_exporter": "python",
   "pygments_lexer": "ipython3",
   "version": "3.9.7"
  }
 },
 "nbformat": 4,
 "nbformat_minor": 4
}
